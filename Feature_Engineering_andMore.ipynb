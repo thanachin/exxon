{
 "cells": [
  {
   "cell_type": "code",
   "execution_count": 1,
   "id": "8bd78316",
   "metadata": {},
   "outputs": [],
   "source": [
    "import pandas as pd"
   ]
  },
  {
   "cell_type": "code",
   "execution_count": 2,
   "id": "44f4ec9e",
   "metadata": {},
   "outputs": [],
   "source": [
    "from datetime import date\n",
    "from dateutil.relativedelta import relativedelta"
   ]
  },
  {
   "cell_type": "code",
   "execution_count": 3,
   "id": "6bbef537",
   "metadata": {},
   "outputs": [],
   "source": [
    "df = pd.read_csv('Inbound_Cleaned(All dup) (4).csv')\n",
    "mat = pd.read_csv('MaterialMaster.csv')"
   ]
  },
  {
   "cell_type": "code",
   "execution_count": null,
   "id": "cb90d00c",
   "metadata": {},
   "outputs": [
    {
     "data": {
      "application/vnd.microsoft.datawrangler.viewer.v0+json": {
       "columns": [
        {
         "name": "index",
         "rawType": "int64",
         "type": "integer"
        },
        {
         "name": "INBOUND_DATE",
         "rawType": "object",
         "type": "string"
        },
        {
         "name": "PLANT_NAME",
         "rawType": "object",
         "type": "string"
        },
        {
         "name": "MATERIAL_NAME",
         "rawType": "object",
         "type": "string"
        },
        {
         "name": "NET_QUANTITY_MT",
         "rawType": "float64",
         "type": "float"
        },
        {
         "name": "POLYMER_TYPE",
         "rawType": "object",
         "type": "string"
        },
        {
         "name": "SHELF_LIFE_IN_MONTH",
         "rawType": "int64",
         "type": "integer"
        },
        {
         "name": "DOWNGRADE_VALUE_LOST_PERCENT",
         "rawType": "int64",
         "type": "integer"
        }
       ],
       "ref": "6dbf8899-8843-4dee-8181-1e9eaedc7e60",
       "rows": [
        [
         "0",
         "2023-12-15",
         "SINGAPORE-WAREHOUSE",
         "MAT-0354",
         "23.375",
         "P-001",
         "7",
         "25"
        ],
        [
         "1",
         "2023-12-22",
         "SINGAPORE-WAREHOUSE",
         "MAT-0413",
         "1.375",
         "P-001",
         "7",
         "20"
        ],
        [
         "2",
         "2023-12-22",
         "SINGAPORE-WAREHOUSE",
         "MAT-0413",
         "23.375",
         "P-001",
         "7",
         "20"
        ],
        [
         "3",
         "2023-12-22",
         "SINGAPORE-WAREHOUSE",
         "MAT-0413",
         "24.75",
         "P-001",
         "7",
         "20"
        ],
        [
         "4",
         "2023-12-22",
         "SINGAPORE-WAREHOUSE",
         "MAT-0413",
         "19.25",
         "P-001",
         "7",
         "20"
        ]
       ],
       "shape": {
        "columns": 7,
        "rows": 5
       }
      },
      "text/html": [
       "<div>\n",
       "<style scoped>\n",
       "    .dataframe tbody tr th:only-of-type {\n",
       "        vertical-align: middle;\n",
       "    }\n",
       "\n",
       "    .dataframe tbody tr th {\n",
       "        vertical-align: top;\n",
       "    }\n",
       "\n",
       "    .dataframe thead th {\n",
       "        text-align: right;\n",
       "    }\n",
       "</style>\n",
       "<table border=\"1\" class=\"dataframe\">\n",
       "  <thead>\n",
       "    <tr style=\"text-align: right;\">\n",
       "      <th></th>\n",
       "      <th>INBOUND_DATE</th>\n",
       "      <th>PLANT_NAME</th>\n",
       "      <th>MATERIAL_NAME</th>\n",
       "      <th>NET_QUANTITY_MT</th>\n",
       "      <th>POLYMER_TYPE</th>\n",
       "      <th>SHELF_LIFE_IN_MONTH</th>\n",
       "      <th>DOWNGRADE_VALUE_LOST_PERCENT</th>\n",
       "    </tr>\n",
       "  </thead>\n",
       "  <tbody>\n",
       "    <tr>\n",
       "      <th>0</th>\n",
       "      <td>2023-12-15</td>\n",
       "      <td>SINGAPORE-WAREHOUSE</td>\n",
       "      <td>MAT-0354</td>\n",
       "      <td>23.375</td>\n",
       "      <td>P-001</td>\n",
       "      <td>7</td>\n",
       "      <td>25</td>\n",
       "    </tr>\n",
       "    <tr>\n",
       "      <th>1</th>\n",
       "      <td>2023-12-22</td>\n",
       "      <td>SINGAPORE-WAREHOUSE</td>\n",
       "      <td>MAT-0413</td>\n",
       "      <td>1.375</td>\n",
       "      <td>P-001</td>\n",
       "      <td>7</td>\n",
       "      <td>20</td>\n",
       "    </tr>\n",
       "    <tr>\n",
       "      <th>2</th>\n",
       "      <td>2023-12-22</td>\n",
       "      <td>SINGAPORE-WAREHOUSE</td>\n",
       "      <td>MAT-0413</td>\n",
       "      <td>23.375</td>\n",
       "      <td>P-001</td>\n",
       "      <td>7</td>\n",
       "      <td>20</td>\n",
       "    </tr>\n",
       "    <tr>\n",
       "      <th>3</th>\n",
       "      <td>2023-12-22</td>\n",
       "      <td>SINGAPORE-WAREHOUSE</td>\n",
       "      <td>MAT-0413</td>\n",
       "      <td>24.750</td>\n",
       "      <td>P-001</td>\n",
       "      <td>7</td>\n",
       "      <td>20</td>\n",
       "    </tr>\n",
       "    <tr>\n",
       "      <th>4</th>\n",
       "      <td>2023-12-22</td>\n",
       "      <td>SINGAPORE-WAREHOUSE</td>\n",
       "      <td>MAT-0413</td>\n",
       "      <td>19.250</td>\n",
       "      <td>P-001</td>\n",
       "      <td>7</td>\n",
       "      <td>20</td>\n",
       "    </tr>\n",
       "  </tbody>\n",
       "</table>\n",
       "</div>"
      ],
      "text/plain": [
       "  INBOUND_DATE           PLANT_NAME MATERIAL_NAME  NET_QUANTITY_MT  \\\n",
       "0   2023-12-15  SINGAPORE-WAREHOUSE      MAT-0354           23.375   \n",
       "1   2023-12-22  SINGAPORE-WAREHOUSE      MAT-0413            1.375   \n",
       "2   2023-12-22  SINGAPORE-WAREHOUSE      MAT-0413           23.375   \n",
       "3   2023-12-22  SINGAPORE-WAREHOUSE      MAT-0413           24.750   \n",
       "4   2023-12-22  SINGAPORE-WAREHOUSE      MAT-0413           19.250   \n",
       "\n",
       "  POLYMER_TYPE  SHELF_LIFE_IN_MONTH  DOWNGRADE_VALUE_LOST_PERCENT  \n",
       "0        P-001                    7                            25  \n",
       "1        P-001                    7                            20  \n",
       "2        P-001                    7                            20  \n",
       "3        P-001                    7                            20  \n",
       "4        P-001                    7                            20  "
      ]
     },
     "execution_count": 36,
     "metadata": {},
     "output_type": "execute_result"
    }
   ],
   "source": [
    "# merge the two dataframes on MATERIAL_NAME\n",
    "# Ensure that the MATERIAL_NAME column exists in both dataframes\n",
    "merged = pd.merge(df, mat, on='MATERIAL_NAME', how='left')\n",
    "merged.head()"
   ]
  },
  {
   "cell_type": "code",
   "execution_count": null,
   "id": "70aca90b",
   "metadata": {},
   "outputs": [],
   "source": [
    "def add_shouldbeoutbound(data_merged):\n",
    "\t# Ensure INBOUND_DATE is datetime\n",
    "\tdata_merged['INBOUND_DATE'] = pd.to_datetime(data_merged['INBOUND_DATE'])\n",
    "\n",
    "\t# Calculate ShouldBeOutboundMonth row-wise\n",
    "\tdata_merged['ShouldBeOutbound'] = data_merged.apply(\n",
    "\t\tlambda row: row['INBOUND_DATE'] + relativedelta(months=int(row['SHELF_LIFE_IN_MONTH'])),\n",
    "\t\taxis=1)\n",
    "\n",
    "\t# Convert ShouldBeOutbound to Month period\n",
    "\t# This will give the month of the ShouldBeOutbound date\n",
    "\tdata_merged['ShouldBeOutboundMonth'] = data_merged['ShouldBeOutbound'].dt.to_period('M')\n",
    "\n",
    "\t# Return the modified DataFrame\n",
    "\treturn data_merged\n"
   ]
  },
  {
   "cell_type": "code",
   "execution_count": 41,
   "id": "bd43aaa9",
   "metadata": {},
   "outputs": [
    {
     "data": {
      "application/vnd.microsoft.datawrangler.viewer.v0+json": {
       "columns": [
        {
         "name": "index",
         "rawType": "int64",
         "type": "integer"
        },
        {
         "name": "INBOUND_DATE",
         "rawType": "datetime64[ns]",
         "type": "datetime"
        },
        {
         "name": "PLANT_NAME",
         "rawType": "object",
         "type": "string"
        },
        {
         "name": "MATERIAL_NAME",
         "rawType": "object",
         "type": "string"
        },
        {
         "name": "NET_QUANTITY_MT",
         "rawType": "float64",
         "type": "float"
        },
        {
         "name": "POLYMER_TYPE",
         "rawType": "object",
         "type": "string"
        },
        {
         "name": "SHELF_LIFE_IN_MONTH",
         "rawType": "int64",
         "type": "integer"
        },
        {
         "name": "DOWNGRADE_VALUE_LOST_PERCENT",
         "rawType": "int64",
         "type": "integer"
        },
        {
         "name": "ShouldBeOutbound",
         "rawType": "datetime64[ns]",
         "type": "datetime"
        },
        {
         "name": "ShouldBeOutboundMonth",
         "rawType": "period[M]",
         "type": "unknown"
        }
       ],
       "ref": "780c5f13-1b32-44e2-9955-de3c73b28ede",
       "rows": [
        [
         "0",
         "2023-12-15 00:00:00",
         "SINGAPORE-WAREHOUSE",
         "MAT-0354",
         "23.375",
         "P-001",
         "7",
         "25",
         "2024-07-15 00:00:00",
         "2024-07"
        ],
        [
         "1",
         "2023-12-22 00:00:00",
         "SINGAPORE-WAREHOUSE",
         "MAT-0413",
         "1.375",
         "P-001",
         "7",
         "20",
         "2024-07-22 00:00:00",
         "2024-07"
        ],
        [
         "2",
         "2023-12-22 00:00:00",
         "SINGAPORE-WAREHOUSE",
         "MAT-0413",
         "23.375",
         "P-001",
         "7",
         "20",
         "2024-07-22 00:00:00",
         "2024-07"
        ],
        [
         "3",
         "2023-12-22 00:00:00",
         "SINGAPORE-WAREHOUSE",
         "MAT-0413",
         "24.75",
         "P-001",
         "7",
         "20",
         "2024-07-22 00:00:00",
         "2024-07"
        ],
        [
         "4",
         "2023-12-22 00:00:00",
         "SINGAPORE-WAREHOUSE",
         "MAT-0413",
         "19.25",
         "P-001",
         "7",
         "20",
         "2024-07-22 00:00:00",
         "2024-07"
        ]
       ],
       "shape": {
        "columns": 9,
        "rows": 5
       }
      },
      "text/html": [
       "<div>\n",
       "<style scoped>\n",
       "    .dataframe tbody tr th:only-of-type {\n",
       "        vertical-align: middle;\n",
       "    }\n",
       "\n",
       "    .dataframe tbody tr th {\n",
       "        vertical-align: top;\n",
       "    }\n",
       "\n",
       "    .dataframe thead th {\n",
       "        text-align: right;\n",
       "    }\n",
       "</style>\n",
       "<table border=\"1\" class=\"dataframe\">\n",
       "  <thead>\n",
       "    <tr style=\"text-align: right;\">\n",
       "      <th></th>\n",
       "      <th>INBOUND_DATE</th>\n",
       "      <th>PLANT_NAME</th>\n",
       "      <th>MATERIAL_NAME</th>\n",
       "      <th>NET_QUANTITY_MT</th>\n",
       "      <th>POLYMER_TYPE</th>\n",
       "      <th>SHELF_LIFE_IN_MONTH</th>\n",
       "      <th>DOWNGRADE_VALUE_LOST_PERCENT</th>\n",
       "      <th>ShouldBeOutbound</th>\n",
       "      <th>ShouldBeOutboundMonth</th>\n",
       "    </tr>\n",
       "  </thead>\n",
       "  <tbody>\n",
       "    <tr>\n",
       "      <th>0</th>\n",
       "      <td>2023-12-15</td>\n",
       "      <td>SINGAPORE-WAREHOUSE</td>\n",
       "      <td>MAT-0354</td>\n",
       "      <td>23.375</td>\n",
       "      <td>P-001</td>\n",
       "      <td>7</td>\n",
       "      <td>25</td>\n",
       "      <td>2024-07-15</td>\n",
       "      <td>2024-07</td>\n",
       "    </tr>\n",
       "    <tr>\n",
       "      <th>1</th>\n",
       "      <td>2023-12-22</td>\n",
       "      <td>SINGAPORE-WAREHOUSE</td>\n",
       "      <td>MAT-0413</td>\n",
       "      <td>1.375</td>\n",
       "      <td>P-001</td>\n",
       "      <td>7</td>\n",
       "      <td>20</td>\n",
       "      <td>2024-07-22</td>\n",
       "      <td>2024-07</td>\n",
       "    </tr>\n",
       "    <tr>\n",
       "      <th>2</th>\n",
       "      <td>2023-12-22</td>\n",
       "      <td>SINGAPORE-WAREHOUSE</td>\n",
       "      <td>MAT-0413</td>\n",
       "      <td>23.375</td>\n",
       "      <td>P-001</td>\n",
       "      <td>7</td>\n",
       "      <td>20</td>\n",
       "      <td>2024-07-22</td>\n",
       "      <td>2024-07</td>\n",
       "    </tr>\n",
       "    <tr>\n",
       "      <th>3</th>\n",
       "      <td>2023-12-22</td>\n",
       "      <td>SINGAPORE-WAREHOUSE</td>\n",
       "      <td>MAT-0413</td>\n",
       "      <td>24.750</td>\n",
       "      <td>P-001</td>\n",
       "      <td>7</td>\n",
       "      <td>20</td>\n",
       "      <td>2024-07-22</td>\n",
       "      <td>2024-07</td>\n",
       "    </tr>\n",
       "    <tr>\n",
       "      <th>4</th>\n",
       "      <td>2023-12-22</td>\n",
       "      <td>SINGAPORE-WAREHOUSE</td>\n",
       "      <td>MAT-0413</td>\n",
       "      <td>19.250</td>\n",
       "      <td>P-001</td>\n",
       "      <td>7</td>\n",
       "      <td>20</td>\n",
       "      <td>2024-07-22</td>\n",
       "      <td>2024-07</td>\n",
       "    </tr>\n",
       "  </tbody>\n",
       "</table>\n",
       "</div>"
      ],
      "text/plain": [
       "  INBOUND_DATE           PLANT_NAME MATERIAL_NAME  NET_QUANTITY_MT  \\\n",
       "0   2023-12-15  SINGAPORE-WAREHOUSE      MAT-0354           23.375   \n",
       "1   2023-12-22  SINGAPORE-WAREHOUSE      MAT-0413            1.375   \n",
       "2   2023-12-22  SINGAPORE-WAREHOUSE      MAT-0413           23.375   \n",
       "3   2023-12-22  SINGAPORE-WAREHOUSE      MAT-0413           24.750   \n",
       "4   2023-12-22  SINGAPORE-WAREHOUSE      MAT-0413           19.250   \n",
       "\n",
       "  POLYMER_TYPE  SHELF_LIFE_IN_MONTH  DOWNGRADE_VALUE_LOST_PERCENT  \\\n",
       "0        P-001                    7                            25   \n",
       "1        P-001                    7                            20   \n",
       "2        P-001                    7                            20   \n",
       "3        P-001                    7                            20   \n",
       "4        P-001                    7                            20   \n",
       "\n",
       "  ShouldBeOutbound ShouldBeOutboundMonth  \n",
       "0       2024-07-15               2024-07  \n",
       "1       2024-07-22               2024-07  \n",
       "2       2024-07-22               2024-07  \n",
       "3       2024-07-22               2024-07  \n",
       "4       2024-07-22               2024-07  "
      ]
     },
     "execution_count": 41,
     "metadata": {},
     "output_type": "execute_result"
    }
   ],
   "source": [
    "add_shouldbeoutbound(merged).head()"
   ]
  },
  {
   "cell_type": "code",
   "execution_count": 38,
   "id": "716e8d14",
   "metadata": {},
   "outputs": [
    {
     "data": {
      "application/vnd.microsoft.datawrangler.viewer.v0+json": {
       "columns": [
        {
         "name": "index",
         "rawType": "int64",
         "type": "integer"
        },
        {
         "name": "INBOUND_DATE",
         "rawType": "datetime64[ns]",
         "type": "datetime"
        },
        {
         "name": "PLANT_NAME",
         "rawType": "object",
         "type": "string"
        },
        {
         "name": "MATERIAL_NAME",
         "rawType": "object",
         "type": "string"
        },
        {
         "name": "NET_QUANTITY_MT",
         "rawType": "float64",
         "type": "float"
        },
        {
         "name": "POLYMER_TYPE",
         "rawType": "object",
         "type": "string"
        },
        {
         "name": "SHELF_LIFE_IN_MONTH",
         "rawType": "int64",
         "type": "integer"
        },
        {
         "name": "DOWNGRADE_VALUE_LOST_PERCENT",
         "rawType": "int64",
         "type": "integer"
        },
        {
         "name": "ShouldBeOutbound",
         "rawType": "datetime64[ns]",
         "type": "datetime"
        }
       ],
       "ref": "494c5eed-eda1-4534-baea-9c7ead6c0dc9",
       "rows": [
        [
         "5913",
         "2024-10-21 00:00:00",
         "CHINA-WAREHOUSE",
         "MAT-0087",
         "24.75",
         "P-001",
         "3",
         "20",
         "2025-01-21 00:00:00"
        ],
        [
         "1356",
         "2024-05-19 00:00:00",
         "SINGAPORE-WAREHOUSE",
         "MAT-0309",
         "20.625",
         "P-001",
         "5",
         "15",
         "2024-10-19 00:00:00"
        ],
        [
         "1899",
         "2024-08-13 00:00:00",
         "SINGAPORE-WAREHOUSE",
         "MAT-0234",
         "13.75",
         "P-001",
         "5",
         "10",
         "2025-01-13 00:00:00"
        ],
        [
         "3479",
         "2024-03-03 00:00:00",
         "CHINA-WAREHOUSE",
         "MAT-0112",
         "1.375",
         "P-001",
         "6",
         "20",
         "2024-09-03 00:00:00"
        ],
        [
         "2719",
         "2023-12-31 00:00:00",
         "CHINA-WAREHOUSE",
         "MAT-0319",
         "24.75",
         "P-001",
         "8",
         "5",
         "2024-08-31 00:00:00"
        ],
        [
         "438",
         "2024-02-02 00:00:00",
         "SINGAPORE-WAREHOUSE",
         "MAT-0104",
         "24.75",
         "P-001",
         "6",
         "15",
         "2024-08-02 00:00:00"
        ],
        [
         "202",
         "2023-12-15 00:00:00",
         "SINGAPORE-WAREHOUSE",
         "MAT-0099",
         "5.5",
         "P-001",
         "6",
         "20",
         "2024-06-15 00:00:00"
        ],
        [
         "564",
         "2024-02-25 00:00:00",
         "SINGAPORE-WAREHOUSE",
         "MAT-0273",
         "19.25",
         "P-001",
         "8",
         "30",
         "2024-10-25 00:00:00"
        ],
        [
         "3361",
         "2024-02-09 00:00:00",
         "CHINA-WAREHOUSE",
         "MAT-0196",
         "5.0",
         "P-002",
         "4",
         "35",
         "2024-06-09 00:00:00"
        ],
        [
         "4769",
         "2024-05-27 00:00:00",
         "CHINA-WAREHOUSE",
         "MAT-0007",
         "24.75",
         "P-001",
         "2",
         "10",
         "2024-07-27 00:00:00"
        ]
       ],
       "shape": {
        "columns": 8,
        "rows": 10
       }
      },
      "text/html": [
       "<div>\n",
       "<style scoped>\n",
       "    .dataframe tbody tr th:only-of-type {\n",
       "        vertical-align: middle;\n",
       "    }\n",
       "\n",
       "    .dataframe tbody tr th {\n",
       "        vertical-align: top;\n",
       "    }\n",
       "\n",
       "    .dataframe thead th {\n",
       "        text-align: right;\n",
       "    }\n",
       "</style>\n",
       "<table border=\"1\" class=\"dataframe\">\n",
       "  <thead>\n",
       "    <tr style=\"text-align: right;\">\n",
       "      <th></th>\n",
       "      <th>INBOUND_DATE</th>\n",
       "      <th>PLANT_NAME</th>\n",
       "      <th>MATERIAL_NAME</th>\n",
       "      <th>NET_QUANTITY_MT</th>\n",
       "      <th>POLYMER_TYPE</th>\n",
       "      <th>SHELF_LIFE_IN_MONTH</th>\n",
       "      <th>DOWNGRADE_VALUE_LOST_PERCENT</th>\n",
       "      <th>ShouldBeOutbound</th>\n",
       "    </tr>\n",
       "  </thead>\n",
       "  <tbody>\n",
       "    <tr>\n",
       "      <th>5913</th>\n",
       "      <td>2024-10-21</td>\n",
       "      <td>CHINA-WAREHOUSE</td>\n",
       "      <td>MAT-0087</td>\n",
       "      <td>24.750</td>\n",
       "      <td>P-001</td>\n",
       "      <td>3</td>\n",
       "      <td>20</td>\n",
       "      <td>2025-01-21</td>\n",
       "    </tr>\n",
       "    <tr>\n",
       "      <th>1356</th>\n",
       "      <td>2024-05-19</td>\n",
       "      <td>SINGAPORE-WAREHOUSE</td>\n",
       "      <td>MAT-0309</td>\n",
       "      <td>20.625</td>\n",
       "      <td>P-001</td>\n",
       "      <td>5</td>\n",
       "      <td>15</td>\n",
       "      <td>2024-10-19</td>\n",
       "    </tr>\n",
       "    <tr>\n",
       "      <th>1899</th>\n",
       "      <td>2024-08-13</td>\n",
       "      <td>SINGAPORE-WAREHOUSE</td>\n",
       "      <td>MAT-0234</td>\n",
       "      <td>13.750</td>\n",
       "      <td>P-001</td>\n",
       "      <td>5</td>\n",
       "      <td>10</td>\n",
       "      <td>2025-01-13</td>\n",
       "    </tr>\n",
       "    <tr>\n",
       "      <th>3479</th>\n",
       "      <td>2024-03-03</td>\n",
       "      <td>CHINA-WAREHOUSE</td>\n",
       "      <td>MAT-0112</td>\n",
       "      <td>1.375</td>\n",
       "      <td>P-001</td>\n",
       "      <td>6</td>\n",
       "      <td>20</td>\n",
       "      <td>2024-09-03</td>\n",
       "    </tr>\n",
       "    <tr>\n",
       "      <th>2719</th>\n",
       "      <td>2023-12-31</td>\n",
       "      <td>CHINA-WAREHOUSE</td>\n",
       "      <td>MAT-0319</td>\n",
       "      <td>24.750</td>\n",
       "      <td>P-001</td>\n",
       "      <td>8</td>\n",
       "      <td>5</td>\n",
       "      <td>2024-08-31</td>\n",
       "    </tr>\n",
       "    <tr>\n",
       "      <th>438</th>\n",
       "      <td>2024-02-02</td>\n",
       "      <td>SINGAPORE-WAREHOUSE</td>\n",
       "      <td>MAT-0104</td>\n",
       "      <td>24.750</td>\n",
       "      <td>P-001</td>\n",
       "      <td>6</td>\n",
       "      <td>15</td>\n",
       "      <td>2024-08-02</td>\n",
       "    </tr>\n",
       "    <tr>\n",
       "      <th>202</th>\n",
       "      <td>2023-12-15</td>\n",
       "      <td>SINGAPORE-WAREHOUSE</td>\n",
       "      <td>MAT-0099</td>\n",
       "      <td>5.500</td>\n",
       "      <td>P-001</td>\n",
       "      <td>6</td>\n",
       "      <td>20</td>\n",
       "      <td>2024-06-15</td>\n",
       "    </tr>\n",
       "    <tr>\n",
       "      <th>564</th>\n",
       "      <td>2024-02-25</td>\n",
       "      <td>SINGAPORE-WAREHOUSE</td>\n",
       "      <td>MAT-0273</td>\n",
       "      <td>19.250</td>\n",
       "      <td>P-001</td>\n",
       "      <td>8</td>\n",
       "      <td>30</td>\n",
       "      <td>2024-10-25</td>\n",
       "    </tr>\n",
       "    <tr>\n",
       "      <th>3361</th>\n",
       "      <td>2024-02-09</td>\n",
       "      <td>CHINA-WAREHOUSE</td>\n",
       "      <td>MAT-0196</td>\n",
       "      <td>5.000</td>\n",
       "      <td>P-002</td>\n",
       "      <td>4</td>\n",
       "      <td>35</td>\n",
       "      <td>2024-06-09</td>\n",
       "    </tr>\n",
       "    <tr>\n",
       "      <th>4769</th>\n",
       "      <td>2024-05-27</td>\n",
       "      <td>CHINA-WAREHOUSE</td>\n",
       "      <td>MAT-0007</td>\n",
       "      <td>24.750</td>\n",
       "      <td>P-001</td>\n",
       "      <td>2</td>\n",
       "      <td>10</td>\n",
       "      <td>2024-07-27</td>\n",
       "    </tr>\n",
       "  </tbody>\n",
       "</table>\n",
       "</div>"
      ],
      "text/plain": [
       "     INBOUND_DATE           PLANT_NAME MATERIAL_NAME  NET_QUANTITY_MT  \\\n",
       "5913   2024-10-21      CHINA-WAREHOUSE      MAT-0087           24.750   \n",
       "1356   2024-05-19  SINGAPORE-WAREHOUSE      MAT-0309           20.625   \n",
       "1899   2024-08-13  SINGAPORE-WAREHOUSE      MAT-0234           13.750   \n",
       "3479   2024-03-03      CHINA-WAREHOUSE      MAT-0112            1.375   \n",
       "2719   2023-12-31      CHINA-WAREHOUSE      MAT-0319           24.750   \n",
       "438    2024-02-02  SINGAPORE-WAREHOUSE      MAT-0104           24.750   \n",
       "202    2023-12-15  SINGAPORE-WAREHOUSE      MAT-0099            5.500   \n",
       "564    2024-02-25  SINGAPORE-WAREHOUSE      MAT-0273           19.250   \n",
       "3361   2024-02-09      CHINA-WAREHOUSE      MAT-0196            5.000   \n",
       "4769   2024-05-27      CHINA-WAREHOUSE      MAT-0007           24.750   \n",
       "\n",
       "     POLYMER_TYPE  SHELF_LIFE_IN_MONTH  DOWNGRADE_VALUE_LOST_PERCENT  \\\n",
       "5913        P-001                    3                            20   \n",
       "1356        P-001                    5                            15   \n",
       "1899        P-001                    5                            10   \n",
       "3479        P-001                    6                            20   \n",
       "2719        P-001                    8                             5   \n",
       "438         P-001                    6                            15   \n",
       "202         P-001                    6                            20   \n",
       "564         P-001                    8                            30   \n",
       "3361        P-002                    4                            35   \n",
       "4769        P-001                    2                            10   \n",
       "\n",
       "     ShouldBeOutbound  \n",
       "5913       2025-01-21  \n",
       "1356       2024-10-19  \n",
       "1899       2025-01-13  \n",
       "3479       2024-09-03  \n",
       "2719       2024-08-31  \n",
       "438        2024-08-02  \n",
       "202        2024-06-15  \n",
       "564        2024-10-25  \n",
       "3361       2024-06-09  \n",
       "4769       2024-07-27  "
      ]
     },
     "execution_count": 38,
     "metadata": {},
     "output_type": "execute_result"
    }
   ],
   "source": [
    "merged.sample(10)"
   ]
  },
  {
   "cell_type": "code",
   "execution_count": 7,
   "id": "4a3f898d",
   "metadata": {},
   "outputs": [],
   "source": [
    "outbound = pd.read_csv('outbound_clean.csv')\n",
    "operation = pd.read_csv('OperationCost.csv')"
   ]
  },
  {
   "cell_type": "code",
   "execution_count": 8,
   "id": "e2d12da4",
   "metadata": {},
   "outputs": [
    {
     "data": {
      "application/vnd.microsoft.datawrangler.viewer.v0+json": {
       "columns": [
        {
         "name": "index",
         "rawType": "int64",
         "type": "integer"
        },
        {
         "name": "OUTBOUND_DATE",
         "rawType": "object",
         "type": "string"
        },
        {
         "name": "PLANT_NAME",
         "rawType": "object",
         "type": "string"
        },
        {
         "name": "MODE_OF_TRANSPORT",
         "rawType": "object",
         "type": "string"
        },
        {
         "name": "MATERIAL_NAME",
         "rawType": "object",
         "type": "string"
        },
        {
         "name": "CUSTOMER_NUMBER",
         "rawType": "object",
         "type": "string"
        },
        {
         "name": "NET_QUANTITY_MT",
         "rawType": "float64",
         "type": "float"
        }
       ],
       "ref": "d47f992f-b442-4cbb-8782-3cd153b95970",
       "rows": [
        [
         "0",
         "2024/01/02",
         "CHINA-WAREHOUSE",
         "Truck",
         "MAT-0013",
         "CST-00001",
         "25.5"
        ],
        [
         "1",
         "2024/01/02",
         "CHINA-WAREHOUSE",
         "Truck",
         "MAT-0268",
         "CST-00002",
         "25.5"
        ],
        [
         "2",
         "2024/01/02",
         "CHINA-WAREHOUSE",
         "Truck",
         "MAT-0145",
         "CST-00003",
         "25.5"
        ],
        [
         "3",
         "2024/01/02",
         "CHINA-WAREHOUSE",
         "Truck",
         "MAT-0428",
         "CST-00004",
         "24.75"
        ],
        [
         "4",
         "2024/01/02",
         "CHINA-WAREHOUSE",
         "Truck",
         "MAT-0264",
         "CST-00005",
         "24.75"
        ]
       ],
       "shape": {
        "columns": 6,
        "rows": 5
       }
      },
      "text/html": [
       "<div>\n",
       "<style scoped>\n",
       "    .dataframe tbody tr th:only-of-type {\n",
       "        vertical-align: middle;\n",
       "    }\n",
       "\n",
       "    .dataframe tbody tr th {\n",
       "        vertical-align: top;\n",
       "    }\n",
       "\n",
       "    .dataframe thead th {\n",
       "        text-align: right;\n",
       "    }\n",
       "</style>\n",
       "<table border=\"1\" class=\"dataframe\">\n",
       "  <thead>\n",
       "    <tr style=\"text-align: right;\">\n",
       "      <th></th>\n",
       "      <th>OUTBOUND_DATE</th>\n",
       "      <th>PLANT_NAME</th>\n",
       "      <th>MODE_OF_TRANSPORT</th>\n",
       "      <th>MATERIAL_NAME</th>\n",
       "      <th>CUSTOMER_NUMBER</th>\n",
       "      <th>NET_QUANTITY_MT</th>\n",
       "    </tr>\n",
       "  </thead>\n",
       "  <tbody>\n",
       "    <tr>\n",
       "      <th>0</th>\n",
       "      <td>2024/01/02</td>\n",
       "      <td>CHINA-WAREHOUSE</td>\n",
       "      <td>Truck</td>\n",
       "      <td>MAT-0013</td>\n",
       "      <td>CST-00001</td>\n",
       "      <td>25.50</td>\n",
       "    </tr>\n",
       "    <tr>\n",
       "      <th>1</th>\n",
       "      <td>2024/01/02</td>\n",
       "      <td>CHINA-WAREHOUSE</td>\n",
       "      <td>Truck</td>\n",
       "      <td>MAT-0268</td>\n",
       "      <td>CST-00002</td>\n",
       "      <td>25.50</td>\n",
       "    </tr>\n",
       "    <tr>\n",
       "      <th>2</th>\n",
       "      <td>2024/01/02</td>\n",
       "      <td>CHINA-WAREHOUSE</td>\n",
       "      <td>Truck</td>\n",
       "      <td>MAT-0145</td>\n",
       "      <td>CST-00003</td>\n",
       "      <td>25.50</td>\n",
       "    </tr>\n",
       "    <tr>\n",
       "      <th>3</th>\n",
       "      <td>2024/01/02</td>\n",
       "      <td>CHINA-WAREHOUSE</td>\n",
       "      <td>Truck</td>\n",
       "      <td>MAT-0428</td>\n",
       "      <td>CST-00004</td>\n",
       "      <td>24.75</td>\n",
       "    </tr>\n",
       "    <tr>\n",
       "      <th>4</th>\n",
       "      <td>2024/01/02</td>\n",
       "      <td>CHINA-WAREHOUSE</td>\n",
       "      <td>Truck</td>\n",
       "      <td>MAT-0264</td>\n",
       "      <td>CST-00005</td>\n",
       "      <td>24.75</td>\n",
       "    </tr>\n",
       "  </tbody>\n",
       "</table>\n",
       "</div>"
      ],
      "text/plain": [
       "  OUTBOUND_DATE       PLANT_NAME MODE_OF_TRANSPORT MATERIAL_NAME  \\\n",
       "0    2024/01/02  CHINA-WAREHOUSE             Truck      MAT-0013   \n",
       "1    2024/01/02  CHINA-WAREHOUSE             Truck      MAT-0268   \n",
       "2    2024/01/02  CHINA-WAREHOUSE             Truck      MAT-0145   \n",
       "3    2024/01/02  CHINA-WAREHOUSE             Truck      MAT-0428   \n",
       "4    2024/01/02  CHINA-WAREHOUSE             Truck      MAT-0264   \n",
       "\n",
       "  CUSTOMER_NUMBER  NET_QUANTITY_MT  \n",
       "0       CST-00001            25.50  \n",
       "1       CST-00002            25.50  \n",
       "2       CST-00003            25.50  \n",
       "3       CST-00004            24.75  \n",
       "4       CST-00005            24.75  "
      ]
     },
     "execution_count": 8,
     "metadata": {},
     "output_type": "execute_result"
    }
   ],
   "source": [
    "outbound.head()"
   ]
  },
  {
   "cell_type": "code",
   "execution_count": null,
   "id": "0f55dba1",
   "metadata": {},
   "outputs": [
    {
     "data": {
      "text/plain": [
       "22179"
      ]
     },
     "execution_count": 49,
     "metadata": {},
     "output_type": "execute_result"
    }
   ],
   "source": [
    "# Groupby  PLANT_NAME OUTBOUND_DATE  MODE_OF_TRANSPORT MATERIAL_NAME CUSTOMER_NUMBER and sum NET_QUANTITY_MT\n",
    "outbound_group = outbound.groupby(\n",
    "    ['PLANT_NAME', 'OUTBOUND_DATE', 'MODE_OF_TRANSPORT', 'MATERIAL_NAME', 'CUSTOMER_NUMBER']\n",
    ")['NET_QUANTITY_MT'].sum().reset_index()\n",
    "\n"
   ]
  },
  {
   "cell_type": "code",
   "execution_count": 10,
   "id": "00f42ea3",
   "metadata": {},
   "outputs": [
    {
     "data": {
      "application/vnd.microsoft.datawrangler.viewer.v0+json": {
       "columns": [
        {
         "name": "index",
         "rawType": "int64",
         "type": "integer"
        },
        {
         "name": "Operation",
         "rawType": "object",
         "type": "string"
        },
        {
         "name": "Plant/Mode of Transport",
         "rawType": "object",
         "type": "string"
        },
        {
         "name": "Cost",
         "rawType": "float64",
         "type": "float"
        },
        {
         "name": "Currency",
         "rawType": "object",
         "type": "string"
        }
       ],
       "ref": "c0235059-2596-42e3-9bf2-ae51f610cb19",
       "rows": [
        [
         "0",
         "Inventory Storage per MT per day",
         "SINGAPORE WAREHOUSE",
         "15.0",
         "SGD"
        ],
        [
         "1",
         "Inventory Storage per MT per day",
         "CHINA WAREHOUSE",
         "1.7",
         "CNY"
        ],
        [
         "2",
         "Transfer cost per container (24.75MT)",
         "Truck",
         "150.0",
         "SGD"
        ],
        [
         "3",
         "Transfer cost per container (24.75MT)",
         "Marine",
         "75.0",
         "USD"
        ]
       ],
       "shape": {
        "columns": 4,
        "rows": 4
       }
      },
      "text/html": [
       "<div>\n",
       "<style scoped>\n",
       "    .dataframe tbody tr th:only-of-type {\n",
       "        vertical-align: middle;\n",
       "    }\n",
       "\n",
       "    .dataframe tbody tr th {\n",
       "        vertical-align: top;\n",
       "    }\n",
       "\n",
       "    .dataframe thead th {\n",
       "        text-align: right;\n",
       "    }\n",
       "</style>\n",
       "<table border=\"1\" class=\"dataframe\">\n",
       "  <thead>\n",
       "    <tr style=\"text-align: right;\">\n",
       "      <th></th>\n",
       "      <th>Operation</th>\n",
       "      <th>Plant/Mode of Transport</th>\n",
       "      <th>Cost</th>\n",
       "      <th>Currency</th>\n",
       "    </tr>\n",
       "  </thead>\n",
       "  <tbody>\n",
       "    <tr>\n",
       "      <th>0</th>\n",
       "      <td>Inventory Storage per MT per day</td>\n",
       "      <td>SINGAPORE WAREHOUSE</td>\n",
       "      <td>15.0</td>\n",
       "      <td>SGD</td>\n",
       "    </tr>\n",
       "    <tr>\n",
       "      <th>1</th>\n",
       "      <td>Inventory Storage per MT per day</td>\n",
       "      <td>CHINA WAREHOUSE</td>\n",
       "      <td>1.7</td>\n",
       "      <td>CNY</td>\n",
       "    </tr>\n",
       "    <tr>\n",
       "      <th>2</th>\n",
       "      <td>Transfer cost per container (24.75MT)</td>\n",
       "      <td>Truck</td>\n",
       "      <td>150.0</td>\n",
       "      <td>SGD</td>\n",
       "    </tr>\n",
       "    <tr>\n",
       "      <th>3</th>\n",
       "      <td>Transfer cost per container (24.75MT)</td>\n",
       "      <td>Marine</td>\n",
       "      <td>75.0</td>\n",
       "      <td>USD</td>\n",
       "    </tr>\n",
       "  </tbody>\n",
       "</table>\n",
       "</div>"
      ],
      "text/plain": [
       "                               Operation Plant/Mode of Transport   Cost  \\\n",
       "0       Inventory Storage per MT per day     SINGAPORE WAREHOUSE   15.0   \n",
       "1       Inventory Storage per MT per day         CHINA WAREHOUSE    1.7   \n",
       "2  Transfer cost per container (24.75MT)                   Truck  150.0   \n",
       "3  Transfer cost per container (24.75MT)                  Marine   75.0   \n",
       "\n",
       "  Currency  \n",
       "0      SGD  \n",
       "1      CNY  \n",
       "2      SGD  \n",
       "3      USD  "
      ]
     },
     "execution_count": 10,
     "metadata": {},
     "output_type": "execute_result"
    }
   ],
   "source": [
    "operation.head()"
   ]
  },
  {
   "cell_type": "markdown",
   "id": "a75e79ce",
   "metadata": {},
   "source": [
    "### Check how many row that NET_QUANTITY_MT more than 24.75"
   ]
  },
  {
   "cell_type": "code",
   "execution_count": null,
   "id": "0a6457ca",
   "metadata": {},
   "outputs": [],
   "source": [
    "# Check how many row that NET_QUANTITY_MT more than 24.75\n",
    "# outbound[outbound['NET_QUANTITY_MT'] > 24.75].shape[0]\n",
    "len(outbound)"
   ]
  },
  {
   "cell_type": "code",
   "execution_count": 11,
   "id": "f9908566",
   "metadata": {},
   "outputs": [],
   "source": [
    "transfer = operation[operation['Operation'] == 'Transfer cost per container (24.75MT)']"
   ]
  },
  {
   "cell_type": "code",
   "execution_count": 12,
   "id": "68c55236",
   "metadata": {},
   "outputs": [
    {
     "data": {
      "application/vnd.microsoft.datawrangler.viewer.v0+json": {
       "columns": [
        {
         "name": "index",
         "rawType": "int64",
         "type": "integer"
        },
        {
         "name": "Operation",
         "rawType": "object",
         "type": "string"
        },
        {
         "name": "Plant/Mode of Transport",
         "rawType": "object",
         "type": "string"
        },
        {
         "name": "Cost",
         "rawType": "float64",
         "type": "float"
        },
        {
         "name": "Currency",
         "rawType": "object",
         "type": "string"
        }
       ],
       "ref": "b37d8788-046b-43b8-bd40-e64f4678e0a7",
       "rows": [
        [
         "2",
         "Transfer cost per container (24.75MT)",
         "Truck",
         "150.0",
         "SGD"
        ],
        [
         "3",
         "Transfer cost per container (24.75MT)",
         "Marine",
         "75.0",
         "USD"
        ]
       ],
       "shape": {
        "columns": 4,
        "rows": 2
       }
      },
      "text/html": [
       "<div>\n",
       "<style scoped>\n",
       "    .dataframe tbody tr th:only-of-type {\n",
       "        vertical-align: middle;\n",
       "    }\n",
       "\n",
       "    .dataframe tbody tr th {\n",
       "        vertical-align: top;\n",
       "    }\n",
       "\n",
       "    .dataframe thead th {\n",
       "        text-align: right;\n",
       "    }\n",
       "</style>\n",
       "<table border=\"1\" class=\"dataframe\">\n",
       "  <thead>\n",
       "    <tr style=\"text-align: right;\">\n",
       "      <th></th>\n",
       "      <th>Operation</th>\n",
       "      <th>Plant/Mode of Transport</th>\n",
       "      <th>Cost</th>\n",
       "      <th>Currency</th>\n",
       "    </tr>\n",
       "  </thead>\n",
       "  <tbody>\n",
       "    <tr>\n",
       "      <th>2</th>\n",
       "      <td>Transfer cost per container (24.75MT)</td>\n",
       "      <td>Truck</td>\n",
       "      <td>150.0</td>\n",
       "      <td>SGD</td>\n",
       "    </tr>\n",
       "    <tr>\n",
       "      <th>3</th>\n",
       "      <td>Transfer cost per container (24.75MT)</td>\n",
       "      <td>Marine</td>\n",
       "      <td>75.0</td>\n",
       "      <td>USD</td>\n",
       "    </tr>\n",
       "  </tbody>\n",
       "</table>\n",
       "</div>"
      ],
      "text/plain": [
       "                               Operation Plant/Mode of Transport   Cost  \\\n",
       "2  Transfer cost per container (24.75MT)                   Truck  150.0   \n",
       "3  Transfer cost per container (24.75MT)                  Marine   75.0   \n",
       "\n",
       "  Currency  \n",
       "2      SGD  \n",
       "3      USD  "
      ]
     },
     "execution_count": 12,
     "metadata": {},
     "output_type": "execute_result"
    }
   ],
   "source": [
    "transfer"
   ]
  },
  {
   "cell_type": "code",
   "execution_count": 13,
   "id": "de816d00",
   "metadata": {},
   "outputs": [],
   "source": [
    "# calculate transfer cost\n",
    "def calculate_transfer_cost(row):\n",
    "    # Check how many trasnport we need to use from NET_QUANTITY_MT / 24.75 example 26 MT will need 2\n",
    "    if row['NET_QUANTITY_MT'] % 24.75 == 0:\n",
    "        num_transports = row['NET_QUANTITY_MT'] // 24.75\n",
    "    else:\n",
    "        num_transports = row['NET_QUANTITY_MT'] // 24.75 + 1\n",
    "\n",
    "    # Get the cost based on MODE_OF_TRANSPORT\n",
    "    if row['MODE_OF_TRANSPORT'] == 'Truck':\n",
    "        cost = num_transports * transfer['Cost'].values[0]\n",
    "    elif row['MODE_OF_TRANSPORT'] == 'Marine':\n",
    "        cost = num_transports * transfer['Cost'].values[1]\n",
    "\n",
    "    # Calculate SGD and CNY to USD\n",
    "    if row['PLANT_NAME'] == 'CHINA-WAREHOUSE':\n",
    "        cost =  cost / 7.85  # Example conversion rate\n",
    "    elif row['PLANT_NAME'] == 'SINGAPORE-WAREHOUSE':\n",
    "        cost =  cost * 0.14  # Example conversion rate\n",
    "    \n",
    "    return round(cost, 3)"
   ]
  },
  {
   "cell_type": "code",
   "execution_count": 14,
   "id": "da853de0",
   "metadata": {},
   "outputs": [],
   "source": [
    "outbound_group['Transfer_Cost'] = outbound_group.apply(calculate_transfer_cost, axis=1)"
   ]
  },
  {
   "cell_type": "code",
   "execution_count": 15,
   "id": "5a728c04",
   "metadata": {},
   "outputs": [],
   "source": [
    "outbound_group_merge = pd.merge(outbound_group, mat, on='MATERIAL_NAME', how='left')"
   ]
  },
  {
   "cell_type": "code",
   "execution_count": 16,
   "id": "9ca82112",
   "metadata": {},
   "outputs": [
    {
     "data": {
      "application/vnd.microsoft.datawrangler.viewer.v0+json": {
       "columns": [
        {
         "name": "index",
         "rawType": "int64",
         "type": "integer"
        },
        {
         "name": "PLANT_NAME",
         "rawType": "object",
         "type": "string"
        },
        {
         "name": "OUTBOUND_DATE",
         "rawType": "object",
         "type": "string"
        },
        {
         "name": "MODE_OF_TRANSPORT",
         "rawType": "object",
         "type": "string"
        },
        {
         "name": "MATERIAL_NAME",
         "rawType": "object",
         "type": "string"
        },
        {
         "name": "CUSTOMER_NUMBER",
         "rawType": "object",
         "type": "string"
        },
        {
         "name": "NET_QUANTITY_MT",
         "rawType": "float64",
         "type": "float"
        },
        {
         "name": "Transfer_Cost",
         "rawType": "float64",
         "type": "float"
        }
       ],
       "ref": "4ebd719e-e108-4a7c-95f1-71d051ff8f0f",
       "rows": [
        [
         "0",
         "CHINA-WAREHOUSE",
         "2024/01/02",
         "Truck",
         "MAT-0007",
         "CST-00023",
         "24.759999999999998",
         "38.217"
        ],
        [
         "1",
         "CHINA-WAREHOUSE",
         "2024/01/02",
         "Truck",
         "MAT-0013",
         "CST-00001",
         "25.5",
         "38.217"
        ],
        [
         "2",
         "CHINA-WAREHOUSE",
         "2024/01/02",
         "Truck",
         "MAT-0013",
         "CST-00031",
         "3.0",
         "19.108"
        ],
        [
         "3",
         "CHINA-WAREHOUSE",
         "2024/01/02",
         "Truck",
         "MAT-0015",
         "CST-00013",
         "24.75",
         "19.108"
        ],
        [
         "4",
         "CHINA-WAREHOUSE",
         "2024/01/02",
         "Truck",
         "MAT-0015",
         "CST-00014",
         "24.75",
         "19.108"
        ]
       ],
       "shape": {
        "columns": 7,
        "rows": 5
       }
      },
      "text/html": [
       "<div>\n",
       "<style scoped>\n",
       "    .dataframe tbody tr th:only-of-type {\n",
       "        vertical-align: middle;\n",
       "    }\n",
       "\n",
       "    .dataframe tbody tr th {\n",
       "        vertical-align: top;\n",
       "    }\n",
       "\n",
       "    .dataframe thead th {\n",
       "        text-align: right;\n",
       "    }\n",
       "</style>\n",
       "<table border=\"1\" class=\"dataframe\">\n",
       "  <thead>\n",
       "    <tr style=\"text-align: right;\">\n",
       "      <th></th>\n",
       "      <th>PLANT_NAME</th>\n",
       "      <th>OUTBOUND_DATE</th>\n",
       "      <th>MODE_OF_TRANSPORT</th>\n",
       "      <th>MATERIAL_NAME</th>\n",
       "      <th>CUSTOMER_NUMBER</th>\n",
       "      <th>NET_QUANTITY_MT</th>\n",
       "      <th>Transfer_Cost</th>\n",
       "    </tr>\n",
       "  </thead>\n",
       "  <tbody>\n",
       "    <tr>\n",
       "      <th>0</th>\n",
       "      <td>CHINA-WAREHOUSE</td>\n",
       "      <td>2024/01/02</td>\n",
       "      <td>Truck</td>\n",
       "      <td>MAT-0007</td>\n",
       "      <td>CST-00023</td>\n",
       "      <td>24.76</td>\n",
       "      <td>38.217</td>\n",
       "    </tr>\n",
       "    <tr>\n",
       "      <th>1</th>\n",
       "      <td>CHINA-WAREHOUSE</td>\n",
       "      <td>2024/01/02</td>\n",
       "      <td>Truck</td>\n",
       "      <td>MAT-0013</td>\n",
       "      <td>CST-00001</td>\n",
       "      <td>25.50</td>\n",
       "      <td>38.217</td>\n",
       "    </tr>\n",
       "    <tr>\n",
       "      <th>2</th>\n",
       "      <td>CHINA-WAREHOUSE</td>\n",
       "      <td>2024/01/02</td>\n",
       "      <td>Truck</td>\n",
       "      <td>MAT-0013</td>\n",
       "      <td>CST-00031</td>\n",
       "      <td>3.00</td>\n",
       "      <td>19.108</td>\n",
       "    </tr>\n",
       "    <tr>\n",
       "      <th>3</th>\n",
       "      <td>CHINA-WAREHOUSE</td>\n",
       "      <td>2024/01/02</td>\n",
       "      <td>Truck</td>\n",
       "      <td>MAT-0015</td>\n",
       "      <td>CST-00013</td>\n",
       "      <td>24.75</td>\n",
       "      <td>19.108</td>\n",
       "    </tr>\n",
       "    <tr>\n",
       "      <th>4</th>\n",
       "      <td>CHINA-WAREHOUSE</td>\n",
       "      <td>2024/01/02</td>\n",
       "      <td>Truck</td>\n",
       "      <td>MAT-0015</td>\n",
       "      <td>CST-00014</td>\n",
       "      <td>24.75</td>\n",
       "      <td>19.108</td>\n",
       "    </tr>\n",
       "  </tbody>\n",
       "</table>\n",
       "</div>"
      ],
      "text/plain": [
       "        PLANT_NAME OUTBOUND_DATE MODE_OF_TRANSPORT MATERIAL_NAME  \\\n",
       "0  CHINA-WAREHOUSE    2024/01/02             Truck      MAT-0007   \n",
       "1  CHINA-WAREHOUSE    2024/01/02             Truck      MAT-0013   \n",
       "2  CHINA-WAREHOUSE    2024/01/02             Truck      MAT-0013   \n",
       "3  CHINA-WAREHOUSE    2024/01/02             Truck      MAT-0015   \n",
       "4  CHINA-WAREHOUSE    2024/01/02             Truck      MAT-0015   \n",
       "\n",
       "  CUSTOMER_NUMBER  NET_QUANTITY_MT  Transfer_Cost  \n",
       "0       CST-00023            24.76         38.217  \n",
       "1       CST-00001            25.50         38.217  \n",
       "2       CST-00031             3.00         19.108  \n",
       "3       CST-00013            24.75         19.108  \n",
       "4       CST-00014            24.75         19.108  "
      ]
     },
     "execution_count": 16,
     "metadata": {},
     "output_type": "execute_result"
    }
   ],
   "source": [
    "outbound_group.head()"
   ]
  },
  {
   "cell_type": "code",
   "execution_count": 17,
   "id": "1d15a391",
   "metadata": {},
   "outputs": [
    {
     "data": {
      "application/vnd.microsoft.datawrangler.viewer.v0+json": {
       "columns": [
        {
         "name": "index",
         "rawType": "int64",
         "type": "integer"
        },
        {
         "name": "PLANT_NAME",
         "rawType": "object",
         "type": "string"
        },
        {
         "name": "OUTBOUND_DATE",
         "rawType": "object",
         "type": "string"
        },
        {
         "name": "MODE_OF_TRANSPORT",
         "rawType": "object",
         "type": "string"
        },
        {
         "name": "MATERIAL_NAME",
         "rawType": "object",
         "type": "string"
        },
        {
         "name": "CUSTOMER_NUMBER",
         "rawType": "object",
         "type": "string"
        },
        {
         "name": "NET_QUANTITY_MT",
         "rawType": "float64",
         "type": "float"
        },
        {
         "name": "Transfer_Cost",
         "rawType": "float64",
         "type": "float"
        },
        {
         "name": "POLYMER_TYPE",
         "rawType": "object",
         "type": "string"
        },
        {
         "name": "SHELF_LIFE_IN_MONTH",
         "rawType": "int64",
         "type": "integer"
        },
        {
         "name": "DOWNGRADE_VALUE_LOST_PERCENT",
         "rawType": "int64",
         "type": "integer"
        }
       ],
       "ref": "3f2928ab-f7ac-452b-92c7-9baf53f9b2fe",
       "rows": [
        [
         "0",
         "CHINA-WAREHOUSE",
         "2024/01/02",
         "Truck",
         "MAT-0007",
         "CST-00023",
         "24.759999999999998",
         "38.217",
         "P-001",
         "2",
         "10"
        ],
        [
         "1",
         "CHINA-WAREHOUSE",
         "2024/01/02",
         "Truck",
         "MAT-0013",
         "CST-00001",
         "25.5",
         "38.217",
         "P-002",
         "3",
         "25"
        ],
        [
         "2",
         "CHINA-WAREHOUSE",
         "2024/01/02",
         "Truck",
         "MAT-0013",
         "CST-00031",
         "3.0",
         "19.108",
         "P-002",
         "3",
         "25"
        ],
        [
         "3",
         "CHINA-WAREHOUSE",
         "2024/01/02",
         "Truck",
         "MAT-0015",
         "CST-00013",
         "24.75",
         "19.108",
         "P-001",
         "8",
         "20"
        ],
        [
         "4",
         "CHINA-WAREHOUSE",
         "2024/01/02",
         "Truck",
         "MAT-0015",
         "CST-00014",
         "24.75",
         "19.108",
         "P-001",
         "8",
         "20"
        ]
       ],
       "shape": {
        "columns": 10,
        "rows": 5
       }
      },
      "text/html": [
       "<div>\n",
       "<style scoped>\n",
       "    .dataframe tbody tr th:only-of-type {\n",
       "        vertical-align: middle;\n",
       "    }\n",
       "\n",
       "    .dataframe tbody tr th {\n",
       "        vertical-align: top;\n",
       "    }\n",
       "\n",
       "    .dataframe thead th {\n",
       "        text-align: right;\n",
       "    }\n",
       "</style>\n",
       "<table border=\"1\" class=\"dataframe\">\n",
       "  <thead>\n",
       "    <tr style=\"text-align: right;\">\n",
       "      <th></th>\n",
       "      <th>PLANT_NAME</th>\n",
       "      <th>OUTBOUND_DATE</th>\n",
       "      <th>MODE_OF_TRANSPORT</th>\n",
       "      <th>MATERIAL_NAME</th>\n",
       "      <th>CUSTOMER_NUMBER</th>\n",
       "      <th>NET_QUANTITY_MT</th>\n",
       "      <th>Transfer_Cost</th>\n",
       "      <th>POLYMER_TYPE</th>\n",
       "      <th>SHELF_LIFE_IN_MONTH</th>\n",
       "      <th>DOWNGRADE_VALUE_LOST_PERCENT</th>\n",
       "    </tr>\n",
       "  </thead>\n",
       "  <tbody>\n",
       "    <tr>\n",
       "      <th>0</th>\n",
       "      <td>CHINA-WAREHOUSE</td>\n",
       "      <td>2024/01/02</td>\n",
       "      <td>Truck</td>\n",
       "      <td>MAT-0007</td>\n",
       "      <td>CST-00023</td>\n",
       "      <td>24.76</td>\n",
       "      <td>38.217</td>\n",
       "      <td>P-001</td>\n",
       "      <td>2</td>\n",
       "      <td>10</td>\n",
       "    </tr>\n",
       "    <tr>\n",
       "      <th>1</th>\n",
       "      <td>CHINA-WAREHOUSE</td>\n",
       "      <td>2024/01/02</td>\n",
       "      <td>Truck</td>\n",
       "      <td>MAT-0013</td>\n",
       "      <td>CST-00001</td>\n",
       "      <td>25.50</td>\n",
       "      <td>38.217</td>\n",
       "      <td>P-002</td>\n",
       "      <td>3</td>\n",
       "      <td>25</td>\n",
       "    </tr>\n",
       "    <tr>\n",
       "      <th>2</th>\n",
       "      <td>CHINA-WAREHOUSE</td>\n",
       "      <td>2024/01/02</td>\n",
       "      <td>Truck</td>\n",
       "      <td>MAT-0013</td>\n",
       "      <td>CST-00031</td>\n",
       "      <td>3.00</td>\n",
       "      <td>19.108</td>\n",
       "      <td>P-002</td>\n",
       "      <td>3</td>\n",
       "      <td>25</td>\n",
       "    </tr>\n",
       "    <tr>\n",
       "      <th>3</th>\n",
       "      <td>CHINA-WAREHOUSE</td>\n",
       "      <td>2024/01/02</td>\n",
       "      <td>Truck</td>\n",
       "      <td>MAT-0015</td>\n",
       "      <td>CST-00013</td>\n",
       "      <td>24.75</td>\n",
       "      <td>19.108</td>\n",
       "      <td>P-001</td>\n",
       "      <td>8</td>\n",
       "      <td>20</td>\n",
       "    </tr>\n",
       "    <tr>\n",
       "      <th>4</th>\n",
       "      <td>CHINA-WAREHOUSE</td>\n",
       "      <td>2024/01/02</td>\n",
       "      <td>Truck</td>\n",
       "      <td>MAT-0015</td>\n",
       "      <td>CST-00014</td>\n",
       "      <td>24.75</td>\n",
       "      <td>19.108</td>\n",
       "      <td>P-001</td>\n",
       "      <td>8</td>\n",
       "      <td>20</td>\n",
       "    </tr>\n",
       "  </tbody>\n",
       "</table>\n",
       "</div>"
      ],
      "text/plain": [
       "        PLANT_NAME OUTBOUND_DATE MODE_OF_TRANSPORT MATERIAL_NAME  \\\n",
       "0  CHINA-WAREHOUSE    2024/01/02             Truck      MAT-0007   \n",
       "1  CHINA-WAREHOUSE    2024/01/02             Truck      MAT-0013   \n",
       "2  CHINA-WAREHOUSE    2024/01/02             Truck      MAT-0013   \n",
       "3  CHINA-WAREHOUSE    2024/01/02             Truck      MAT-0015   \n",
       "4  CHINA-WAREHOUSE    2024/01/02             Truck      MAT-0015   \n",
       "\n",
       "  CUSTOMER_NUMBER  NET_QUANTITY_MT  Transfer_Cost POLYMER_TYPE  \\\n",
       "0       CST-00023            24.76         38.217        P-001   \n",
       "1       CST-00001            25.50         38.217        P-002   \n",
       "2       CST-00031             3.00         19.108        P-002   \n",
       "3       CST-00013            24.75         19.108        P-001   \n",
       "4       CST-00014            24.75         19.108        P-001   \n",
       "\n",
       "   SHELF_LIFE_IN_MONTH  DOWNGRADE_VALUE_LOST_PERCENT  \n",
       "0                    2                            10  \n",
       "1                    3                            25  \n",
       "2                    3                            25  \n",
       "3                    8                            20  \n",
       "4                    8                            20  "
      ]
     },
     "execution_count": 17,
     "metadata": {},
     "output_type": "execute_result"
    }
   ],
   "source": [
    "outbound_group_merge.head()"
   ]
  },
  {
   "cell_type": "code",
   "execution_count": 18,
   "id": "0e5b30dc",
   "metadata": {},
   "outputs": [],
   "source": [
    "outbound_group.to_csv('outbound_group_withcost.csv', index=False)"
   ]
  },
  {
   "cell_type": "code",
   "execution_count": 19,
   "id": "fb3d6d01",
   "metadata": {},
   "outputs": [],
   "source": [
    "inbound = pd.read_csv('Inbound_Cleaned(All dup) (4).csv')\n",
    "# get month from INBOUND_DATE from inbound\n",
    "inbound['INBOUND_DATE'] = pd.to_datetime(inbound['INBOUND_DATE'])\n",
    "inbound['INBOUND_MONTH'] = inbound['INBOUND_DATE'].dt.month\n",
    "inbound['INBOUND_YEAR'] = inbound['INBOUND_DATE'].dt.year"
   ]
  },
  {
   "cell_type": "code",
   "execution_count": 20,
   "id": "534a5d99",
   "metadata": {},
   "outputs": [
    {
     "data": {
      "application/vnd.microsoft.datawrangler.viewer.v0+json": {
       "columns": [
        {
         "name": "index",
         "rawType": "int64",
         "type": "integer"
        },
        {
         "name": "INBOUND_DATE",
         "rawType": "datetime64[ns]",
         "type": "datetime"
        },
        {
         "name": "PLANT_NAME",
         "rawType": "object",
         "type": "string"
        },
        {
         "name": "MATERIAL_NAME",
         "rawType": "object",
         "type": "string"
        },
        {
         "name": "NET_QUANTITY_MT",
         "rawType": "float64",
         "type": "float"
        },
        {
         "name": "INBOUND_MONTH",
         "rawType": "int32",
         "type": "integer"
        },
        {
         "name": "INBOUND_YEAR",
         "rawType": "int32",
         "type": "integer"
        }
       ],
       "ref": "749cad5e-d51d-459e-a26e-067d92200037",
       "rows": [
        [
         "0",
         "2023-12-15 00:00:00",
         "SINGAPORE-WAREHOUSE",
         "MAT-0354",
         "23.375",
         "12",
         "2023"
        ],
        [
         "1",
         "2023-12-22 00:00:00",
         "SINGAPORE-WAREHOUSE",
         "MAT-0413",
         "1.375",
         "12",
         "2023"
        ],
        [
         "2",
         "2023-12-22 00:00:00",
         "SINGAPORE-WAREHOUSE",
         "MAT-0413",
         "23.375",
         "12",
         "2023"
        ],
        [
         "3",
         "2023-12-22 00:00:00",
         "SINGAPORE-WAREHOUSE",
         "MAT-0413",
         "24.75",
         "12",
         "2023"
        ],
        [
         "4",
         "2023-12-22 00:00:00",
         "SINGAPORE-WAREHOUSE",
         "MAT-0413",
         "19.25",
         "12",
         "2023"
        ],
        [
         "5",
         "2023-12-22 00:00:00",
         "SINGAPORE-WAREHOUSE",
         "MAT-0413",
         "5.5",
         "12",
         "2023"
        ],
        [
         "6",
         "2023-12-22 00:00:00",
         "SINGAPORE-WAREHOUSE",
         "MAT-0413",
         "12.375",
         "12",
         "2023"
        ],
        [
         "7",
         "2023-12-23 00:00:00",
         "SINGAPORE-WAREHOUSE",
         "MAT-0105",
         "24.75",
         "12",
         "2023"
        ],
        [
         "8",
         "2024-01-21 00:00:00",
         "SINGAPORE-WAREHOUSE",
         "MAT-0304",
         "2.5",
         "1",
         "2024"
        ],
        [
         "9",
         "2024-01-21 00:00:00",
         "SINGAPORE-WAREHOUSE",
         "MAT-0304",
         "20.0",
         "1",
         "2024"
        ],
        [
         "10",
         "2024-01-27 00:00:00",
         "SINGAPORE-WAREHOUSE",
         "MAT-0374",
         "24.75",
         "1",
         "2024"
        ],
        [
         "11",
         "2024-01-27 00:00:00",
         "SINGAPORE-WAREHOUSE",
         "MAT-0374",
         "20.625",
         "1",
         "2024"
        ],
        [
         "12",
         "2024-01-27 00:00:00",
         "SINGAPORE-WAREHOUSE",
         "MAT-0374",
         "4.125",
         "1",
         "2024"
        ],
        [
         "13",
         "2024-02-10 00:00:00",
         "SINGAPORE-WAREHOUSE",
         "MAT-0109",
         "24.75",
         "2",
         "2024"
        ],
        [
         "14",
         "2024-02-13 00:00:00",
         "SINGAPORE-WAREHOUSE",
         "MAT-0056",
         "24.75",
         "2",
         "2024"
        ],
        [
         "15",
         "2024-03-14 00:00:00",
         "SINGAPORE-WAREHOUSE",
         "MAT-0237",
         "24.772",
         "3",
         "2024"
        ],
        [
         "16",
         "2024-04-28 00:00:00",
         "SINGAPORE-WAREHOUSE",
         "MAT-0263",
         "24.75",
         "4",
         "2024"
        ],
        [
         "17",
         "2024-05-10 00:00:00",
         "SINGAPORE-WAREHOUSE",
         "MAT-0175",
         "24.75",
         "5",
         "2024"
        ],
        [
         "18",
         "2024-05-10 00:00:00",
         "SINGAPORE-WAREHOUSE",
         "MAT-0175",
         "16.5",
         "5",
         "2024"
        ],
        [
         "19",
         "2024-05-10 00:00:00",
         "SINGAPORE-WAREHOUSE",
         "MAT-0175",
         "8.25",
         "5",
         "2024"
        ],
        [
         "20",
         "2024-05-19 00:00:00",
         "SINGAPORE-WAREHOUSE",
         "MAT-0011",
         "24.75",
         "5",
         "2024"
        ],
        [
         "21",
         "2024-05-19 00:00:00",
         "SINGAPORE-WAREHOUSE",
         "MAT-0011",
         "4.125",
         "5",
         "2024"
        ],
        [
         "22",
         "2024-05-19 00:00:00",
         "SINGAPORE-WAREHOUSE",
         "MAT-0011",
         "20.625",
         "5",
         "2024"
        ],
        [
         "23",
         "2024-05-19 00:00:00",
         "SINGAPORE-WAREHOUSE",
         "MAT-0011",
         "9.625",
         "5",
         "2024"
        ],
        [
         "24",
         "2024-05-19 00:00:00",
         "SINGAPORE-WAREHOUSE",
         "MAT-0011",
         "15.125",
         "5",
         "2024"
        ],
        [
         "25",
         "2024-05-27 00:00:00",
         "SINGAPORE-WAREHOUSE",
         "MAT-0367",
         "24.75",
         "5",
         "2024"
        ],
        [
         "26",
         "2024-05-27 00:00:00",
         "SINGAPORE-WAREHOUSE",
         "MAT-0367",
         "16.5",
         "5",
         "2024"
        ],
        [
         "27",
         "2024-05-27 00:00:00",
         "SINGAPORE-WAREHOUSE",
         "MAT-0367",
         "8.25",
         "5",
         "2024"
        ],
        [
         "28",
         "2024-06-17 00:00:00",
         "SINGAPORE-WAREHOUSE",
         "MAT-0374",
         "9.625",
         "6",
         "2024"
        ],
        [
         "29",
         "2024-06-17 00:00:00",
         "SINGAPORE-WAREHOUSE",
         "MAT-0374",
         "15.125",
         "6",
         "2024"
        ],
        [
         "30",
         "2024-07-05 00:00:00",
         "SINGAPORE-WAREHOUSE",
         "MAT-0247",
         "24.75",
         "7",
         "2024"
        ],
        [
         "31",
         "2024-07-05 00:00:00",
         "SINGAPORE-WAREHOUSE",
         "MAT-0247",
         "4.125",
         "7",
         "2024"
        ],
        [
         "32",
         "2024-07-05 00:00:00",
         "SINGAPORE-WAREHOUSE",
         "MAT-0247",
         "20.625",
         "7",
         "2024"
        ],
        [
         "33",
         "2024-07-25 00:00:00",
         "SINGAPORE-WAREHOUSE",
         "MAT-0234",
         "24.75",
         "7",
         "2024"
        ],
        [
         "34",
         "2024-07-25 00:00:00",
         "SINGAPORE-WAREHOUSE",
         "MAT-0234",
         "16.5",
         "7",
         "2024"
        ],
        [
         "35",
         "2024-07-25 00:00:00",
         "SINGAPORE-WAREHOUSE",
         "MAT-0234",
         "8.25",
         "7",
         "2024"
        ],
        [
         "36",
         "2024-07-25 00:00:00",
         "SINGAPORE-WAREHOUSE",
         "MAT-0234",
         "11.0",
         "7",
         "2024"
        ],
        [
         "37",
         "2024-07-25 00:00:00",
         "SINGAPORE-WAREHOUSE",
         "MAT-0234",
         "13.75",
         "7",
         "2024"
        ],
        [
         "38",
         "2024-08-04 00:00:00",
         "SINGAPORE-WAREHOUSE",
         "MAT-0335",
         "24.75",
         "8",
         "2024"
        ],
        [
         "39",
         "2024-08-11 00:00:00",
         "SINGAPORE-WAREHOUSE",
         "MAT-0363",
         "19.25",
         "8",
         "2024"
        ],
        [
         "40",
         "2024-08-11 00:00:00",
         "SINGAPORE-WAREHOUSE",
         "MAT-0363",
         "5.5",
         "8",
         "2024"
        ],
        [
         "41",
         "2024-08-11 00:00:00",
         "SINGAPORE-WAREHOUSE",
         "MAT-0363",
         "24.75",
         "8",
         "2024"
        ],
        [
         "42",
         "2024-08-22 00:00:00",
         "SINGAPORE-WAREHOUSE",
         "MAT-0046",
         "24.75",
         "8",
         "2024"
        ],
        [
         "43",
         "2024-08-26 00:00:00",
         "SINGAPORE-WAREHOUSE",
         "MAT-0175",
         "6.875",
         "8",
         "2024"
        ],
        [
         "44",
         "2024-08-26 00:00:00",
         "SINGAPORE-WAREHOUSE",
         "MAT-0175",
         "17.875",
         "8",
         "2024"
        ],
        [
         "45",
         "2024-08-26 00:00:00",
         "SINGAPORE-WAREHOUSE",
         "MAT-0175",
         "24.75",
         "8",
         "2024"
        ],
        [
         "46",
         "2024-08-26 00:00:00",
         "SINGAPORE-WAREHOUSE",
         "MAT-0392",
         "16.5",
         "8",
         "2024"
        ],
        [
         "47",
         "2024-08-26 00:00:00",
         "SINGAPORE-WAREHOUSE",
         "MAT-0392",
         "5.5",
         "8",
         "2024"
        ],
        [
         "48",
         "2024-09-13 00:00:00",
         "SINGAPORE-WAREHOUSE",
         "MAT-0116",
         "9.625",
         "9",
         "2024"
        ],
        [
         "49",
         "2024-09-13 00:00:00",
         "SINGAPORE-WAREHOUSE",
         "MAT-0116",
         "15.125",
         "9",
         "2024"
        ]
       ],
       "shape": {
        "columns": 6,
        "rows": 6450
       }
      },
      "text/html": [
       "<div>\n",
       "<style scoped>\n",
       "    .dataframe tbody tr th:only-of-type {\n",
       "        vertical-align: middle;\n",
       "    }\n",
       "\n",
       "    .dataframe tbody tr th {\n",
       "        vertical-align: top;\n",
       "    }\n",
       "\n",
       "    .dataframe thead th {\n",
       "        text-align: right;\n",
       "    }\n",
       "</style>\n",
       "<table border=\"1\" class=\"dataframe\">\n",
       "  <thead>\n",
       "    <tr style=\"text-align: right;\">\n",
       "      <th></th>\n",
       "      <th>INBOUND_DATE</th>\n",
       "      <th>PLANT_NAME</th>\n",
       "      <th>MATERIAL_NAME</th>\n",
       "      <th>NET_QUANTITY_MT</th>\n",
       "      <th>INBOUND_MONTH</th>\n",
       "      <th>INBOUND_YEAR</th>\n",
       "    </tr>\n",
       "  </thead>\n",
       "  <tbody>\n",
       "    <tr>\n",
       "      <th>0</th>\n",
       "      <td>2023-12-15</td>\n",
       "      <td>SINGAPORE-WAREHOUSE</td>\n",
       "      <td>MAT-0354</td>\n",
       "      <td>23.375</td>\n",
       "      <td>12</td>\n",
       "      <td>2023</td>\n",
       "    </tr>\n",
       "    <tr>\n",
       "      <th>1</th>\n",
       "      <td>2023-12-22</td>\n",
       "      <td>SINGAPORE-WAREHOUSE</td>\n",
       "      <td>MAT-0413</td>\n",
       "      <td>1.375</td>\n",
       "      <td>12</td>\n",
       "      <td>2023</td>\n",
       "    </tr>\n",
       "    <tr>\n",
       "      <th>2</th>\n",
       "      <td>2023-12-22</td>\n",
       "      <td>SINGAPORE-WAREHOUSE</td>\n",
       "      <td>MAT-0413</td>\n",
       "      <td>23.375</td>\n",
       "      <td>12</td>\n",
       "      <td>2023</td>\n",
       "    </tr>\n",
       "    <tr>\n",
       "      <th>3</th>\n",
       "      <td>2023-12-22</td>\n",
       "      <td>SINGAPORE-WAREHOUSE</td>\n",
       "      <td>MAT-0413</td>\n",
       "      <td>24.750</td>\n",
       "      <td>12</td>\n",
       "      <td>2023</td>\n",
       "    </tr>\n",
       "    <tr>\n",
       "      <th>4</th>\n",
       "      <td>2023-12-22</td>\n",
       "      <td>SINGAPORE-WAREHOUSE</td>\n",
       "      <td>MAT-0413</td>\n",
       "      <td>19.250</td>\n",
       "      <td>12</td>\n",
       "      <td>2023</td>\n",
       "    </tr>\n",
       "    <tr>\n",
       "      <th>...</th>\n",
       "      <td>...</td>\n",
       "      <td>...</td>\n",
       "      <td>...</td>\n",
       "      <td>...</td>\n",
       "      <td>...</td>\n",
       "      <td>...</td>\n",
       "    </tr>\n",
       "    <tr>\n",
       "      <th>6445</th>\n",
       "      <td>2024-12-22</td>\n",
       "      <td>CHINA-WAREHOUSE</td>\n",
       "      <td>MAT-0339</td>\n",
       "      <td>25.500</td>\n",
       "      <td>12</td>\n",
       "      <td>2024</td>\n",
       "    </tr>\n",
       "    <tr>\n",
       "      <th>6446</th>\n",
       "      <td>2024-12-24</td>\n",
       "      <td>CHINA-WAREHOUSE</td>\n",
       "      <td>MAT-0265</td>\n",
       "      <td>24.750</td>\n",
       "      <td>12</td>\n",
       "      <td>2024</td>\n",
       "    </tr>\n",
       "    <tr>\n",
       "      <th>6447</th>\n",
       "      <td>2024-12-24</td>\n",
       "      <td>CHINA-WAREHOUSE</td>\n",
       "      <td>MAT-0042</td>\n",
       "      <td>24.750</td>\n",
       "      <td>12</td>\n",
       "      <td>2024</td>\n",
       "    </tr>\n",
       "    <tr>\n",
       "      <th>6448</th>\n",
       "      <td>2024-12-24</td>\n",
       "      <td>CHINA-WAREHOUSE</td>\n",
       "      <td>MAT-0232</td>\n",
       "      <td>24.750</td>\n",
       "      <td>12</td>\n",
       "      <td>2024</td>\n",
       "    </tr>\n",
       "    <tr>\n",
       "      <th>6449</th>\n",
       "      <td>2024-12-24</td>\n",
       "      <td>CHINA-WAREHOUSE</td>\n",
       "      <td>MAT-0118</td>\n",
       "      <td>24.750</td>\n",
       "      <td>12</td>\n",
       "      <td>2024</td>\n",
       "    </tr>\n",
       "  </tbody>\n",
       "</table>\n",
       "<p>6450 rows × 6 columns</p>\n",
       "</div>"
      ],
      "text/plain": [
       "     INBOUND_DATE           PLANT_NAME MATERIAL_NAME  NET_QUANTITY_MT  \\\n",
       "0      2023-12-15  SINGAPORE-WAREHOUSE      MAT-0354           23.375   \n",
       "1      2023-12-22  SINGAPORE-WAREHOUSE      MAT-0413            1.375   \n",
       "2      2023-12-22  SINGAPORE-WAREHOUSE      MAT-0413           23.375   \n",
       "3      2023-12-22  SINGAPORE-WAREHOUSE      MAT-0413           24.750   \n",
       "4      2023-12-22  SINGAPORE-WAREHOUSE      MAT-0413           19.250   \n",
       "...           ...                  ...           ...              ...   \n",
       "6445   2024-12-22      CHINA-WAREHOUSE      MAT-0339           25.500   \n",
       "6446   2024-12-24      CHINA-WAREHOUSE      MAT-0265           24.750   \n",
       "6447   2024-12-24      CHINA-WAREHOUSE      MAT-0042           24.750   \n",
       "6448   2024-12-24      CHINA-WAREHOUSE      MAT-0232           24.750   \n",
       "6449   2024-12-24      CHINA-WAREHOUSE      MAT-0118           24.750   \n",
       "\n",
       "      INBOUND_MONTH  INBOUND_YEAR  \n",
       "0                12          2023  \n",
       "1                12          2023  \n",
       "2                12          2023  \n",
       "3                12          2023  \n",
       "4                12          2023  \n",
       "...             ...           ...  \n",
       "6445             12          2024  \n",
       "6446             12          2024  \n",
       "6447             12          2024  \n",
       "6448             12          2024  \n",
       "6449             12          2024  \n",
       "\n",
       "[6450 rows x 6 columns]"
      ]
     },
     "execution_count": 20,
     "metadata": {},
     "output_type": "execute_result"
    }
   ],
   "source": [
    "inbound"
   ]
  },
  {
   "cell_type": "code",
   "execution_count": 21,
   "id": "e6a17c0d",
   "metadata": {},
   "outputs": [
    {
     "data": {
      "application/vnd.microsoft.datawrangler.viewer.v0+json": {
       "columns": [
        {
         "name": "index",
         "rawType": "int64",
         "type": "integer"
        },
        {
         "name": "INBOUND_YEAR",
         "rawType": "int32",
         "type": "integer"
        },
        {
         "name": "INBOUND_MONTH",
         "rawType": "int32",
         "type": "integer"
        },
        {
         "name": "NET_QUANTITY_MT",
         "rawType": "float64",
         "type": "float"
        },
        {
         "name": "NET_QUANTITY_KT",
         "rawType": "float64",
         "type": "float"
        }
       ],
       "ref": "054c8d2c-d63f-49da-9622-70817adc3bbf",
       "rows": [
        [
         "0",
         "2023",
         "11",
         "2070.915",
         "2.071"
        ],
        [
         "1",
         "2023",
         "12",
         "6249.175",
         "6.249"
        ],
        [
         "2",
         "2024",
         "1",
         "7417.125",
         "7.417"
        ],
        [
         "3",
         "2024",
         "2",
         "6425.926",
         "6.426"
        ],
        [
         "4",
         "2024",
         "3",
         "11515.263",
         "11.515"
        ],
        [
         "5",
         "2024",
         "4",
         "8655.925",
         "8.656"
        ],
        [
         "6",
         "2024",
         "5",
         "10996.603",
         "10.997"
        ],
        [
         "7",
         "2024",
         "6",
         "8059.525",
         "8.06"
        ],
        [
         "8",
         "2024",
         "7",
         "7877.959",
         "7.878"
        ],
        [
         "9",
         "2024",
         "8",
         "9739.409",
         "9.739"
        ],
        [
         "10",
         "2024",
         "9",
         "7924.525",
         "7.925"
        ],
        [
         "11",
         "2024",
         "10",
         "7021.775",
         "7.022"
        ],
        [
         "12",
         "2024",
         "11",
         "4256.863",
         "4.257"
        ],
        [
         "13",
         "2024",
         "12",
         "2507.075",
         "2.507"
        ]
       ],
       "shape": {
        "columns": 4,
        "rows": 14
       }
      },
      "text/html": [
       "<div>\n",
       "<style scoped>\n",
       "    .dataframe tbody tr th:only-of-type {\n",
       "        vertical-align: middle;\n",
       "    }\n",
       "\n",
       "    .dataframe tbody tr th {\n",
       "        vertical-align: top;\n",
       "    }\n",
       "\n",
       "    .dataframe thead th {\n",
       "        text-align: right;\n",
       "    }\n",
       "</style>\n",
       "<table border=\"1\" class=\"dataframe\">\n",
       "  <thead>\n",
       "    <tr style=\"text-align: right;\">\n",
       "      <th></th>\n",
       "      <th>INBOUND_YEAR</th>\n",
       "      <th>INBOUND_MONTH</th>\n",
       "      <th>NET_QUANTITY_MT</th>\n",
       "      <th>NET_QUANTITY_KT</th>\n",
       "    </tr>\n",
       "  </thead>\n",
       "  <tbody>\n",
       "    <tr>\n",
       "      <th>0</th>\n",
       "      <td>2023</td>\n",
       "      <td>11</td>\n",
       "      <td>2070.915</td>\n",
       "      <td>2.071</td>\n",
       "    </tr>\n",
       "    <tr>\n",
       "      <th>1</th>\n",
       "      <td>2023</td>\n",
       "      <td>12</td>\n",
       "      <td>6249.175</td>\n",
       "      <td>6.249</td>\n",
       "    </tr>\n",
       "    <tr>\n",
       "      <th>2</th>\n",
       "      <td>2024</td>\n",
       "      <td>1</td>\n",
       "      <td>7417.125</td>\n",
       "      <td>7.417</td>\n",
       "    </tr>\n",
       "    <tr>\n",
       "      <th>3</th>\n",
       "      <td>2024</td>\n",
       "      <td>2</td>\n",
       "      <td>6425.926</td>\n",
       "      <td>6.426</td>\n",
       "    </tr>\n",
       "    <tr>\n",
       "      <th>4</th>\n",
       "      <td>2024</td>\n",
       "      <td>3</td>\n",
       "      <td>11515.263</td>\n",
       "      <td>11.515</td>\n",
       "    </tr>\n",
       "    <tr>\n",
       "      <th>5</th>\n",
       "      <td>2024</td>\n",
       "      <td>4</td>\n",
       "      <td>8655.925</td>\n",
       "      <td>8.656</td>\n",
       "    </tr>\n",
       "    <tr>\n",
       "      <th>6</th>\n",
       "      <td>2024</td>\n",
       "      <td>5</td>\n",
       "      <td>10996.603</td>\n",
       "      <td>10.997</td>\n",
       "    </tr>\n",
       "    <tr>\n",
       "      <th>7</th>\n",
       "      <td>2024</td>\n",
       "      <td>6</td>\n",
       "      <td>8059.525</td>\n",
       "      <td>8.060</td>\n",
       "    </tr>\n",
       "    <tr>\n",
       "      <th>8</th>\n",
       "      <td>2024</td>\n",
       "      <td>7</td>\n",
       "      <td>7877.959</td>\n",
       "      <td>7.878</td>\n",
       "    </tr>\n",
       "    <tr>\n",
       "      <th>9</th>\n",
       "      <td>2024</td>\n",
       "      <td>8</td>\n",
       "      <td>9739.409</td>\n",
       "      <td>9.739</td>\n",
       "    </tr>\n",
       "    <tr>\n",
       "      <th>10</th>\n",
       "      <td>2024</td>\n",
       "      <td>9</td>\n",
       "      <td>7924.525</td>\n",
       "      <td>7.925</td>\n",
       "    </tr>\n",
       "    <tr>\n",
       "      <th>11</th>\n",
       "      <td>2024</td>\n",
       "      <td>10</td>\n",
       "      <td>7021.775</td>\n",
       "      <td>7.022</td>\n",
       "    </tr>\n",
       "    <tr>\n",
       "      <th>12</th>\n",
       "      <td>2024</td>\n",
       "      <td>11</td>\n",
       "      <td>4256.863</td>\n",
       "      <td>4.257</td>\n",
       "    </tr>\n",
       "    <tr>\n",
       "      <th>13</th>\n",
       "      <td>2024</td>\n",
       "      <td>12</td>\n",
       "      <td>2507.075</td>\n",
       "      <td>2.507</td>\n",
       "    </tr>\n",
       "  </tbody>\n",
       "</table>\n",
       "</div>"
      ],
      "text/plain": [
       "    INBOUND_YEAR  INBOUND_MONTH  NET_QUANTITY_MT  NET_QUANTITY_KT\n",
       "0           2023             11         2070.915            2.071\n",
       "1           2023             12         6249.175            6.249\n",
       "2           2024              1         7417.125            7.417\n",
       "3           2024              2         6425.926            6.426\n",
       "4           2024              3        11515.263           11.515\n",
       "5           2024              4         8655.925            8.656\n",
       "6           2024              5        10996.603           10.997\n",
       "7           2024              6         8059.525            8.060\n",
       "8           2024              7         7877.959            7.878\n",
       "9           2024              8         9739.409            9.739\n",
       "10          2024              9         7924.525            7.925\n",
       "11          2024             10         7021.775            7.022\n",
       "12          2024             11         4256.863            4.257\n",
       "13          2024             12         2507.075            2.507"
      ]
     },
     "execution_count": 21,
     "metadata": {},
     "output_type": "execute_result"
    }
   ],
   "source": [
    "# Groupby INBOUND_MONTH only and sum NET_QUANTITY_MT\n",
    "inbound_group = inbound.groupby(['INBOUND_YEAR','INBOUND_MONTH'])['NET_QUANTITY_MT'].sum().reset_index()\n",
    "inbound_group['NET_QUANTITY_KT'] = round(inbound_group['NET_QUANTITY_MT'] / 1000,3)\n",
    "inbound_group\n"
   ]
  },
  {
   "cell_type": "code",
   "execution_count": 22,
   "id": "ec17b1e7",
   "metadata": {},
   "outputs": [],
   "source": [
    "inbound_group.to_csv('inbound_group.csv', index=False)"
   ]
  },
  {
   "cell_type": "code",
   "execution_count": null,
   "id": "4f44e509",
   "metadata": {},
   "outputs": [
    {
     "data": {
      "application/vnd.microsoft.datawrangler.viewer.v0+json": {
       "columns": [
        {
         "name": "index",
         "rawType": "int64",
         "type": "integer"
        },
        {
         "name": "OUTBOUND_YEAR",
         "rawType": "int32",
         "type": "integer"
        },
        {
         "name": "OUTBOUND_MONTH",
         "rawType": "int32",
         "type": "integer"
        },
        {
         "name": "NET_QUANTITY_MT",
         "rawType": "float64",
         "type": "float"
        },
        {
         "name": "NET_QUANTITY_KT",
         "rawType": "float64",
         "type": "float"
        }
       ],
       "ref": "699c1ff8-e6f4-4c8b-b956-26bb046ea51d",
       "rows": [
        [
         "0",
         "2023",
         "12",
         "119.625",
         "0.12"
        ],
        [
         "1",
         "2024",
         "1",
         "25674.885",
         "25.675"
        ],
        [
         "2",
         "2024",
         "2",
         "16321.775",
         "16.322"
        ],
        [
         "3",
         "2024",
         "3",
         "23532.305",
         "23.532"
        ],
        [
         "4",
         "2024",
         "4",
         "23166.16",
         "23.166"
        ],
        [
         "5",
         "2024",
         "5",
         "25495.91",
         "25.496"
        ],
        [
         "6",
         "2024",
         "6",
         "25371.84",
         "25.372"
        ],
        [
         "7",
         "2024",
         "7",
         "26473.48",
         "26.473"
        ],
        [
         "8",
         "2024",
         "8",
         "25489.11",
         "25.489"
        ],
        [
         "9",
         "2024",
         "9",
         "30131.255",
         "30.131"
        ],
        [
         "10",
         "2024",
         "10",
         "29108.13",
         "29.108"
        ],
        [
         "11",
         "2024",
         "11",
         "26527.015",
         "26.527"
        ],
        [
         "12",
         "2024",
         "12",
         "25100.605",
         "25.101"
        ],
        [
         "13",
         "2025",
         "1",
         "49.5",
         "0.05"
        ]
       ],
       "shape": {
        "columns": 4,
        "rows": 14
       }
      },
      "text/html": [
       "<div>\n",
       "<style scoped>\n",
       "    .dataframe tbody tr th:only-of-type {\n",
       "        vertical-align: middle;\n",
       "    }\n",
       "\n",
       "    .dataframe tbody tr th {\n",
       "        vertical-align: top;\n",
       "    }\n",
       "\n",
       "    .dataframe thead th {\n",
       "        text-align: right;\n",
       "    }\n",
       "</style>\n",
       "<table border=\"1\" class=\"dataframe\">\n",
       "  <thead>\n",
       "    <tr style=\"text-align: right;\">\n",
       "      <th></th>\n",
       "      <th>OUTBOUND_YEAR</th>\n",
       "      <th>OUTBOUND_MONTH</th>\n",
       "      <th>NET_QUANTITY_MT</th>\n",
       "      <th>NET_QUANTITY_KT</th>\n",
       "    </tr>\n",
       "  </thead>\n",
       "  <tbody>\n",
       "    <tr>\n",
       "      <th>0</th>\n",
       "      <td>2023</td>\n",
       "      <td>12</td>\n",
       "      <td>119.625</td>\n",
       "      <td>0.120</td>\n",
       "    </tr>\n",
       "    <tr>\n",
       "      <th>1</th>\n",
       "      <td>2024</td>\n",
       "      <td>1</td>\n",
       "      <td>25674.885</td>\n",
       "      <td>25.675</td>\n",
       "    </tr>\n",
       "    <tr>\n",
       "      <th>2</th>\n",
       "      <td>2024</td>\n",
       "      <td>2</td>\n",
       "      <td>16321.775</td>\n",
       "      <td>16.322</td>\n",
       "    </tr>\n",
       "    <tr>\n",
       "      <th>3</th>\n",
       "      <td>2024</td>\n",
       "      <td>3</td>\n",
       "      <td>23532.305</td>\n",
       "      <td>23.532</td>\n",
       "    </tr>\n",
       "    <tr>\n",
       "      <th>4</th>\n",
       "      <td>2024</td>\n",
       "      <td>4</td>\n",
       "      <td>23166.160</td>\n",
       "      <td>23.166</td>\n",
       "    </tr>\n",
       "    <tr>\n",
       "      <th>5</th>\n",
       "      <td>2024</td>\n",
       "      <td>5</td>\n",
       "      <td>25495.910</td>\n",
       "      <td>25.496</td>\n",
       "    </tr>\n",
       "    <tr>\n",
       "      <th>6</th>\n",
       "      <td>2024</td>\n",
       "      <td>6</td>\n",
       "      <td>25371.840</td>\n",
       "      <td>25.372</td>\n",
       "    </tr>\n",
       "    <tr>\n",
       "      <th>7</th>\n",
       "      <td>2024</td>\n",
       "      <td>7</td>\n",
       "      <td>26473.480</td>\n",
       "      <td>26.473</td>\n",
       "    </tr>\n",
       "    <tr>\n",
       "      <th>8</th>\n",
       "      <td>2024</td>\n",
       "      <td>8</td>\n",
       "      <td>25489.110</td>\n",
       "      <td>25.489</td>\n",
       "    </tr>\n",
       "    <tr>\n",
       "      <th>9</th>\n",
       "      <td>2024</td>\n",
       "      <td>9</td>\n",
       "      <td>30131.255</td>\n",
       "      <td>30.131</td>\n",
       "    </tr>\n",
       "    <tr>\n",
       "      <th>10</th>\n",
       "      <td>2024</td>\n",
       "      <td>10</td>\n",
       "      <td>29108.130</td>\n",
       "      <td>29.108</td>\n",
       "    </tr>\n",
       "    <tr>\n",
       "      <th>11</th>\n",
       "      <td>2024</td>\n",
       "      <td>11</td>\n",
       "      <td>26527.015</td>\n",
       "      <td>26.527</td>\n",
       "    </tr>\n",
       "    <tr>\n",
       "      <th>12</th>\n",
       "      <td>2024</td>\n",
       "      <td>12</td>\n",
       "      <td>25100.605</td>\n",
       "      <td>25.101</td>\n",
       "    </tr>\n",
       "    <tr>\n",
       "      <th>13</th>\n",
       "      <td>2025</td>\n",
       "      <td>1</td>\n",
       "      <td>49.500</td>\n",
       "      <td>0.050</td>\n",
       "    </tr>\n",
       "  </tbody>\n",
       "</table>\n",
       "</div>"
      ],
      "text/plain": [
       "    OUTBOUND_YEAR  OUTBOUND_MONTH  NET_QUANTITY_MT  NET_QUANTITY_KT\n",
       "0            2023              12          119.625            0.120\n",
       "1            2024               1        25674.885           25.675\n",
       "2            2024               2        16321.775           16.322\n",
       "3            2024               3        23532.305           23.532\n",
       "4            2024               4        23166.160           23.166\n",
       "5            2024               5        25495.910           25.496\n",
       "6            2024               6        25371.840           25.372\n",
       "7            2024               7        26473.480           26.473\n",
       "8            2024               8        25489.110           25.489\n",
       "9            2024               9        30131.255           30.131\n",
       "10           2024              10        29108.130           29.108\n",
       "11           2024              11        26527.015           26.527\n",
       "12           2024              12        25100.605           25.101\n",
       "13           2025               1           49.500            0.050"
      ]
     },
     "execution_count": 52,
     "metadata": {},
     "output_type": "execute_result"
    }
   ],
   "source": [
    "outbound = pd.read_csv('outbound_clean.csv')\n",
    "# get month from OUTBOUND_DATE from outbound\n",
    "outbound['OUTBOUND_DATE'] = pd.to_datetime(outbound['OUTBOUND_DATE'])\n",
    "outbound['OUTBOUND_MONTH'] = outbound['OUTBOUND_DATE'].dt.month\n",
    "outbound['OUTBOUND_YEAR'] = outbound['OUTBOUND_DATE'].dt.year\n",
    "\n",
    "# Groupby OUTBOUND_MONTH only and sum NET_QUANTITY_MT\n",
    "outbound_group = outbound.groupby(['OUTBOUND_YEAR','OUTBOUND_MONTH'])['NET_QUANTITY_MT'].sum().reset_index()\n",
    "outbound_group['NET_QUANTITY_KT'] = round(outbound_group['NET_QUANTITY_MT'] / 1000,3)\n",
    "outbound_group\n",
    "\n",
    "\n"
   ]
  },
  {
   "cell_type": "code",
   "execution_count": 72,
   "id": "9a1b838b",
   "metadata": {},
   "outputs": [],
   "source": [
    "outbound = pd.read_csv('outbound_clean.csv')\n",
    "# merge outbound and material master\n",
    "outbound['OUTBOUND_DATE'] = pd.to_datetime(outbound['OUTBOUND_DATE'])\n",
    "outbound['OUTBOUND_MONTH'] = outbound['OUTBOUND_DATE'].dt.month\n",
    "outbound['OUTBOUND_YEAR'] = outbound['OUTBOUND_DATE'].dt.year\n",
    "outbound_mat = pd.merge(outbound, mat, on='MATERIAL_NAME', how='left')\n",
    "\n",
    "# CHECK IS HOLIDAY\n",
    "chaina_holiday_str = [\n",
    "    '01/01', '01/28', '01/29', '01/30', '01/31', '02/01', '02/02', '02/03', '02/04',\n",
    "    '04/04', '04/05', '04/06',\n",
    "    '05/01', '05/02', '05/03', '05/04', '05/05',\n",
    "    '06/02',\n",
    "    '10/01', '10/02', '10/03', '10/04', '10/05', '10/06', '10/07', '10/08'\n",
    "]\n",
    "\n",
    "SGP_holiday_str = [\n",
    "    '01/01',\n",
    "    '02/10', '02/11', '02/12',\n",
    "    '03/29',\n",
    "    '04/10',\n",
    "    '05/01',\n",
    "    '05/22',\n",
    "    '06/17',\n",
    "    '08/09',\n",
    "    '10/31',\n",
    "    '12/25'\n",
    "]\n",
    "# Function to check if a date is inbetween a holiday 2 days by PLANT_NAME and date string\n",
    "def is_holiday(row):\n",
    "    # Get the correct holiday list based on PLANT_NAME\n",
    "    if row['PLANT_NAME'] == 'CHINA-WAREHOUSE':\n",
    "        holiday_list = chaina_holiday_str\n",
    "    elif row['PLANT_NAME'] == 'SINGAPORE-WAREHOUSE':\n",
    "        holiday_list = SGP_holiday_str\n",
    "    else:\n",
    "        return False\n",
    "\n",
    "    # Get the date for checking\n",
    "    date = row['OUTBOUND_DATE']\n",
    "    # Check the day before, the day of, and the day after\n",
    "    for offset in [-1, 0, 1]:\n",
    "        check_date = (date + pd.Timedelta(days=offset)).strftime('%m/%d')\n",
    "        if check_date in holiday_list:\n",
    "            return True\n",
    "    return False\n",
    "    \n",
    "# Apply the function to create a new column 'IS_HOLIDAY'\n",
    "outbound_mat['IS_HOLIDAY'] = outbound_mat.apply(is_holiday, axis=1)\n",
    "outbound_mat['IS_HOLIDAY'] = outbound_mat['IS_HOLIDAY'].astype(int)\n",
    "# get row that IS_HOLIDAY is 1\n",
    "outbound_mat_holiday = outbound_mat[outbound_mat['IS_HOLIDAY'] == 1]\n",
    "# get row that IS_HOLIDAY is 0\n",
    "outbound_mat_no_holiday = outbound_mat[outbound_mat['IS_HOLIDAY'] == 0]\n",
    "# save outbound_mat to csv\n",
    "outbound_mat.to_csv('outbound_mat_holiday.csv', index=False)\n"
   ]
  },
  {
   "cell_type": "code",
   "execution_count": 74,
   "id": "135c85cc",
   "metadata": {},
   "outputs": [
    {
     "data": {
      "application/vnd.microsoft.datawrangler.viewer.v0+json": {
       "columns": [
        {
         "name": "index",
         "rawType": "int64",
         "type": "integer"
        },
        {
         "name": "OUTBOUND_YEAR",
         "rawType": "int32",
         "type": "integer"
        },
        {
         "name": "OUTBOUND_WEEK",
         "rawType": "UInt32",
         "type": "integer"
        },
        {
         "name": "PLANT_NAME",
         "rawType": "object",
         "type": "string"
        },
        {
         "name": "MODE_OF_TRANSPORT",
         "rawType": "object",
         "type": "string"
        },
        {
         "name": "CUSTOMER_NUMBER",
         "rawType": "object",
         "type": "string"
        },
        {
         "name": "MATERIAL_NAME",
         "rawType": "object",
         "type": "string"
        },
        {
         "name": "POLYMER_TYPE",
         "rawType": "object",
         "type": "string"
        },
        {
         "name": "SHELF_LIFE_IN_MONTH",
         "rawType": "int64",
         "type": "integer"
        },
        {
         "name": "IS_HOLIDAY",
         "rawType": "int32",
         "type": "integer"
        },
        {
         "name": "NET_QUANTITY_MT",
         "rawType": "float64",
         "type": "float"
        }
       ],
       "ref": "a3225abb-fb9d-4a80-8578-e6b5aad1483e",
       "rows": [
        [
         "0",
         "2023",
         "49",
         "SINGAPORE-WAREHOUSE",
         "Marine",
         "CST-01001",
         "MAT-0050",
         "P-001",
         "6",
         "0",
         "49.5"
        ],
        [
         "1",
         "2023",
         "52",
         "SINGAPORE-WAREHOUSE",
         "Marine",
         "CST-01002",
         "MAT-0056",
         "P-001",
         "3",
         "1",
         "49.5"
        ],
        [
         "2",
         "2023",
         "52",
         "SINGAPORE-WAREHOUSE",
         "Marine",
         "CST-01003",
         "MAT-0210",
         "P-001",
         "3",
         "1",
         "6.875"
        ],
        [
         "3",
         "2023",
         "52",
         "SINGAPORE-WAREHOUSE",
         "Marine",
         "CST-01003",
         "MAT-0303",
         "P-001",
         "5",
         "1",
         "2.5"
        ],
        [
         "4",
         "2023",
         "52",
         "SINGAPORE-WAREHOUSE",
         "Marine",
         "CST-01003",
         "MAT-0345",
         "P-001",
         "6",
         "1",
         "1.25"
        ]
       ],
       "shape": {
        "columns": 10,
        "rows": 5
       }
      },
      "text/html": [
       "<div>\n",
       "<style scoped>\n",
       "    .dataframe tbody tr th:only-of-type {\n",
       "        vertical-align: middle;\n",
       "    }\n",
       "\n",
       "    .dataframe tbody tr th {\n",
       "        vertical-align: top;\n",
       "    }\n",
       "\n",
       "    .dataframe thead th {\n",
       "        text-align: right;\n",
       "    }\n",
       "</style>\n",
       "<table border=\"1\" class=\"dataframe\">\n",
       "  <thead>\n",
       "    <tr style=\"text-align: right;\">\n",
       "      <th></th>\n",
       "      <th>OUTBOUND_YEAR</th>\n",
       "      <th>OUTBOUND_WEEK</th>\n",
       "      <th>PLANT_NAME</th>\n",
       "      <th>MODE_OF_TRANSPORT</th>\n",
       "      <th>CUSTOMER_NUMBER</th>\n",
       "      <th>MATERIAL_NAME</th>\n",
       "      <th>POLYMER_TYPE</th>\n",
       "      <th>SHELF_LIFE_IN_MONTH</th>\n",
       "      <th>IS_HOLIDAY</th>\n",
       "      <th>NET_QUANTITY_MT</th>\n",
       "    </tr>\n",
       "  </thead>\n",
       "  <tbody>\n",
       "    <tr>\n",
       "      <th>0</th>\n",
       "      <td>2023</td>\n",
       "      <td>49</td>\n",
       "      <td>SINGAPORE-WAREHOUSE</td>\n",
       "      <td>Marine</td>\n",
       "      <td>CST-01001</td>\n",
       "      <td>MAT-0050</td>\n",
       "      <td>P-001</td>\n",
       "      <td>6</td>\n",
       "      <td>0</td>\n",
       "      <td>49.500</td>\n",
       "    </tr>\n",
       "    <tr>\n",
       "      <th>1</th>\n",
       "      <td>2023</td>\n",
       "      <td>52</td>\n",
       "      <td>SINGAPORE-WAREHOUSE</td>\n",
       "      <td>Marine</td>\n",
       "      <td>CST-01002</td>\n",
       "      <td>MAT-0056</td>\n",
       "      <td>P-001</td>\n",
       "      <td>3</td>\n",
       "      <td>1</td>\n",
       "      <td>49.500</td>\n",
       "    </tr>\n",
       "    <tr>\n",
       "      <th>2</th>\n",
       "      <td>2023</td>\n",
       "      <td>52</td>\n",
       "      <td>SINGAPORE-WAREHOUSE</td>\n",
       "      <td>Marine</td>\n",
       "      <td>CST-01003</td>\n",
       "      <td>MAT-0210</td>\n",
       "      <td>P-001</td>\n",
       "      <td>3</td>\n",
       "      <td>1</td>\n",
       "      <td>6.875</td>\n",
       "    </tr>\n",
       "    <tr>\n",
       "      <th>3</th>\n",
       "      <td>2023</td>\n",
       "      <td>52</td>\n",
       "      <td>SINGAPORE-WAREHOUSE</td>\n",
       "      <td>Marine</td>\n",
       "      <td>CST-01003</td>\n",
       "      <td>MAT-0303</td>\n",
       "      <td>P-001</td>\n",
       "      <td>5</td>\n",
       "      <td>1</td>\n",
       "      <td>2.500</td>\n",
       "    </tr>\n",
       "    <tr>\n",
       "      <th>4</th>\n",
       "      <td>2023</td>\n",
       "      <td>52</td>\n",
       "      <td>SINGAPORE-WAREHOUSE</td>\n",
       "      <td>Marine</td>\n",
       "      <td>CST-01003</td>\n",
       "      <td>MAT-0345</td>\n",
       "      <td>P-001</td>\n",
       "      <td>6</td>\n",
       "      <td>1</td>\n",
       "      <td>1.250</td>\n",
       "    </tr>\n",
       "  </tbody>\n",
       "</table>\n",
       "</div>"
      ],
      "text/plain": [
       "   OUTBOUND_YEAR  OUTBOUND_WEEK           PLANT_NAME MODE_OF_TRANSPORT  \\\n",
       "0           2023             49  SINGAPORE-WAREHOUSE            Marine   \n",
       "1           2023             52  SINGAPORE-WAREHOUSE            Marine   \n",
       "2           2023             52  SINGAPORE-WAREHOUSE            Marine   \n",
       "3           2023             52  SINGAPORE-WAREHOUSE            Marine   \n",
       "4           2023             52  SINGAPORE-WAREHOUSE            Marine   \n",
       "\n",
       "  CUSTOMER_NUMBER MATERIAL_NAME POLYMER_TYPE  SHELF_LIFE_IN_MONTH  IS_HOLIDAY  \\\n",
       "0       CST-01001      MAT-0050        P-001                    6           0   \n",
       "1       CST-01002      MAT-0056        P-001                    3           1   \n",
       "2       CST-01003      MAT-0210        P-001                    3           1   \n",
       "3       CST-01003      MAT-0303        P-001                    5           1   \n",
       "4       CST-01003      MAT-0345        P-001                    6           1   \n",
       "\n",
       "   NET_QUANTITY_MT  \n",
       "0           49.500  \n",
       "1           49.500  \n",
       "2            6.875  \n",
       "3            2.500  \n",
       "4            1.250  "
      ]
     },
     "execution_count": 74,
     "metadata": {},
     "output_type": "execute_result"
    }
   ],
   "source": [
    "# Gruopby Week and sum NET_QUANTITY_KT\n",
    "outbound_mat['OUTBOUND_WEEK'] = outbound_mat['OUTBOUND_DATE'].dt.isocalendar().week\n",
    "outbound_week_group = outbound_mat.groupby(['OUTBOUND_YEAR', 'OUTBOUND_WEEK','PLANT_NAME','MODE_OF_TRANSPORT','CUSTOMER_NUMBER','MATERIAL_NAME','POLYMER_TYPE','SHELF_LIFE_IN_MONTH','IS_HOLIDAY'])['NET_QUANTITY_MT'].sum().reset_index()\n",
    "# outbound_week_group['NET_QUANTITY_KT'] = round(outbound_week_group['NET_QUANTITY_MT'] / 1000, 3)\n",
    "outbound_week_group.head()"
   ]
  },
  {
   "cell_type": "code",
   "execution_count": 56,
   "id": "4f9791a3",
   "metadata": {},
   "outputs": [
    {
     "data": {
      "application/vnd.microsoft.datawrangler.viewer.v0+json": {
       "columns": [
        {
         "name": "index",
         "rawType": "int64",
         "type": "integer"
        },
        {
         "name": "OUTBOUND_YEAR",
         "rawType": "int32",
         "type": "integer"
        },
        {
         "name": "OUTBOUND_WEEK",
         "rawType": "UInt32",
         "type": "integer"
        },
        {
         "name": "NET_QUANTITY_MT",
         "rawType": "float64",
         "type": "float"
        },
        {
         "name": "NET_QUANTITY_KT",
         "rawType": "float64",
         "type": "float"
        }
       ],
       "ref": "011d8c56-5902-4fcf-bbf6-1fdf45ecb3ff",
       "rows": [
        [
         "0",
         "2023",
         "49",
         "49.5",
         "0.05"
        ],
        [
         "1",
         "2023",
         "52",
         "70.125",
         "0.07"
        ],
        [
         "2",
         "2024",
         "1",
         "6637.43",
         "6.637"
        ],
        [
         "3",
         "2024",
         "2",
         "6709.72",
         "6.71"
        ],
        [
         "4",
         "2024",
         "3",
         "5721.265",
         "5.721"
        ],
        [
         "5",
         "2024",
         "4",
         "5721.065",
         "5.721"
        ],
        [
         "6",
         "2024",
         "5",
         "4133.965",
         "4.134"
        ],
        [
         "7",
         "2024",
         "6",
         "2718.775",
         "2.719"
        ],
        [
         "8",
         "2024",
         "7",
         "1855.725",
         "1.856"
        ],
        [
         "9",
         "2024",
         "8",
         "5962.19",
         "5.962"
        ],
        [
         "10",
         "2024",
         "9",
         "5749.305",
         "5.749"
        ],
        [
         "11",
         "2024",
         "10",
         "5804.595",
         "5.805"
        ],
        [
         "12",
         "2024",
         "11",
         "4699.11",
         "4.699"
        ],
        [
         "13",
         "2024",
         "12",
         "5391.89",
         "5.392"
        ],
        [
         "14",
         "2024",
         "13",
         "5639.47",
         "5.639"
        ],
        [
         "15",
         "2024",
         "14",
         "4392.32",
         "4.392"
        ],
        [
         "16",
         "2024",
         "15",
         "6601.985",
         "6.602"
        ],
        [
         "17",
         "2024",
         "16",
         "5712.45",
         "5.712"
        ],
        [
         "18",
         "2024",
         "17",
         "4915.62",
         "4.916"
        ],
        [
         "19",
         "2024",
         "18",
         "3272.05",
         "3.272"
        ],
        [
         "20",
         "2024",
         "19",
         "7007.205",
         "7.007"
        ],
        [
         "21",
         "2024",
         "20",
         "5451.65",
         "5.452"
        ],
        [
         "22",
         "2024",
         "21",
         "5730.42",
         "5.73"
        ],
        [
         "23",
         "2024",
         "22",
         "6803.245",
         "6.803"
        ],
        [
         "24",
         "2024",
         "23",
         "6570.995",
         "6.571"
        ],
        [
         "25",
         "2024",
         "24",
         "6425.43",
         "6.425"
        ],
        [
         "26",
         "2024",
         "25",
         "5320.745",
         "5.321"
        ],
        [
         "27",
         "2024",
         "26",
         "5829.795",
         "5.83"
        ],
        [
         "28",
         "2024",
         "27",
         "5716.18",
         "5.716"
        ],
        [
         "29",
         "2024",
         "28",
         "6598.235",
         "6.598"
        ],
        [
         "30",
         "2024",
         "29",
         "6440.43",
         "6.44"
        ],
        [
         "31",
         "2024",
         "30",
         "5395.695",
         "5.396"
        ],
        [
         "32",
         "2024",
         "31",
         "4967.155",
         "4.967"
        ],
        [
         "33",
         "2024",
         "32",
         "5268.375",
         "5.268"
        ],
        [
         "34",
         "2024",
         "33",
         "5653.585",
         "5.654"
        ],
        [
         "35",
         "2024",
         "34",
         "5571.43",
         "5.571"
        ],
        [
         "36",
         "2024",
         "35",
         "6682.88",
         "6.683"
        ],
        [
         "37",
         "2024",
         "36",
         "6800.675",
         "6.801"
        ],
        [
         "38",
         "2024",
         "37",
         "8078.675",
         "8.079"
        ],
        [
         "39",
         "2024",
         "38",
         "5364.065",
         "5.364"
        ],
        [
         "40",
         "2024",
         "39",
         "8373.955",
         "8.374"
        ],
        [
         "41",
         "2024",
         "40",
         "4148.795",
         "4.149"
        ],
        [
         "42",
         "2024",
         "41",
         "8519.15",
         "8.519"
        ],
        [
         "43",
         "2024",
         "42",
         "7431.67",
         "7.432"
        ],
        [
         "44",
         "2024",
         "43",
         "6004.67",
         "6.005"
        ],
        [
         "45",
         "2024",
         "44",
         "6163.92",
         "6.164"
        ],
        [
         "46",
         "2024",
         "45",
         "7238.4",
         "7.238"
        ],
        [
         "47",
         "2024",
         "46",
         "5519.6",
         "5.52"
        ],
        [
         "48",
         "2024",
         "47",
         "6214.8",
         "6.215"
        ],
        [
         "49",
         "2024",
         "48",
         "5761.65",
         "5.762"
        ]
       ],
       "shape": {
        "columns": 4,
        "rows": 55
       }
      },
      "text/html": [
       "<div>\n",
       "<style scoped>\n",
       "    .dataframe tbody tr th:only-of-type {\n",
       "        vertical-align: middle;\n",
       "    }\n",
       "\n",
       "    .dataframe tbody tr th {\n",
       "        vertical-align: top;\n",
       "    }\n",
       "\n",
       "    .dataframe thead th {\n",
       "        text-align: right;\n",
       "    }\n",
       "</style>\n",
       "<table border=\"1\" class=\"dataframe\">\n",
       "  <thead>\n",
       "    <tr style=\"text-align: right;\">\n",
       "      <th></th>\n",
       "      <th>OUTBOUND_YEAR</th>\n",
       "      <th>OUTBOUND_WEEK</th>\n",
       "      <th>NET_QUANTITY_MT</th>\n",
       "      <th>NET_QUANTITY_KT</th>\n",
       "    </tr>\n",
       "  </thead>\n",
       "  <tbody>\n",
       "    <tr>\n",
       "      <th>0</th>\n",
       "      <td>2023</td>\n",
       "      <td>49</td>\n",
       "      <td>49.500</td>\n",
       "      <td>0.050</td>\n",
       "    </tr>\n",
       "    <tr>\n",
       "      <th>1</th>\n",
       "      <td>2023</td>\n",
       "      <td>52</td>\n",
       "      <td>70.125</td>\n",
       "      <td>0.070</td>\n",
       "    </tr>\n",
       "    <tr>\n",
       "      <th>2</th>\n",
       "      <td>2024</td>\n",
       "      <td>1</td>\n",
       "      <td>6637.430</td>\n",
       "      <td>6.637</td>\n",
       "    </tr>\n",
       "    <tr>\n",
       "      <th>3</th>\n",
       "      <td>2024</td>\n",
       "      <td>2</td>\n",
       "      <td>6709.720</td>\n",
       "      <td>6.710</td>\n",
       "    </tr>\n",
       "    <tr>\n",
       "      <th>4</th>\n",
       "      <td>2024</td>\n",
       "      <td>3</td>\n",
       "      <td>5721.265</td>\n",
       "      <td>5.721</td>\n",
       "    </tr>\n",
       "    <tr>\n",
       "      <th>5</th>\n",
       "      <td>2024</td>\n",
       "      <td>4</td>\n",
       "      <td>5721.065</td>\n",
       "      <td>5.721</td>\n",
       "    </tr>\n",
       "    <tr>\n",
       "      <th>6</th>\n",
       "      <td>2024</td>\n",
       "      <td>5</td>\n",
       "      <td>4133.965</td>\n",
       "      <td>4.134</td>\n",
       "    </tr>\n",
       "    <tr>\n",
       "      <th>7</th>\n",
       "      <td>2024</td>\n",
       "      <td>6</td>\n",
       "      <td>2718.775</td>\n",
       "      <td>2.719</td>\n",
       "    </tr>\n",
       "    <tr>\n",
       "      <th>8</th>\n",
       "      <td>2024</td>\n",
       "      <td>7</td>\n",
       "      <td>1855.725</td>\n",
       "      <td>1.856</td>\n",
       "    </tr>\n",
       "    <tr>\n",
       "      <th>9</th>\n",
       "      <td>2024</td>\n",
       "      <td>8</td>\n",
       "      <td>5962.190</td>\n",
       "      <td>5.962</td>\n",
       "    </tr>\n",
       "    <tr>\n",
       "      <th>10</th>\n",
       "      <td>2024</td>\n",
       "      <td>9</td>\n",
       "      <td>5749.305</td>\n",
       "      <td>5.749</td>\n",
       "    </tr>\n",
       "    <tr>\n",
       "      <th>11</th>\n",
       "      <td>2024</td>\n",
       "      <td>10</td>\n",
       "      <td>5804.595</td>\n",
       "      <td>5.805</td>\n",
       "    </tr>\n",
       "    <tr>\n",
       "      <th>12</th>\n",
       "      <td>2024</td>\n",
       "      <td>11</td>\n",
       "      <td>4699.110</td>\n",
       "      <td>4.699</td>\n",
       "    </tr>\n",
       "    <tr>\n",
       "      <th>13</th>\n",
       "      <td>2024</td>\n",
       "      <td>12</td>\n",
       "      <td>5391.890</td>\n",
       "      <td>5.392</td>\n",
       "    </tr>\n",
       "    <tr>\n",
       "      <th>14</th>\n",
       "      <td>2024</td>\n",
       "      <td>13</td>\n",
       "      <td>5639.470</td>\n",
       "      <td>5.639</td>\n",
       "    </tr>\n",
       "    <tr>\n",
       "      <th>15</th>\n",
       "      <td>2024</td>\n",
       "      <td>14</td>\n",
       "      <td>4392.320</td>\n",
       "      <td>4.392</td>\n",
       "    </tr>\n",
       "    <tr>\n",
       "      <th>16</th>\n",
       "      <td>2024</td>\n",
       "      <td>15</td>\n",
       "      <td>6601.985</td>\n",
       "      <td>6.602</td>\n",
       "    </tr>\n",
       "    <tr>\n",
       "      <th>17</th>\n",
       "      <td>2024</td>\n",
       "      <td>16</td>\n",
       "      <td>5712.450</td>\n",
       "      <td>5.712</td>\n",
       "    </tr>\n",
       "    <tr>\n",
       "      <th>18</th>\n",
       "      <td>2024</td>\n",
       "      <td>17</td>\n",
       "      <td>4915.620</td>\n",
       "      <td>4.916</td>\n",
       "    </tr>\n",
       "    <tr>\n",
       "      <th>19</th>\n",
       "      <td>2024</td>\n",
       "      <td>18</td>\n",
       "      <td>3272.050</td>\n",
       "      <td>3.272</td>\n",
       "    </tr>\n",
       "    <tr>\n",
       "      <th>20</th>\n",
       "      <td>2024</td>\n",
       "      <td>19</td>\n",
       "      <td>7007.205</td>\n",
       "      <td>7.007</td>\n",
       "    </tr>\n",
       "    <tr>\n",
       "      <th>21</th>\n",
       "      <td>2024</td>\n",
       "      <td>20</td>\n",
       "      <td>5451.650</td>\n",
       "      <td>5.452</td>\n",
       "    </tr>\n",
       "    <tr>\n",
       "      <th>22</th>\n",
       "      <td>2024</td>\n",
       "      <td>21</td>\n",
       "      <td>5730.420</td>\n",
       "      <td>5.730</td>\n",
       "    </tr>\n",
       "    <tr>\n",
       "      <th>23</th>\n",
       "      <td>2024</td>\n",
       "      <td>22</td>\n",
       "      <td>6803.245</td>\n",
       "      <td>6.803</td>\n",
       "    </tr>\n",
       "    <tr>\n",
       "      <th>24</th>\n",
       "      <td>2024</td>\n",
       "      <td>23</td>\n",
       "      <td>6570.995</td>\n",
       "      <td>6.571</td>\n",
       "    </tr>\n",
       "    <tr>\n",
       "      <th>25</th>\n",
       "      <td>2024</td>\n",
       "      <td>24</td>\n",
       "      <td>6425.430</td>\n",
       "      <td>6.425</td>\n",
       "    </tr>\n",
       "    <tr>\n",
       "      <th>26</th>\n",
       "      <td>2024</td>\n",
       "      <td>25</td>\n",
       "      <td>5320.745</td>\n",
       "      <td>5.321</td>\n",
       "    </tr>\n",
       "    <tr>\n",
       "      <th>27</th>\n",
       "      <td>2024</td>\n",
       "      <td>26</td>\n",
       "      <td>5829.795</td>\n",
       "      <td>5.830</td>\n",
       "    </tr>\n",
       "    <tr>\n",
       "      <th>28</th>\n",
       "      <td>2024</td>\n",
       "      <td>27</td>\n",
       "      <td>5716.180</td>\n",
       "      <td>5.716</td>\n",
       "    </tr>\n",
       "    <tr>\n",
       "      <th>29</th>\n",
       "      <td>2024</td>\n",
       "      <td>28</td>\n",
       "      <td>6598.235</td>\n",
       "      <td>6.598</td>\n",
       "    </tr>\n",
       "    <tr>\n",
       "      <th>30</th>\n",
       "      <td>2024</td>\n",
       "      <td>29</td>\n",
       "      <td>6440.430</td>\n",
       "      <td>6.440</td>\n",
       "    </tr>\n",
       "    <tr>\n",
       "      <th>31</th>\n",
       "      <td>2024</td>\n",
       "      <td>30</td>\n",
       "      <td>5395.695</td>\n",
       "      <td>5.396</td>\n",
       "    </tr>\n",
       "    <tr>\n",
       "      <th>32</th>\n",
       "      <td>2024</td>\n",
       "      <td>31</td>\n",
       "      <td>4967.155</td>\n",
       "      <td>4.967</td>\n",
       "    </tr>\n",
       "    <tr>\n",
       "      <th>33</th>\n",
       "      <td>2024</td>\n",
       "      <td>32</td>\n",
       "      <td>5268.375</td>\n",
       "      <td>5.268</td>\n",
       "    </tr>\n",
       "    <tr>\n",
       "      <th>34</th>\n",
       "      <td>2024</td>\n",
       "      <td>33</td>\n",
       "      <td>5653.585</td>\n",
       "      <td>5.654</td>\n",
       "    </tr>\n",
       "    <tr>\n",
       "      <th>35</th>\n",
       "      <td>2024</td>\n",
       "      <td>34</td>\n",
       "      <td>5571.430</td>\n",
       "      <td>5.571</td>\n",
       "    </tr>\n",
       "    <tr>\n",
       "      <th>36</th>\n",
       "      <td>2024</td>\n",
       "      <td>35</td>\n",
       "      <td>6682.880</td>\n",
       "      <td>6.683</td>\n",
       "    </tr>\n",
       "    <tr>\n",
       "      <th>37</th>\n",
       "      <td>2024</td>\n",
       "      <td>36</td>\n",
       "      <td>6800.675</td>\n",
       "      <td>6.801</td>\n",
       "    </tr>\n",
       "    <tr>\n",
       "      <th>38</th>\n",
       "      <td>2024</td>\n",
       "      <td>37</td>\n",
       "      <td>8078.675</td>\n",
       "      <td>8.079</td>\n",
       "    </tr>\n",
       "    <tr>\n",
       "      <th>39</th>\n",
       "      <td>2024</td>\n",
       "      <td>38</td>\n",
       "      <td>5364.065</td>\n",
       "      <td>5.364</td>\n",
       "    </tr>\n",
       "    <tr>\n",
       "      <th>40</th>\n",
       "      <td>2024</td>\n",
       "      <td>39</td>\n",
       "      <td>8373.955</td>\n",
       "      <td>8.374</td>\n",
       "    </tr>\n",
       "    <tr>\n",
       "      <th>41</th>\n",
       "      <td>2024</td>\n",
       "      <td>40</td>\n",
       "      <td>4148.795</td>\n",
       "      <td>4.149</td>\n",
       "    </tr>\n",
       "    <tr>\n",
       "      <th>42</th>\n",
       "      <td>2024</td>\n",
       "      <td>41</td>\n",
       "      <td>8519.150</td>\n",
       "      <td>8.519</td>\n",
       "    </tr>\n",
       "    <tr>\n",
       "      <th>43</th>\n",
       "      <td>2024</td>\n",
       "      <td>42</td>\n",
       "      <td>7431.670</td>\n",
       "      <td>7.432</td>\n",
       "    </tr>\n",
       "    <tr>\n",
       "      <th>44</th>\n",
       "      <td>2024</td>\n",
       "      <td>43</td>\n",
       "      <td>6004.670</td>\n",
       "      <td>6.005</td>\n",
       "    </tr>\n",
       "    <tr>\n",
       "      <th>45</th>\n",
       "      <td>2024</td>\n",
       "      <td>44</td>\n",
       "      <td>6163.920</td>\n",
       "      <td>6.164</td>\n",
       "    </tr>\n",
       "    <tr>\n",
       "      <th>46</th>\n",
       "      <td>2024</td>\n",
       "      <td>45</td>\n",
       "      <td>7238.400</td>\n",
       "      <td>7.238</td>\n",
       "    </tr>\n",
       "    <tr>\n",
       "      <th>47</th>\n",
       "      <td>2024</td>\n",
       "      <td>46</td>\n",
       "      <td>5519.600</td>\n",
       "      <td>5.520</td>\n",
       "    </tr>\n",
       "    <tr>\n",
       "      <th>48</th>\n",
       "      <td>2024</td>\n",
       "      <td>47</td>\n",
       "      <td>6214.800</td>\n",
       "      <td>6.215</td>\n",
       "    </tr>\n",
       "    <tr>\n",
       "      <th>49</th>\n",
       "      <td>2024</td>\n",
       "      <td>48</td>\n",
       "      <td>5761.650</td>\n",
       "      <td>5.762</td>\n",
       "    </tr>\n",
       "    <tr>\n",
       "      <th>50</th>\n",
       "      <td>2024</td>\n",
       "      <td>49</td>\n",
       "      <td>6150.370</td>\n",
       "      <td>6.150</td>\n",
       "    </tr>\n",
       "    <tr>\n",
       "      <th>51</th>\n",
       "      <td>2024</td>\n",
       "      <td>50</td>\n",
       "      <td>6236.110</td>\n",
       "      <td>6.236</td>\n",
       "    </tr>\n",
       "    <tr>\n",
       "      <th>52</th>\n",
       "      <td>2024</td>\n",
       "      <td>51</td>\n",
       "      <td>5270.505</td>\n",
       "      <td>5.271</td>\n",
       "    </tr>\n",
       "    <tr>\n",
       "      <th>53</th>\n",
       "      <td>2024</td>\n",
       "      <td>52</td>\n",
       "      <td>6043.080</td>\n",
       "      <td>6.043</td>\n",
       "    </tr>\n",
       "    <tr>\n",
       "      <th>54</th>\n",
       "      <td>2025</td>\n",
       "      <td>1</td>\n",
       "      <td>49.500</td>\n",
       "      <td>0.050</td>\n",
       "    </tr>\n",
       "  </tbody>\n",
       "</table>\n",
       "</div>"
      ],
      "text/plain": [
       "    OUTBOUND_YEAR  OUTBOUND_WEEK  NET_QUANTITY_MT  NET_QUANTITY_KT\n",
       "0            2023             49           49.500            0.050\n",
       "1            2023             52           70.125            0.070\n",
       "2            2024              1         6637.430            6.637\n",
       "3            2024              2         6709.720            6.710\n",
       "4            2024              3         5721.265            5.721\n",
       "5            2024              4         5721.065            5.721\n",
       "6            2024              5         4133.965            4.134\n",
       "7            2024              6         2718.775            2.719\n",
       "8            2024              7         1855.725            1.856\n",
       "9            2024              8         5962.190            5.962\n",
       "10           2024              9         5749.305            5.749\n",
       "11           2024             10         5804.595            5.805\n",
       "12           2024             11         4699.110            4.699\n",
       "13           2024             12         5391.890            5.392\n",
       "14           2024             13         5639.470            5.639\n",
       "15           2024             14         4392.320            4.392\n",
       "16           2024             15         6601.985            6.602\n",
       "17           2024             16         5712.450            5.712\n",
       "18           2024             17         4915.620            4.916\n",
       "19           2024             18         3272.050            3.272\n",
       "20           2024             19         7007.205            7.007\n",
       "21           2024             20         5451.650            5.452\n",
       "22           2024             21         5730.420            5.730\n",
       "23           2024             22         6803.245            6.803\n",
       "24           2024             23         6570.995            6.571\n",
       "25           2024             24         6425.430            6.425\n",
       "26           2024             25         5320.745            5.321\n",
       "27           2024             26         5829.795            5.830\n",
       "28           2024             27         5716.180            5.716\n",
       "29           2024             28         6598.235            6.598\n",
       "30           2024             29         6440.430            6.440\n",
       "31           2024             30         5395.695            5.396\n",
       "32           2024             31         4967.155            4.967\n",
       "33           2024             32         5268.375            5.268\n",
       "34           2024             33         5653.585            5.654\n",
       "35           2024             34         5571.430            5.571\n",
       "36           2024             35         6682.880            6.683\n",
       "37           2024             36         6800.675            6.801\n",
       "38           2024             37         8078.675            8.079\n",
       "39           2024             38         5364.065            5.364\n",
       "40           2024             39         8373.955            8.374\n",
       "41           2024             40         4148.795            4.149\n",
       "42           2024             41         8519.150            8.519\n",
       "43           2024             42         7431.670            7.432\n",
       "44           2024             43         6004.670            6.005\n",
       "45           2024             44         6163.920            6.164\n",
       "46           2024             45         7238.400            7.238\n",
       "47           2024             46         5519.600            5.520\n",
       "48           2024             47         6214.800            6.215\n",
       "49           2024             48         5761.650            5.762\n",
       "50           2024             49         6150.370            6.150\n",
       "51           2024             50         6236.110            6.236\n",
       "52           2024             51         5270.505            5.271\n",
       "53           2024             52         6043.080            6.043\n",
       "54           2025              1           49.500            0.050"
      ]
     },
     "execution_count": 56,
     "metadata": {},
     "output_type": "execute_result"
    }
   ],
   "source": [
    "outbound_week_group"
   ]
  },
  {
   "cell_type": "code",
   "execution_count": 75,
   "id": "4fe9460d",
   "metadata": {},
   "outputs": [],
   "source": [
    "outbound_week_group.to_csv('outbound_mat_holiday_byweek.csv', index=False)"
   ]
  },
  {
   "cell_type": "code",
   "execution_count": null,
   "id": "c0b01968",
   "metadata": {},
   "outputs": [],
   "source": []
  }
 ],
 "metadata": {
  "kernelspec": {
   "display_name": "base",
   "language": "python",
   "name": "python3"
  },
  "language_info": {
   "codemirror_mode": {
    "name": "ipython",
    "version": 3
   },
   "file_extension": ".py",
   "mimetype": "text/x-python",
   "name": "python",
   "nbconvert_exporter": "python",
   "pygments_lexer": "ipython3",
   "version": "3.12.4"
  }
 },
 "nbformat": 4,
 "nbformat_minor": 5
}
