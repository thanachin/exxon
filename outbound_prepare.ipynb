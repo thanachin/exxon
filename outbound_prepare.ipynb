{
 "cells": [
  {
   "cell_type": "code",
   "execution_count": 2,
   "id": "713da41c",
   "metadata": {},
   "outputs": [],
   "source": [
    "import pandas as pd\n",
    "import seaborn as sns"
   ]
  },
  {
   "cell_type": "code",
   "execution_count": 3,
   "id": "cbf488d0",
   "metadata": {},
   "outputs": [],
   "source": [
    "df = pd.read_csv('Outbound.csv')"
   ]
  },
  {
   "cell_type": "code",
   "execution_count": 4,
   "id": "f00c6a52",
   "metadata": {},
   "outputs": [
    {
     "data": {
      "text/html": [
       "<div>\n",
       "<style scoped>\n",
       "    .dataframe tbody tr th:only-of-type {\n",
       "        vertical-align: middle;\n",
       "    }\n",
       "\n",
       "    .dataframe tbody tr th {\n",
       "        vertical-align: top;\n",
       "    }\n",
       "\n",
       "    .dataframe thead th {\n",
       "        text-align: right;\n",
       "    }\n",
       "</style>\n",
       "<table border=\"1\" class=\"dataframe\">\n",
       "  <thead>\n",
       "    <tr style=\"text-align: right;\">\n",
       "      <th></th>\n",
       "      <th>OUTBOUND_DATE</th>\n",
       "      <th>PLANT_NAME</th>\n",
       "      <th>MODE_OF_TRANSPORT</th>\n",
       "      <th>MATERIAL_NAME</th>\n",
       "      <th>CUSTOMER_NUMBER</th>\n",
       "      <th>NET_QUANTITY_MT</th>\n",
       "    </tr>\n",
       "  </thead>\n",
       "  <tbody>\n",
       "    <tr>\n",
       "      <th>0</th>\n",
       "      <td>2024/01/02</td>\n",
       "      <td>CHINA-WAREHOUSE</td>\n",
       "      <td>Truck</td>\n",
       "      <td>MAT-0013</td>\n",
       "      <td>CST-00001</td>\n",
       "      <td>25.5</td>\n",
       "    </tr>\n",
       "    <tr>\n",
       "      <th>1</th>\n",
       "      <td>2024/01/02</td>\n",
       "      <td>CHINA-WAREHOUSE</td>\n",
       "      <td>Truck</td>\n",
       "      <td>MAT-0013</td>\n",
       "      <td>CST-00001</td>\n",
       "      <td>25.5</td>\n",
       "    </tr>\n",
       "    <tr>\n",
       "      <th>2</th>\n",
       "      <td>2024/01/02</td>\n",
       "      <td>CHINA-WAREHOUSE</td>\n",
       "      <td>Truck</td>\n",
       "      <td>MAT-0268</td>\n",
       "      <td>CST-00002</td>\n",
       "      <td>25.5</td>\n",
       "    </tr>\n",
       "    <tr>\n",
       "      <th>3</th>\n",
       "      <td>2024/01/02</td>\n",
       "      <td>CHINA-WAREHOUSE</td>\n",
       "      <td>Truck</td>\n",
       "      <td>MAT-0268</td>\n",
       "      <td>CST-00002</td>\n",
       "      <td>25.5</td>\n",
       "    </tr>\n",
       "    <tr>\n",
       "      <th>4</th>\n",
       "      <td>2024/01/02</td>\n",
       "      <td>CHINA-WAREHOUSE</td>\n",
       "      <td>Truck</td>\n",
       "      <td>MAT-0268</td>\n",
       "      <td>CST-00002</td>\n",
       "      <td>25.5</td>\n",
       "    </tr>\n",
       "  </tbody>\n",
       "</table>\n",
       "</div>"
      ],
      "text/plain": [
       "  OUTBOUND_DATE       PLANT_NAME MODE_OF_TRANSPORT MATERIAL_NAME  \\\n",
       "0    2024/01/02  CHINA-WAREHOUSE             Truck      MAT-0013   \n",
       "1    2024/01/02  CHINA-WAREHOUSE             Truck      MAT-0013   \n",
       "2    2024/01/02  CHINA-WAREHOUSE             Truck      MAT-0268   \n",
       "3    2024/01/02  CHINA-WAREHOUSE             Truck      MAT-0268   \n",
       "4    2024/01/02  CHINA-WAREHOUSE             Truck      MAT-0268   \n",
       "\n",
       "  CUSTOMER_NUMBER  NET_QUANTITY_MT  \n",
       "0       CST-00001             25.5  \n",
       "1       CST-00001             25.5  \n",
       "2       CST-00002             25.5  \n",
       "3       CST-00002             25.5  \n",
       "4       CST-00002             25.5  "
      ]
     },
     "execution_count": 4,
     "metadata": {},
     "output_type": "execute_result"
    }
   ],
   "source": [
    "df.head()"
   ]
  },
  {
   "cell_type": "code",
   "execution_count": 5,
   "id": "ad80f966",
   "metadata": {},
   "outputs": [
    {
     "name": "stdout",
     "output_type": "stream",
     "text": [
      "<class 'pandas.core.frame.DataFrame'>\n",
      "RangeIndex: 26994 entries, 0 to 26993\n",
      "Data columns (total 6 columns):\n",
      " #   Column             Non-Null Count  Dtype  \n",
      "---  ------             --------------  -----  \n",
      " 0   OUTBOUND_DATE      26994 non-null  object \n",
      " 1   PLANT_NAME         26994 non-null  object \n",
      " 2   MODE_OF_TRANSPORT  26994 non-null  object \n",
      " 3   MATERIAL_NAME      26990 non-null  object \n",
      " 4   CUSTOMER_NUMBER    26994 non-null  object \n",
      " 5   NET_QUANTITY_MT    26994 non-null  float64\n",
      "dtypes: float64(1), object(5)\n",
      "memory usage: 1.2+ MB\n"
     ]
    }
   ],
   "source": [
    "df.info()"
   ]
  },
  {
   "cell_type": "code",
   "execution_count": 6,
   "id": "bd57b458",
   "metadata": {},
   "outputs": [
    {
     "data": {
      "text/plain": [
       "True"
      ]
     },
     "execution_count": 6,
     "metadata": {},
     "output_type": "execute_result"
    }
   ],
   "source": [
    "any(df.duplicated())"
   ]
  },
  {
   "cell_type": "code",
   "execution_count": 7,
   "id": "296dde34",
   "metadata": {},
   "outputs": [
    {
     "data": {
      "text/plain": [
       "OUTBOUND_DATE  PLANT_NAME           MODE_OF_TRANSPORT  MATERIAL_NAME  CUSTOMER_NUMBER  NET_QUANTITY_MT\n",
       "2024/11/05     SINGAPORE-WAREHOUSE  Marine             MAT-0354       CST-01291        24.75              19\n",
       "2024/06/02     SINGAPORE-WAREHOUSE  Marine             MAT-0267       CST-01214        24.75              16\n",
       "2024/02/22     SINGAPORE-WAREHOUSE  Marine             MAT-0015       CST-00272        24.75              14\n",
       "2024/10/09     CHINA-WAREHOUSE      Truck              MAT-0354       CST-00743        24.75              12\n",
       "2024/02/19     SINGAPORE-WAREHOUSE  Marine             MAT-0051       CST-01175        22.50              12\n",
       "                                                                                                          ..\n",
       "2024/07/26     SINGAPORE-WAREHOUSE  Marine             MAT-0275       CST-01259        24.75               2\n",
       "                                                       MAT-0151       CST-01031        24.75               2\n",
       "               CHINA-WAREHOUSE      Truck              MAT-0415       CST-00049        24.75               2\n",
       "                                                       MAT-0322       CST-00259        24.75               2\n",
       "2025/01/01     SINGAPORE-WAREHOUSE  Marine             MAT-0172       CST-01120        24.75               2\n",
       "Name: count, Length: 2917, dtype: int64"
      ]
     },
     "execution_count": 7,
     "metadata": {},
     "output_type": "execute_result"
    }
   ],
   "source": [
    "df[(df.duplicated(keep=False))].value_counts()"
   ]
  },
  {
   "cell_type": "code",
   "execution_count": 8,
   "id": "84fe9b7e",
   "metadata": {},
   "outputs": [
    {
     "name": "stdout",
     "output_type": "stream",
     "text": [
      "OUTBOUND_DATE\n",
      "['2024/01/02' '2024/01/03' '2024/01/04' '2024/01/05' '2024/01/06'\n",
      " '2024/01/08' '2024/01/09' '2024/01/10' '2024/01/11' '2024/01/12'\n",
      " '2024/01/13' '2024/01/15' '2024/01/16' '2024/01/17' '2024/01/18'\n",
      " '2024/01/19' '2024/01/20' '2024/01/22' '2024/01/23' '2024/01/24'\n",
      " '2024/01/25' '2024/01/26' '2024/01/27' '2024/01/29' '2024/01/30'\n",
      " '2024/01/31' '2024/02/01' '2024/02/02' '2024/02/03' '2024/02/04'\n",
      " '2024/02/05' '2024/02/06' '2024/02/07' '2024/02/18' '2024/02/19'\n",
      " '2024/02/20' '2024/02/21' '2024/02/22' '2024/02/23' '2024/02/24'\n",
      " '2024/02/26' '2024/02/27' '2024/02/28' '2024/02/29' '2024/03/01'\n",
      " '2024/03/02' '2024/03/04' '2024/03/05' '2024/03/06' '2024/03/07'\n",
      " '2024/03/08' '2024/03/09' '2024/03/11' '2024/03/12' '2024/03/13'\n",
      " '2024/03/14' '2024/03/15' '2024/03/16' '2024/03/18' '2024/03/19'\n",
      " '2024/03/20' '2024/03/21' '2024/03/22' '2024/03/23' '2024/03/25'\n",
      " '2024/03/26' '2024/03/27' '2024/03/28' '2024/03/29' '2024/03/30'\n",
      " '2024/04/01' '2024/04/02' '2024/04/03' '2024/04/06' '2024/04/07'\n",
      " '2024/04/08' '2024/04/09' '2024/04/10' '2024/04/11' '2024/04/12'\n",
      " '2024/04/13' '2024/04/14' '2024/04/15' '2024/04/16' '2024/04/17'\n",
      " '2024/04/18' '2024/04/19' '2024/04/20' '2024/04/21' '2024/04/22'\n",
      " '2024/04/23' '2024/04/24' '2024/04/25' '2024/04/26' '2024/04/27'\n",
      " '2024/04/28' '2024/04/29' '2024/04/30' '2024/05/04' '2024/05/05'\n",
      " '2024/05/06' '2024/05/07' '2024/05/08' '2024/05/09' '2024/05/10'\n",
      " '2024/05/11' '2024/05/13' '2024/05/14' '2024/05/15' '2024/05/16'\n",
      " '2024/05/17' '2024/05/18' '2024/05/20' '2024/05/21' '2024/05/22'\n",
      " '2024/05/23' '2024/05/24' '2024/05/25' '2024/05/27' '2024/05/28'\n",
      " '2024/05/29' '2024/05/30' '2024/05/31' '2024/06/01' '2024/06/03'\n",
      " '2024/06/04' '2024/06/05' '2024/06/06' '2024/06/07' '2024/06/08'\n",
      " '2024/06/11' '2024/06/12' '2024/06/13' '2024/06/14' '2024/06/15'\n",
      " '2024/06/17' '2024/06/18' '2024/06/19' '2024/06/20' '2024/06/21'\n",
      " '2024/06/22' '2024/06/24' '2024/06/25' '2024/06/26' '2024/06/27'\n",
      " '2024/06/28' '2024/06/29' '2024/07/01' '2024/07/02' '2024/07/03'\n",
      " '2024/07/04' '2024/07/05' '2024/07/06' '2024/07/08' '2024/07/09'\n",
      " '2024/07/10' '2024/07/11' '2024/07/12' '2024/07/13' '2024/07/15'\n",
      " '2024/07/16' '2024/07/17' '2024/07/18' '2024/07/19' '2024/07/20'\n",
      " '2024/07/22' '2024/07/23' '2024/07/24' '2024/07/25' '2024/07/26'\n",
      " '2024/07/27' '2024/07/29' '2024/07/30' '2024/07/31' '2024/08/01'\n",
      " '2024/08/02' '2024/08/03' '2024/08/05' '2024/08/06' '2024/08/07'\n",
      " '2024/08/08' '2024/08/09' '2024/08/10' '2024/08/12' '2024/08/13'\n",
      " '2024/08/14' '2024/08/15' '2024/08/16' '2024/08/17' '2024/08/19'\n",
      " '2024/08/20' '2024/08/21' '2024/08/22' '2024/08/23' '2024/08/24'\n",
      " '2024/08/26' '2024/08/27' '2024/08/28' '2024/08/29' '2024/08/30'\n",
      " '2024/08/31' '2024/09/02' '2024/09/03' '2024/09/04' '2024/09/05'\n",
      " '2024/09/06' '2024/09/07' '2024/09/09' '2024/09/10' '2024/09/11'\n",
      " '2024/09/12' '2024/09/13' '2024/09/14' '2024/09/17' '2024/09/18'\n",
      " '2024/09/19' '2024/09/21' '2024/09/23' '2024/09/24' '2024/09/25'\n",
      " '2024/09/26' '2024/09/27' '2024/09/28' '2024/09/29' '2024/09/30'\n",
      " '2024/10/06' '2024/10/07' '2024/10/08' '2024/10/09' '2024/10/10'\n",
      " '2024/10/11' '2024/10/12' '2024/10/14' '2024/10/15' '2024/10/16'\n",
      " '2024/10/17' '2024/10/18' '2024/10/19' '2024/10/21' '2024/10/22'\n",
      " '2024/10/23' '2024/10/24' '2024/10/25' '2024/10/26' '2024/10/28'\n",
      " '2024/10/29' '2024/10/30' '2024/10/31' '2024/11/02' '2024/11/04'\n",
      " '2024/11/05' '2024/11/06' '2024/11/07' '2024/11/08' '2024/11/09'\n",
      " '2024/11/11' '2024/11/12' '2024/11/13' '2024/11/14' '2024/11/15'\n",
      " '2024/11/16' '2024/11/18' '2024/11/19' '2024/11/20' '2024/11/21'\n",
      " '2024/11/22' '2024/11/23' '2024/11/25' '2024/11/26' '2024/11/27'\n",
      " '2024/11/28' '2024/11/29' '2024/11/30' '2024/12/02' '2024/12/03'\n",
      " '2024/12/04' '2024/12/05' '2024/12/06' '2024/12/07' '2024/12/09'\n",
      " '2024/12/10' '2024/12/11' '2024/12/12' '2024/12/13' '2024/12/14'\n",
      " '2024/12/16' '2024/12/17' '2024/12/18' '2024/12/19' '2024/12/20'\n",
      " '2024/12/21' '2024/12/23' '2024/12/24' '2024/12/25' '2024/12/26'\n",
      " '2024/12/27' '2024/12/28' '2024/12/30' '2024/12/31' '2023/12/06'\n",
      " '2023/12/31' '2024/01/01' '2024/01/07' '2024/01/14' '2024/01/21'\n",
      " '2024/01/28' '2024/02/08' '2024/02/09' '2024/02/10' '2024/02/11'\n",
      " '2024/02/12' '2024/02/13' '2024/02/14' '2024/02/15' '2024/02/16'\n",
      " '2024/02/17' '2024/02/25' '2024/03/03' '2024/03/10' '2024/03/17'\n",
      " '2024/03/24' '2024/03/31' '2024/04/04' '2024/04/05' '2024/05/01'\n",
      " '2024/05/02' '2024/05/03' '2024/05/12' '2024/05/19' '2024/05/26'\n",
      " '2024/06/02' '2024/06/09' '2024/06/10' '2024/06/16' '2024/06/23'\n",
      " '2024/06/30' '2024/07/07' '2024/07/14' '2024/07/21' '2024/07/28'\n",
      " '2024/08/04' '2024/08/11' '2024/08/18' '2024/08/25' '2024/09/01'\n",
      " '2024/09/08' '2024/09/15' '2024/09/16' '2024/09/20' '2024/09/22'\n",
      " '2024/10/01' '2024/10/02' '2024/10/03' '2024/10/04' '2024/10/05'\n",
      " '2024/10/13' '2024/10/20' '2024/10/27' '2024/11/01' '2024/11/03'\n",
      " '2024/11/10' '2024/11/17' '2024/11/24' '2024/12/01' '2024/12/08'\n",
      " '2024/12/15' '2024/12/22' '2024/12/29' '2025/01/01' '2025/01/02']\n",
      "--------------------------------------------------\n",
      "PLANT_NAME\n",
      "['CHINA-WAREHOUSE' 'SINGAPORE-WAREHOUSE']\n",
      "--------------------------------------------------\n",
      "MODE_OF_TRANSPORT\n",
      "['Truck' 'Marine']\n",
      "--------------------------------------------------\n",
      "MATERIAL_NAME\n",
      "['MAT-0013' 'MAT-0268' 'MAT-0145' 'MAT-0428' 'MAT-0264' 'MAT-0415'\n",
      " 'MAT-0229' 'MAT-0321' 'MAT-0325' 'MAT-0340' 'MAT-0084' 'MAT-0318'\n",
      " 'MAT-0319' 'MAT-0015' 'MAT-0112' 'MAT-0316' 'MAT-0266' 'MAT-0317'\n",
      " 'MAT-0314' 'MAT-0142' 'MAT-0007' 'MAT-0055' 'MAT-0339' 'MAT-0143'\n",
      " 'MAT-0389' 'MAT-0206' 'MAT-0056' 'MAT-0390' 'MAT-0195' 'MAT-0382'\n",
      " 'MAT-0328' 'MAT-0144' 'MAT-0270' 'MAT-0001' 'MAT-0146' 'MAT-0082'\n",
      " 'MAT-0156' 'MAT-0064' 'MAT-0378' 'MAT-0386' 'MAT-0375' 'MAT-0005'\n",
      " 'MAT-0111' 'MAT-0099' 'MAT-0046' 'MAT-0333' 'MAT-0176' 'MAT-0413'\n",
      " 'MAT-0103' 'MAT-0035' 'MAT-0380' 'MAT-0197' 'MAT-0196' 'MAT-0201'\n",
      " 'MAT-0097' 'MAT-0396' 'MAT-0047' 'MAT-0259' 'MAT-0379' 'MAT-0326'\n",
      " 'MAT-0049' 'MAT-0137' 'MAT-0327' 'MAT-0159' 'MAT-0261' 'MAT-0054'\n",
      " 'MAT-0202' 'MAT-0198' 'MAT-0313' 'MAT-0009' 'MAT-0315' 'MAT-0065'\n",
      " 'MAT-0148' 'MAT-0113' 'MAT-0265' 'MAT-0233' 'MAT-0236' 'MAT-0053'\n",
      " 'MAT-0147' 'MAT-0356' 'MAT-0353' 'MAT-0193' 'MAT-0104' 'MAT-0324'\n",
      " 'MAT-0150' 'MAT-0332' 'MAT-0200' 'MAT-0323' 'MAT-0151' 'MAT-0149'\n",
      " 'MAT-0357' 'MAT-0256' 'MAT-0352' 'MAT-0295' 'MAT-0416' 'MAT-0050'\n",
      " 'MAT-0178' 'MAT-0114' 'MAT-0057' 'MAT-0338' 'MAT-0322' 'MAT-0234'\n",
      " 'MAT-0085' 'MAT-0383' 'MAT-0158' 'MAT-0412' 'MAT-0374' 'MAT-0098'\n",
      " 'MAT-0017' 'MAT-0320' 'MAT-0397' 'MAT-0269' 'MAT-0281' 'MAT-0116'\n",
      " 'MAT-0154' 'MAT-0042' 'MAT-0388' 'MAT-0249' 'MAT-0032' 'MAT-0180'\n",
      " 'MAT-0153' 'MAT-0384' 'MAT-0276' 'MAT-0237' 'MAT-0207' 'MAT-0354'\n",
      " 'MAT-0218' 'MAT-0117' 'MAT-0174' 'MAT-0329' 'MAT-0330' 'MAT-0115'\n",
      " 'MAT-0096' 'MAT-0235' 'MAT-0350' 'MAT-0312' 'MAT-0373' 'MAT-0376'\n",
      " 'MAT-0277' 'MAT-0250' 'MAT-0101' 'MAT-0392' 'MAT-0004' 'MAT-0217'\n",
      " 'MAT-0160' 'MAT-0358' 'MAT-0381' 'MAT-0267' 'MAT-0086' 'MAT-0106'\n",
      " 'MAT-0429' 'MAT-0215' 'MAT-0334' 'MAT-0105' 'MAT-0011' 'MAT-0175'\n",
      " 'MAT-0003' 'MAT-0231' 'MAT-0263' 'MAT-0179' 'MAT-0393' 'MAT-0008'\n",
      " 'MAT-0285' 'MAT-0362' 'MAT-0430' 'MAT-0188' 'MAT-0391' 'MAT-0166'\n",
      " 'MAT-0254' 'MAT-0260' 'MAT-0036' 'MAT-0066' 'MAT-0164' 'MAT-0092'\n",
      " 'MAT-0400' 'MAT-0399' 'MAT-0100' 'MAT-0398' 'MAT-0194' 'MAT-0272'\n",
      " 'MAT-0205' 'MAT-0214' 'MAT-0048' 'MAT-0014' 'MAT-0165' 'MAT-0291'\n",
      " 'MAT-0052' 'MAT-0199' 'MAT-0279' 'MAT-0294' 'MAT-0282' 'MAT-0187'\n",
      " 'MAT-0246' 'MAT-0377' 'MAT-0095' 'MAT-0280' 'MAT-0018' 'MAT-0012'\n",
      " 'MAT-0002' 'MAT-0069' 'MAT-0141' 'MAT-0284' 'MAT-0367' 'MAT-0232'\n",
      " 'MAT-0341' 'MAT-0161' 'MAT-0351' 'MAT-0417' 'MAT-0190' 'MAT-0118'\n",
      " 'MAT-0060' 'MAT-0401' 'MAT-0363' 'MAT-0128' 'MAT-0078' 'MAT-0425'\n",
      " 'MAT-0331' 'MAT-0059' 'MAT-0163' 'MAT-0162' 'MAT-0273' 'MAT-0068'\n",
      " 'MAT-0070' 'MAT-0402' 'MAT-0019' 'MAT-0108' 'MAT-0157' 'MAT-0120'\n",
      " 'MAT-0087' 'MAT-0167' 'MAT-0107' 'MAT-0255' 'MAT-0368' 'MAT-0168'\n",
      " 'MAT-0016' 'MAT-0262' 'MAT-0230' 'MAT-0239' 'MAT-0418' 'MAT-0208'\n",
      " 'MAT-0209' 'MAT-0119' 'MAT-0102' 'MAT-0271' 'MAT-0385' 'MAT-0216'\n",
      " 'MAT-0286' 'MAT-0091' 'MAT-0038' 'MAT-0287' 'MAT-0369' 'MAT-0138'\n",
      " 'MAT-0343' 'MAT-0394' 'MAT-0251' 'MAT-0409' 'MAT-0299' 'MAT-0298'\n",
      " 'MAT-0345' 'MAT-0210' 'MAT-0303' 'MAT-0366' 'MAT-0421' 'MAT-0395'\n",
      " 'MAT-0344' 'MAT-0109' 'MAT-0302' 'MAT-0122' 'MAT-0301' 'MAT-0228'\n",
      " 'MAT-0221' 'MAT-0072' 'MAT-0365' 'MAT-0182' 'MAT-0079' 'MAT-0293'\n",
      " 'MAT-0247' 'MAT-0062' 'MAT-0371' 'MAT-0306' 'MAT-0335' 'MAT-0359'\n",
      " 'MAT-0372' 'MAT-0243' 'MAT-0131' 'MAT-0304' 'MAT-0346' 'MAT-0405'\n",
      " 'MAT-0136' 'MAT-0073' 'MAT-0135' 'MAT-0177' 'MAT-0355' 'MAT-0242'\n",
      " 'MAT-0051' 'MAT-0336' 'MAT-0074' 'MAT-0404' 'MAT-0075' 'MAT-0292'\n",
      " 'MAT-0192' 'MAT-0349' 'MAT-0121' 'MAT-0110' 'MAT-0305' 'MAT-0123'\n",
      " 'MAT-0364' 'MAT-0308' 'MAT-0222' 'MAT-0309' 'MAT-0029' 'MAT-0296'\n",
      " 'MAT-0211' nan 'MAT-0274' 'MAT-0241' 'MAT-0089' 'MAT-0423' 'MAT-0406'\n",
      " 'MAT-0186' 'MAT-0076' 'MAT-0080' 'MAT-0023' 'MAT-0224' 'MAT-0037'\n",
      " 'MAT-0077' 'MAT-0275' 'MAT-0044' 'MAT-0028' 'MAT-0171' 'MAT-0419'\n",
      " 'MAT-0403' 'MAT-0063' 'MAT-0411' 'MAT-0034' 'MAT-0071' 'MAT-0420'\n",
      " 'MAT-0248' 'MAT-0030' 'MAT-0307' 'MAT-0226' 'MAT-0225' 'MAT-0041'\n",
      " 'MAT-0184' 'MAT-0410' 'MAT-0212' 'MAT-0426' 'MAT-0361' 'MAT-0360'\n",
      " 'MAT-0183' 'MAT-0223' 'MAT-0093' 'MAT-0024' 'MAT-0133' 'MAT-0185'\n",
      " 'MAT-0040' 'MAT-0424' 'MAT-0252' 'MAT-0408' 'MAT-0227' 'MAT-0026'\n",
      " 'MAT-0126' 'MAT-0081' 'MAT-0244' 'MAT-0427' 'MAT-0172' 'MAT-0310']\n",
      "--------------------------------------------------\n",
      "CUSTOMER_NUMBER\n",
      "['CST-00001' 'CST-00002' 'CST-00003' ... 'CST-01527' 'CST-01528'\n",
      " 'CST-01529']\n",
      "--------------------------------------------------\n",
      "NET_QUANTITY_MT\n",
      "[2.5500e+01 2.4750e+01 8.0000e-02 1.3800e+00 1.3000e+00 2.2000e+01\n",
      " 9.6300e+00 1.3750e+01 1.7880e+01 6.8800e+00 3.0000e+00 1.5000e+01\n",
      " 4.1300e+00 1.9250e+01 1.2380e+01 3.5000e-01 1.0000e-01 5.0000e-02\n",
      " 5.5000e-01 1.0300e+00 3.0000e-02 1.4000e+00 2.2500e+01 2.0000e-01\n",
      " 5.0000e-01 5.5000e+00 5.0000e+00 1.7380e+01 1.3000e-01 6.5000e-01\n",
      " 1.5130e+01 2.1950e+01 1.1800e+00 9.8000e-01 1.2500e+00 9.0000e+00\n",
      " 6.0000e-01 1.2800e+00 8.8000e-01 8.9000e+00 1.5850e+01 2.0000e+01\n",
      " 2.5000e+00 1.2000e+01 2.7000e+01 1.0500e+01 1.5000e+00 1.3500e+00\n",
      " 6.7800e+00 1.6480e+01 2.3000e+01 1.6500e+01 4.0000e-01 1.3300e+00\n",
      " 1.3500e+01 4.3300e+00 2.1000e+01 1.8000e-01 1.8000e+01 2.4600e+01\n",
      " 2.8000e-01 1.0680e+01 8.2500e+00 2.8500e+00 1.5000e-01 4.5000e+00\n",
      " 1.0000e+01 1.2500e+01 1.2280e+01 2.6800e+00 2.3000e-01 2.3380e+01\n",
      " 1.9030e+01 1.1000e+01 1.3650e+01 2.1850e+01 2.7500e+00 8.1300e+00\n",
      " 4.1500e+00 1.9500e+01 1.2000e+00 3.0000e-01 1.4500e+00 6.8000e-01\n",
      " 5.8000e-01 1.1300e+00 1.4300e+00 7.8000e-01 2.4000e+01 7.3000e-01\n",
      " 8.0000e-01 6.0000e+00 1.4750e+01 1.7350e+01 1.0750e+01 8.1500e+00\n",
      " 7.5000e+00 2.5000e-01 1.8100e+01 4.3000e-01 4.5000e-01 1.2300e+00\n",
      " 9.3000e-01 7.4000e+00 6.8300e+00 1.0000e+00 1.8300e+00 1.7680e+01\n",
      " 7.0800e+00 7.5000e-01 1.9150e+01 1.7930e+01 2.1930e+01 8.4000e+00\n",
      " 4.2500e+00 3.3000e-01 2.0800e+01 7.1500e+00 1.8200e+01 8.4500e+00\n",
      " 1.8850e+01 1.9500e+00 1.2350e+01 2.6000e+00 2.8800e+00 7.0000e-01\n",
      " 1.5080e+01 5.3000e-01 6.1500e+00 4.8000e-01 1.3000e+01 6.5000e+00\n",
      " 7.8000e+00 1.6250e+01 6.2500e+00 2.4630e+01 1.7400e+01 8.1000e+00\n",
      " 8.9500e+00 2.0630e+01 4.5500e+00 2.0150e+01 4.0500e+00 6.4800e+00\n",
      " 9.0000e-01 3.4000e+00 1.2240e+01 1.5050e+01 2.3850e+01 7.4300e+00\n",
      " 1.4300e+01 9.1000e+00 1.0800e+00 7.2500e+00 8.5000e-01 5.8500e+00\n",
      " 1.4930e+01 1.1250e+01 8.7500e+00 1.5600e+01 5.2000e+00 9.9300e+00\n",
      " 4.3800e+00 1.5300e+00 8.9800e+00 7.6300e+00 5.0800e+00 1.6680e+01\n",
      " 8.0800e+00 1.1500e+00 1.1200e+01 1.0500e+00 1.8750e+01 3.7000e+00\n",
      " 1.7530e+01 7.2300e+00 1.4880e+01 1.9200e+01 1.0400e+01 2.4500e+00\n",
      " 1.7500e+01 2.6500e+00 8.8000e+00 1.2450e+01 1.0200e+01 3.7500e+00\n",
      " 9.5000e-01 1.3700e+01 4.9000e+00 2.4300e+00 1.1000e+00 2.4430e+01\n",
      " 1.5530e+01 2.4800e+00 1.5030e+01 1.6430e+01 2.2580e+01 3.5500e+00\n",
      " 2.4250e+01 2.9500e+00 1.6050e+01 8.7000e+00 2.4550e+01 5.4000e+00\n",
      " 4.2000e+00 1.0430e+01 1.1350e+01 2.2000e+00 2.2440e+01 6.3800e+00\n",
      " 1.2230e+01 2.0400e+00 2.4730e+01 1.6350e+01 7.4500e+00 1.2430e+01\n",
      " 5.9500e+00 3.8000e-01 2.4380e+01 5.9800e+00 8.3000e-01 1.2250e+01\n",
      " 2.4680e+01 2.2080e+01 2.4700e+01 2.1980e+01 5.4500e+00 1.4960e+01\n",
      " 1.9950e+01 9.5200e+00 2.7200e+00 9.0300e+00 2.1800e+00 2.0930e+01\n",
      " 3.2500e+00 3.9000e+00 1.3180e+01 1.6900e+01 2.1900e+01 1.9180e+01\n",
      " 2.5000e+01 1.1700e+01 1.7800e+01 1.6450e+01 5.8300e+00 1.1050e+01\n",
      " 5.9000e+00 2.1760e+01 2.5430e+01 1.7550e+01 1.4950e+01 2.3350e+01\n",
      " 2.0500e+00 1.5500e+00 1.4580e+01 5.4300e+00 7.8300e+00 2.7000e+00\n",
      " 2.2400e+01 2.4300e+01 2.0550e+01 1.6300e+00 2.4200e+01 1.2200e+01\n",
      " 1.1560e+01 8.9300e+00 2.4500e+01 8.2000e+00 1.0900e+01 8.0000e+00\n",
      " 2.0000e+00 5.8800e+00 1.7500e+00 2.0450e+01 1.9350e+01 1.9700e+01\n",
      " 1.2400e+01 9.5000e+00 5.3800e+00 1.6150e+01 1.6180e+01 7.4800e+00\n",
      " 1.8700e+01 1.8650e+01 2.4650e+01 1.9880e+01 2.1680e+01 2.6300e+00\n",
      " 3.1300e+00 2.3230e+01 1.8050e+01 1.9780e+01 4.0800e+00 2.2430e+01\n",
      " 4.4000e+00 2.4230e+01 2.0580e+01 9.6000e+00 3.9500e+00 1.6000e+00\n",
      " 5.8000e+00 1.6330e+01 4.0000e+00 1.1230e+01 6.3000e-01 5.9300e+00\n",
      " 1.0330e+01 9.3300e+00 8.8500e+00 9.5500e+00 2.2650e+01 2.3580e+01\n",
      " 2.0350e+01 2.1400e+01 2.2530e+01 2.0480e+01 1.4800e+00 1.3400e+01\n",
      " 1.0280e+01 2.3800e+00 2.4480e+01 1.7700e+01 2.4410e+01 1.3630e+01\n",
      " 2.5400e+01 4.0300e+00 1.2330e+01 2.3530e+01 2.1880e+01 1.2300e+01\n",
      " 3.0000e+01 8.1800e+00 2.3500e+00 1.7480e+01 3.7300e+00 1.3580e+01\n",
      " 1.4800e+01 1.0930e+01 2.1180e+01 4.9800e+00 8.0500e+00 1.9930e+01\n",
      " 2.0330e+01 4.4300e+00 2.8000e+00 1.9980e+01 1.7450e+01 8.6500e+00\n",
      " 1.1880e+01 2.3250e+01 1.3730e+01 2.1250e+01 9.4000e+00 2.2500e+00\n",
      " 1.7600e+01 3.6800e+00 4.1000e+00 8.2300e+00 2.3480e+01 3.0500e+00\n",
      " 1.9430e+01 7.3500e+00 1.2750e+01 5.0300e+00 3.6000e+00 6.6800e+00\n",
      " 5.1000e+00 2.3300e+01 1.9230e+01 1.7780e+01 7.3300e+00 6.6300e+00\n",
      " 2.0400e+01 2.7500e+01 9.4800e+00 7.3000e+00 2.3280e+01 2.8300e+00\n",
      " 2.1700e+01 5.7300e+00 1.2480e+01 6.8000e+00 2.3330e+01 1.3480e+01\n",
      " 1.4850e+01 1.3680e+01 3.3000e+00 5.5300e+00 5.1800e+00 1.9580e+01\n",
      " 1.7830e+01 3.3800e+00 4.2800e+00 2.5500e+00 1.0650e+01 9.4500e+00\n",
      " 2.4000e+00 2.0000e-02 2.0250e+01 5.9000e-01 9.6000e-01 7.0000e-02\n",
      " 2.2000e-01 2.0750e+01 5.5500e+00 4.2300e+00 3.3300e+00 4.5800e+00\n",
      " 1.0300e+01 1.1330e+01 1.1180e+01 9.1500e+00 2.0840e+01 8.5800e+00\n",
      " 3.2000e+00 2.9300e+00 4.0000e-02 8.8200e+00 1.3350e+01 1.1980e+01\n",
      " 2.3900e+01 1.7800e+00 2.7800e+00 6.9300e+00 2.3980e+01 1.8930e+01\n",
      " 2.2450e+01 5.4800e+00 3.8500e+00 2.0300e+01 2.3180e+01 2.5480e+01\n",
      " 2.0780e+01 2.5800e+00 1.9800e+00 1.8800e+00 2.0600e+01 6.1800e+00\n",
      " 3.7800e+00 5.3300e+00 1.0450e+01 2.3550e+01 1.7750e+01 2.1500e+00\n",
      " 6.9000e+00 1.0480e+01 6.4000e+00 2.4350e+01 2.9800e+00 3.8000e+00\n",
      " 1.4330e+01 3.4300e+00 6.6500e+00 8.6000e+00 2.1350e+01 2.2700e+01\n",
      " 8.3500e+00 2.9000e+00 1.3800e+01 1.6750e+01 7.0300e+00 1.0980e+01\n",
      " 1.0550e+01 5.6300e+00 2.0900e+01 1.5100e+01 6.6000e+00 2.0530e+01\n",
      " 3.9300e+00 2.0650e+01 6.7000e-01 2.3950e+01 7.0000e+00 1.1000e-01\n",
      " 1.3600e+00 1.2000e-01 2.9900e+00 1.8200e+00 8.6900e+00 5.1200e+00\n",
      " 2.6000e-01 2.1000e-01 1.0000e-02 5.6000e-01 2.5450e+01 6.9800e+00\n",
      " 2.1580e+01 1.9000e+01 1.5800e+00 4.5400e+00 8.7000e-01 7.4000e-01\n",
      " 3.2000e-01 2.2800e+00 5.2300e+00 2.4400e+01 1.0350e+01 1.3550e+01\n",
      " 2.5300e+01 1.2180e+01 2.3430e+01 1.0180e+01 7.2800e+00 5.0500e+00\n",
      " 9.5300e+00 1.9300e+01 1.9530e+01 1.7300e+00 2.3150e+01 9.8300e+00\n",
      " 9.4300e+00 2.2980e+01 2.0950e+01 1.3530e+01 6.5300e+00 1.2080e+01\n",
      " 1.2680e+01 4.3500e+00 4.9500e+00 1.1780e+01 1.6930e+01 1.2980e+01\n",
      " 6.7300e+00 1.8230e+01 1.6550e+01 1.9050e+01 5.7000e+00 1.6380e+01\n",
      " 8.3800e+00 7.7800e+00 1.6980e+01 2.1000e+00 6.8500e+00 1.2530e+01\n",
      " 5.6000e+00 7.9800e+00 1.6530e+01 6.7500e+00 7.2000e+00 3.1800e+00\n",
      " 6.1000e+00 1.8430e+01 2.1600e+01 1.7130e+01 1.6280e+01 7.5500e+00\n",
      " 1.2780e+01 1.1950e+01 8.7800e+00 1.6730e+01 8.6300e+00 1.6130e+01\n",
      " 2.4330e+01 2.7300e+00 1.4100e+01 2.1380e+01 2.1650e+01 4.4800e+00\n",
      " 1.3780e+01 1.1800e+01 1.0830e+01 1.7000e+00 1.8950e+01 5.7500e+00\n",
      " 1.6800e+00 2.3730e+01 2.2380e+01 1.0950e+01 2.3000e+00 1.4180e+01\n",
      " 1.0580e+01 9.8500e+00 1.4900e+01 1.3600e+01 7.6800e+00 1.0250e+01\n",
      " 1.1750e+01 1.8500e+01 1.9850e+01 1.7150e+01 7.6000e+00 1.9380e+01\n",
      " 6.3500e+00 5.7800e+00 1.7850e+01 1.8780e+01 2.0680e+01 5.3000e+00\n",
      " 2.1300e+00 2.2630e+01 8.3300e+00 1.5650e+01 1.5180e+01 1.1300e+01\n",
      " 1.2700e+01 1.5200e+01 1.9900e+01 1.9650e+01 1.9040e+01 1.1030e+01\n",
      " 8.0300e+00 2.0280e+01 4.6000e+00 1.7330e+01 1.4500e+01 2.2280e+01\n",
      " 2.3930e+01 1.0380e+01 2.5300e+00 2.0300e+00 6.4000e-01 1.4150e+01\n",
      " 3.6300e+00 1.6000e+01 2.5200e+01 2.4580e+01 1.8150e+01 2.5180e+01\n",
      " 9.6500e+00 6.9500e+00 7.5300e+00 1.2030e+01 4.7300e+00 2.0030e+01\n",
      " 2.5230e+01 9.9500e+00 2.2050e+01 8.5500e+00 1.6200e+01 2.0100e+01\n",
      " 8.4800e+00 2.4530e+01 2.1500e+01 1.8000e+00 2.1080e+01 1.4830e+01\n",
      " 7.1800e+00 7.7000e+00 1.2850e+01 6.0800e+00 1.1900e+01 1.4350e+01\n",
      " 1.9280e+01 2.4030e+01 1.5450e+01 9.3000e+00 1.6880e+01 7.8800e+00\n",
      " 2.3375e+01 1.3750e+00 6.8750e+00 9.6250e+00 4.1250e+00 1.5125e+01\n",
      " 2.0625e+01 1.7875e+01 1.2375e+01 9.5250e+00 3.1500e+00 9.9800e+00\n",
      " 4.7500e-01 2.5750e+00 1.2750e+00 1.3250e+00 2.1225e+01 1.2250e+00\n",
      " 4.3250e+00 1.1750e+00 1.0750e+00 9.7500e+00 1.7500e-01 2.6250e+00\n",
      " 8.2500e-01 2.4725e+01 5.2500e+00 8.7500e-01 1.2500e-01 3.7500e-01\n",
      " 7.5000e-02 2.5000e-02 9.9750e+00 3.2500e-01 2.2025e+01 1.0850e+01\n",
      " 4.9750e+00 3.2750e+00 2.7500e-01 2.4750e+00 2.4250e+00 9.7500e-01\n",
      " 1.4250e+00 2.7250e+00 1.1250e+00 2.6750e+00 5.7500e-01 2.5475e+01\n",
      " 1.5075e+01 5.7750e+00 4.8500e+00 4.0550e+01 6.0000e-02 1.1150e+01\n",
      " 3.5300e+00 2.7000e-01 0.0000e+00 2.3275e+01 1.0250e+00 2.1750e+00\n",
      " 2.2500e-01 2.3400e+01 6.2500e-01 7.3750e+00 1.5250e+00 5.2500e-01\n",
      " 5.4750e+00]\n",
      "--------------------------------------------------\n"
     ]
    }
   ],
   "source": [
    "for i in df.columns:\n",
    "    print(i)\n",
    "    print(df[i].unique())\n",
    "    print('-'*50)"
   ]
  },
  {
   "cell_type": "code",
   "execution_count": 9,
   "id": "5febc714",
   "metadata": {},
   "outputs": [],
   "source": [
    "df.drop_duplicates(inplace=True)"
   ]
  },
  {
   "cell_type": "code",
   "execution_count": 10,
   "id": "c4d4cfc8",
   "metadata": {},
   "outputs": [
    {
     "name": "stdout",
     "output_type": "stream",
     "text": [
      "<class 'pandas.core.frame.DataFrame'>\n",
      "Index: 22183 entries, 0 to 26993\n",
      "Data columns (total 6 columns):\n",
      " #   Column             Non-Null Count  Dtype  \n",
      "---  ------             --------------  -----  \n",
      " 0   OUTBOUND_DATE      22183 non-null  object \n",
      " 1   PLANT_NAME         22183 non-null  object \n",
      " 2   MODE_OF_TRANSPORT  22183 non-null  object \n",
      " 3   MATERIAL_NAME      22179 non-null  object \n",
      " 4   CUSTOMER_NUMBER    22183 non-null  object \n",
      " 5   NET_QUANTITY_MT    22183 non-null  float64\n",
      "dtypes: float64(1), object(5)\n",
      "memory usage: 1.2+ MB\n"
     ]
    }
   ],
   "source": [
    "df.info() #ข้อมูลเหลือ 82.17752%"
   ]
  },
  {
   "cell_type": "code",
   "execution_count": 11,
   "id": "d4795241",
   "metadata": {},
   "outputs": [
    {
     "name": "stdout",
     "output_type": "stream",
     "text": [
      "      OUTBOUND_DATE           PLANT_NAME MODE_OF_TRANSPORT MATERIAL_NAME  \\\n",
      "20357    2024/04/18  SINGAPORE-WAREHOUSE             Truck           NaN   \n",
      "22091    2024/07/08  SINGAPORE-WAREHOUSE            Marine           NaN   \n",
      "23124    2024/08/14  SINGAPORE-WAREHOUSE            Marine           NaN   \n",
      "24795    2024/10/14  SINGAPORE-WAREHOUSE             Truck           NaN   \n",
      "\n",
      "      CUSTOMER_NUMBER  NET_QUANTITY_MT  \n",
      "20357       CST-01280           22.000  \n",
      "22091       CST-01064           23.375  \n",
      "23124       CST-01392           23.375  \n",
      "24795       CST-01258            0.040  \n"
     ]
    }
   ],
   "source": [
    "print(df[df['MATERIAL_NAME'].isnull()])"
   ]
  },
  {
   "cell_type": "code",
   "execution_count": 12,
   "id": "3652ca61",
   "metadata": {},
   "outputs": [],
   "source": [
    "df.dropna(inplace=True)"
   ]
  },
  {
   "cell_type": "code",
   "execution_count": 13,
   "id": "e909eb10",
   "metadata": {},
   "outputs": [
    {
     "data": {
      "text/plain": [
       "<Axes: xlabel='NET_QUANTITY_MT'>"
      ]
     },
     "execution_count": 13,
     "metadata": {},
     "output_type": "execute_result"
    },
    {
     "data": {
      "image/png": "[encoded data removed]",
      "text/plain": [
       "<Figure size 640x480 with 1 Axes>"
      ]
     },
     "metadata": {},
     "output_type": "display_data"
    }
   ],
   "source": [
    "sns.boxplot(x=df['NET_QUANTITY_MT'])"
   ]
  },
  {
   "cell_type": "code",
   "execution_count": 14,
   "id": "fb12efc7",
   "metadata": {},
   "outputs": [
    {
     "name": "stdout",
     "output_type": "stream",
     "text": [
      "<class 'pandas.core.frame.DataFrame'>\n",
      "Index: 22179 entries, 0 to 26993\n",
      "Data columns (total 6 columns):\n",
      " #   Column             Non-Null Count  Dtype  \n",
      "---  ------             --------------  -----  \n",
      " 0   OUTBOUND_DATE      22179 non-null  object \n",
      " 1   PLANT_NAME         22179 non-null  object \n",
      " 2   MODE_OF_TRANSPORT  22179 non-null  object \n",
      " 3   MATERIAL_NAME      22179 non-null  object \n",
      " 4   CUSTOMER_NUMBER    22179 non-null  object \n",
      " 5   NET_QUANTITY_MT    22179 non-null  float64\n",
      "dtypes: float64(1), object(5)\n",
      "memory usage: 1.2+ MB\n"
     ]
    }
   ],
   "source": [
    "df.info()"
   ]
  },
  {
   "cell_type": "code",
   "execution_count": 16,
   "id": "b06126f2",
   "metadata": {},
   "outputs": [],
   "source": [
    "#df.to_csv('outbound_clean', index=False)"
   ]
  }
 ],
 "metadata": {
  "kernelspec": {
   "display_name": "base",
   "language": "python",
   "name": "python3"
  },
  "language_info": {
   "codemirror_mode": {
    "name": "ipython",
    "version": 3
   },
   "file_extension": ".py",
   "mimetype": "text/x-python",
   "name": "python",
   "nbconvert_exporter": "python",
   "pygments_lexer": "ipython3",
   "version": "3.12.3"
  }
 },
 "nbformat": 4,
 "nbformat_minor": 5
}
