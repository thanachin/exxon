{
 "cells": [
  {
   "cell_type": "code",
   "execution_count": 75,
   "id": "a28cebd9",
   "metadata": {},
   "outputs": [],
   "source": [
    "import pandas as pd\n",
    "import seaborn as sns\n",
    "import numpy as np"
   ]
  },
  {
   "cell_type": "code",
   "execution_count": 76,
   "id": "d8509882",
   "metadata": {},
   "outputs": [],
   "source": [
    "df = pd.read_csv('Inventory.csv')"
   ]
  },
  {
   "cell_type": "markdown",
   "id": "f524c6ad",
   "metadata": {},
   "source": [
    "SIMPLE EXPLOR"
   ]
  },
  {
   "cell_type": "code",
   "execution_count": 77,
   "id": "7120c0aa",
   "metadata": {},
   "outputs": [
    {
     "name": "stdout",
     "output_type": "stream",
     "text": [
      "<class 'pandas.core.frame.DataFrame'>\n",
      "RangeIndex: 28328 entries, 0 to 28327\n",
      "Data columns (total 8 columns):\n",
      " #   Column              Non-Null Count  Dtype \n",
      "---  ------              --------------  ----- \n",
      " 0   BALANCE_AS_OF_DATE  28328 non-null  object\n",
      " 1   PLANT_NAME          28328 non-null  object\n",
      " 2   MATERIAL_NAME       28328 non-null  object\n",
      " 3   BATCH_NUMBER        28327 non-null  object\n",
      " 4   UNRESRICTED_STOCK   28328 non-null  int64 \n",
      " 5   STOCK_UNIT          28328 non-null  object\n",
      " 6   STOCK_SELL_VALUE    28328 non-null  int64 \n",
      " 7   CURRENCY            28328 non-null  object\n",
      "dtypes: int64(2), object(6)\n",
      "memory usage: 1.7+ MB\n"
     ]
    }
   ],
   "source": [
    "df.info()"
   ]
  },
  {
   "cell_type": "code",
   "execution_count": 78,
   "id": "ecf223a4",
   "metadata": {},
   "outputs": [
    {
     "name": "stdout",
     "output_type": "stream",
     "text": [
      "BALANCE_AS_OF_DATE    0\n",
      "PLANT_NAME            0\n",
      "MATERIAL_NAME         0\n",
      "BATCH_NUMBER          1\n",
      "UNRESRICTED_STOCK     0\n",
      "STOCK_UNIT            0\n",
      "STOCK_SELL_VALUE      0\n",
      "CURRENCY              0\n",
      "dtype: int64\n"
     ]
    }
   ],
   "source": [
    "print(df.isnull().sum())"
   ]
  },
  {
   "cell_type": "code",
   "execution_count": 79,
   "id": "f83397f1",
   "metadata": {},
   "outputs": [
    {
     "name": "stdout",
     "output_type": "stream",
     "text": [
      "      BALANCE_AS_OF_DATE           PLANT_NAME MATERIAL_NAME BATCH_NUMBER  \\\n",
      "24591          9/30/2024  SINGAPORE-WAREHOUSE      MAT-0132          NaN   \n",
      "\n",
      "       UNRESRICTED_STOCK STOCK_UNIT  STOCK_SELL_VALUE CURRENCY  \n",
      "24591                119         KG              2115      SGD  \n"
     ]
    }
   ],
   "source": [
    "print(df[df['BATCH_NUMBER'].isnull()])"
   ]
  },
  {
   "cell_type": "code",
   "execution_count": 80,
   "id": "22292d32",
   "metadata": {},
   "outputs": [
    {
     "data": {
      "text/html": [
       "<div>\n",
       "<style scoped>\n",
       "    .dataframe tbody tr th:only-of-type {\n",
       "        vertical-align: middle;\n",
       "    }\n",
       "\n",
       "    .dataframe tbody tr th {\n",
       "        vertical-align: top;\n",
       "    }\n",
       "\n",
       "    .dataframe thead th {\n",
       "        text-align: right;\n",
       "    }\n",
       "</style>\n",
       "<table border=\"1\" class=\"dataframe\">\n",
       "  <thead>\n",
       "    <tr style=\"text-align: right;\">\n",
       "      <th></th>\n",
       "      <th>BALANCE_AS_OF_DATE</th>\n",
       "      <th>PLANT_NAME</th>\n",
       "      <th>MATERIAL_NAME</th>\n",
       "      <th>BATCH_NUMBER</th>\n",
       "      <th>UNRESRICTED_STOCK</th>\n",
       "      <th>STOCK_UNIT</th>\n",
       "      <th>STOCK_SELL_VALUE</th>\n",
       "      <th>CURRENCY</th>\n",
       "    </tr>\n",
       "  </thead>\n",
       "  <tbody>\n",
       "    <tr>\n",
       "      <th>24589</th>\n",
       "      <td>9/30/2024</td>\n",
       "      <td>SINGAPORE-WAREHOUSE</td>\n",
       "      <td>MAT-0057</td>\n",
       "      <td>S9712B</td>\n",
       "      <td>16075</td>\n",
       "      <td>KG</td>\n",
       "      <td>17040</td>\n",
       "      <td>SGD</td>\n",
       "    </tr>\n",
       "    <tr>\n",
       "      <th>24590</th>\n",
       "      <td>9/30/2024</td>\n",
       "      <td>SINGAPORE-WAREHOUSE</td>\n",
       "      <td>MAT-0088</td>\n",
       "      <td>2098</td>\n",
       "      <td>9525</td>\n",
       "      <td>KG</td>\n",
       "      <td>5620</td>\n",
       "      <td>SGD</td>\n",
       "    </tr>\n",
       "    <tr>\n",
       "      <th>24591</th>\n",
       "      <td>9/30/2024</td>\n",
       "      <td>SINGAPORE-WAREHOUSE</td>\n",
       "      <td>MAT-0132</td>\n",
       "      <td>NaN</td>\n",
       "      <td>119</td>\n",
       "      <td>KG</td>\n",
       "      <td>2115</td>\n",
       "      <td>SGD</td>\n",
       "    </tr>\n",
       "    <tr>\n",
       "      <th>24592</th>\n",
       "      <td>9/30/2024</td>\n",
       "      <td>SINGAPORE-WAREHOUSE</td>\n",
       "      <td>MAT-0024</td>\n",
       "      <td>2148A5714</td>\n",
       "      <td>8250</td>\n",
       "      <td>KG</td>\n",
       "      <td>5775</td>\n",
       "      <td>SGD</td>\n",
       "    </tr>\n",
       "    <tr>\n",
       "      <th>24593</th>\n",
       "      <td>9/30/2024</td>\n",
       "      <td>SINGAPORE-WAREHOUSE</td>\n",
       "      <td>MAT-0024</td>\n",
       "      <td>5765A3467</td>\n",
       "      <td>41250</td>\n",
       "      <td>KG</td>\n",
       "      <td>28875</td>\n",
       "      <td>SGD</td>\n",
       "    </tr>\n",
       "    <tr>\n",
       "      <th>24594</th>\n",
       "      <td>9/30/2024</td>\n",
       "      <td>SINGAPORE-WAREHOUSE</td>\n",
       "      <td>MAT-0024</td>\n",
       "      <td>5873A2025</td>\n",
       "      <td>89375</td>\n",
       "      <td>KG</td>\n",
       "      <td>62563</td>\n",
       "      <td>SGD</td>\n",
       "    </tr>\n",
       "  </tbody>\n",
       "</table>\n",
       "</div>"
      ],
      "text/plain": [
       "      BALANCE_AS_OF_DATE           PLANT_NAME MATERIAL_NAME BATCH_NUMBER  \\\n",
       "24589          9/30/2024  SINGAPORE-WAREHOUSE      MAT-0057       S9712B   \n",
       "24590          9/30/2024  SINGAPORE-WAREHOUSE      MAT-0088         2098   \n",
       "24591          9/30/2024  SINGAPORE-WAREHOUSE      MAT-0132          NaN   \n",
       "24592          9/30/2024  SINGAPORE-WAREHOUSE      MAT-0024    2148A5714   \n",
       "24593          9/30/2024  SINGAPORE-WAREHOUSE      MAT-0024    5765A3467   \n",
       "24594          9/30/2024  SINGAPORE-WAREHOUSE      MAT-0024    5873A2025   \n",
       "\n",
       "       UNRESRICTED_STOCK STOCK_UNIT  STOCK_SELL_VALUE CURRENCY  \n",
       "24589              16075         KG             17040      SGD  \n",
       "24590               9525         KG              5620      SGD  \n",
       "24591                119         KG              2115      SGD  \n",
       "24592               8250         KG              5775      SGD  \n",
       "24593              41250         KG             28875      SGD  \n",
       "24594              89375         KG             62563      SGD  "
      ]
     },
     "execution_count": 80,
     "metadata": {},
     "output_type": "execute_result"
    }
   ],
   "source": [
    "df.iloc[24589:24595]"
   ]
  },
  {
   "cell_type": "code",
   "execution_count": 81,
   "id": "3a5b2ad6",
   "metadata": {},
   "outputs": [],
   "source": [
    "df.drop([24591],inplace=True)"
   ]
  },
  {
   "cell_type": "code",
   "execution_count": 82,
   "id": "115691d0",
   "metadata": {},
   "outputs": [
    {
     "data": {
      "text/html": [
       "<div>\n",
       "<style scoped>\n",
       "    .dataframe tbody tr th:only-of-type {\n",
       "        vertical-align: middle;\n",
       "    }\n",
       "\n",
       "    .dataframe tbody tr th {\n",
       "        vertical-align: top;\n",
       "    }\n",
       "\n",
       "    .dataframe thead th {\n",
       "        text-align: right;\n",
       "    }\n",
       "</style>\n",
       "<table border=\"1\" class=\"dataframe\">\n",
       "  <thead>\n",
       "    <tr style=\"text-align: right;\">\n",
       "      <th></th>\n",
       "      <th>BALANCE_AS_OF_DATE</th>\n",
       "      <th>PLANT_NAME</th>\n",
       "      <th>MATERIAL_NAME</th>\n",
       "      <th>BATCH_NUMBER</th>\n",
       "      <th>UNRESRICTED_STOCK</th>\n",
       "      <th>STOCK_UNIT</th>\n",
       "      <th>STOCK_SELL_VALUE</th>\n",
       "      <th>CURRENCY</th>\n",
       "    </tr>\n",
       "  </thead>\n",
       "  <tbody>\n",
       "    <tr>\n",
       "      <th>24589</th>\n",
       "      <td>9/30/2024</td>\n",
       "      <td>SINGAPORE-WAREHOUSE</td>\n",
       "      <td>MAT-0057</td>\n",
       "      <td>S9712B</td>\n",
       "      <td>16075</td>\n",
       "      <td>KG</td>\n",
       "      <td>17040</td>\n",
       "      <td>SGD</td>\n",
       "    </tr>\n",
       "    <tr>\n",
       "      <th>24590</th>\n",
       "      <td>9/30/2024</td>\n",
       "      <td>SINGAPORE-WAREHOUSE</td>\n",
       "      <td>MAT-0088</td>\n",
       "      <td>2098</td>\n",
       "      <td>9525</td>\n",
       "      <td>KG</td>\n",
       "      <td>5620</td>\n",
       "      <td>SGD</td>\n",
       "    </tr>\n",
       "    <tr>\n",
       "      <th>24592</th>\n",
       "      <td>9/30/2024</td>\n",
       "      <td>SINGAPORE-WAREHOUSE</td>\n",
       "      <td>MAT-0024</td>\n",
       "      <td>2148A5714</td>\n",
       "      <td>8250</td>\n",
       "      <td>KG</td>\n",
       "      <td>5775</td>\n",
       "      <td>SGD</td>\n",
       "    </tr>\n",
       "    <tr>\n",
       "      <th>24593</th>\n",
       "      <td>9/30/2024</td>\n",
       "      <td>SINGAPORE-WAREHOUSE</td>\n",
       "      <td>MAT-0024</td>\n",
       "      <td>5765A3467</td>\n",
       "      <td>41250</td>\n",
       "      <td>KG</td>\n",
       "      <td>28875</td>\n",
       "      <td>SGD</td>\n",
       "    </tr>\n",
       "    <tr>\n",
       "      <th>24594</th>\n",
       "      <td>9/30/2024</td>\n",
       "      <td>SINGAPORE-WAREHOUSE</td>\n",
       "      <td>MAT-0024</td>\n",
       "      <td>5873A2025</td>\n",
       "      <td>89375</td>\n",
       "      <td>KG</td>\n",
       "      <td>62563</td>\n",
       "      <td>SGD</td>\n",
       "    </tr>\n",
       "    <tr>\n",
       "      <th>24595</th>\n",
       "      <td>9/30/2024</td>\n",
       "      <td>SINGAPORE-WAREHOUSE</td>\n",
       "      <td>MAT-0024</td>\n",
       "      <td>6757A3049</td>\n",
       "      <td>66000</td>\n",
       "      <td>KG</td>\n",
       "      <td>46200</td>\n",
       "      <td>SGD</td>\n",
       "    </tr>\n",
       "  </tbody>\n",
       "</table>\n",
       "</div>"
      ],
      "text/plain": [
       "      BALANCE_AS_OF_DATE           PLANT_NAME MATERIAL_NAME BATCH_NUMBER  \\\n",
       "24589          9/30/2024  SINGAPORE-WAREHOUSE      MAT-0057       S9712B   \n",
       "24590          9/30/2024  SINGAPORE-WAREHOUSE      MAT-0088         2098   \n",
       "24592          9/30/2024  SINGAPORE-WAREHOUSE      MAT-0024    2148A5714   \n",
       "24593          9/30/2024  SINGAPORE-WAREHOUSE      MAT-0024    5765A3467   \n",
       "24594          9/30/2024  SINGAPORE-WAREHOUSE      MAT-0024    5873A2025   \n",
       "24595          9/30/2024  SINGAPORE-WAREHOUSE      MAT-0024    6757A3049   \n",
       "\n",
       "       UNRESRICTED_STOCK STOCK_UNIT  STOCK_SELL_VALUE CURRENCY  \n",
       "24589              16075         KG             17040      SGD  \n",
       "24590               9525         KG              5620      SGD  \n",
       "24592               8250         KG              5775      SGD  \n",
       "24593              41250         KG             28875      SGD  \n",
       "24594              89375         KG             62563      SGD  \n",
       "24595              66000         KG             46200      SGD  "
      ]
     },
     "execution_count": 82,
     "metadata": {},
     "output_type": "execute_result"
    }
   ],
   "source": [
    "df.iloc[24589:24595]"
   ]
  },
  {
   "cell_type": "code",
   "execution_count": 83,
   "id": "92bfb133",
   "metadata": {},
   "outputs": [
    {
     "data": {
      "text/plain": [
       "True"
      ]
     },
     "execution_count": 83,
     "metadata": {},
     "output_type": "execute_result"
    }
   ],
   "source": [
    "any(df.duplicated())"
   ]
  },
  {
   "cell_type": "code",
   "execution_count": 84,
   "id": "02b3b00a",
   "metadata": {},
   "outputs": [
    {
     "data": {
      "text/plain": [
       "2"
      ]
     },
     "execution_count": 84,
     "metadata": {},
     "output_type": "execute_result"
    }
   ],
   "source": [
    "max(df[(df.duplicated(keep=False))].value_counts())"
   ]
  },
  {
   "cell_type": "code",
   "execution_count": 85,
   "id": "12fc9b44",
   "metadata": {},
   "outputs": [],
   "source": [
    "df.drop_duplicates(inplace=True)"
   ]
  },
  {
   "cell_type": "code",
   "execution_count": 105,
   "id": "72a285f2",
   "metadata": {},
   "outputs": [
    {
     "data": {
      "text/plain": [
       "Index(['BALANCE_AS_OF_DATE', 'PLANT_NAME', 'MATERIAL_NAME', 'BATCH_NUMBER',\n",
       "       'UNRESRICTED_STOCK', 'STOCK_UNIT', 'STOCK_SELL_VALUE', 'CURRENCY',\n",
       "       'dolla', 'IS_HOLIDAY'],\n",
       "      dtype='object')"
      ]
     },
     "execution_count": 105,
     "metadata": {},
     "output_type": "execute_result"
    }
   ],
   "source": [
    "df.columns"
   ]
  },
  {
   "cell_type": "code",
   "execution_count": 86,
   "id": "13a635d0",
   "metadata": {},
   "outputs": [
    {
     "name": "stdout",
     "output_type": "stream",
     "text": [
      "BALANCE_AS_OF_DATE\n",
      "['12/31/2023' '1/31/2024' '2/29/2024' '3/31/2024' '4/30/2024' '5/31/2024'\n",
      " '6/30/2024' '7/31/2024' '8/31/2024' '9/30/2024' '10/31/2024' '11/30/2024'\n",
      " '12/31/2024']\n",
      "--------------------------------------------------\n",
      "PLANT_NAME\n",
      "['CHINA-WAREHOUSE' 'SINGAPORE-WAREHOUSE']\n",
      "--------------------------------------------------\n",
      "MATERIAL_NAME\n",
      "['MAT-0045' 'MAT-0193' 'MAT-0311' 'MAT-0374' 'MAT-0046' 'MAT-0194'\n",
      " 'MAT-0257' 'MAT-0195' 'MAT-0082' 'MAT-0196' 'MAT-0047' 'MAT-0094'\n",
      " 'MAT-0258' 'MAT-0259' 'MAT-0098' 'MAT-0099' 'MAT-0375' 'MAT-0376'\n",
      " 'MAT-0312' 'MAT-0233' 'MAT-0377' 'MAT-0197' 'MAT-0198' 'MAT-0100'\n",
      " 'MAT-0095' 'MAT-0260' 'MAT-0204' 'MAT-0052' 'MAT-0412' 'MAT-0261'\n",
      " 'MAT-0141' 'MAT-0313' 'MAT-0199' 'MAT-0200' 'MAT-0142' 'MAT-0143'\n",
      " 'MAT-0314' 'MAT-0144' 'MAT-0145' 'MAT-0001' 'MAT-0201' 'MAT-0262'\n",
      " 'MAT-0319' 'MAT-0048' 'MAT-0205' 'MAT-0176' 'MAT-0096' 'MAT-0315'\n",
      " 'MAT-0146' 'MAT-0049' 'MAT-0013' 'MAT-0147' 'MAT-0003' 'MAT-0004'\n",
      " 'MAT-0320' 'MAT-0321' 'MAT-0382' 'MAT-0053' 'MAT-0264' 'MAT-0097'\n",
      " 'MAT-0265' 'MAT-0266' 'MAT-0316' 'MAT-0101' 'MAT-0153' 'MAT-0322'\n",
      " 'MAT-0383' 'MAT-0148' 'MAT-0154' 'MAT-0384' 'MAT-0054' 'MAT-0378'\n",
      " 'MAT-0155' 'MAT-0149' 'MAT-0002' 'MAT-0267' 'MAT-0415' 'MAT-0156'\n",
      " 'MAT-0005' 'MAT-0379' 'MAT-0351' 'MAT-0385' 'MAT-0150' 'MAT-0268'\n",
      " 'MAT-0006' 'MAT-0276' 'MAT-0386' 'MAT-0380' 'MAT-0055' 'MAT-0202'\n",
      " 'MAT-0007' 'MAT-0317' 'MAT-0277' 'MAT-0323' 'MAT-0083' 'MAT-0056'\n",
      " 'MAT-0387' 'MAT-0206' 'MAT-0324' 'MAT-0203' 'MAT-0278' 'MAT-0084'\n",
      " 'MAT-0318' 'MAT-0269' 'MAT-0337' 'MAT-0325' 'MAT-0416' 'MAT-0326'\n",
      " 'MAT-0014' 'MAT-0151' 'MAT-0428' 'MAT-0015' 'MAT-0249' 'MAT-0279'\n",
      " 'MAT-0294' 'MAT-0327' 'MAT-0356' 'MAT-0328' 'MAT-0270' 'MAT-0111'\n",
      " 'MAT-0352' 'MAT-0329' 'MAT-0330' 'MAT-0213' 'MAT-0152' 'MAT-0381'\n",
      " 'MAT-0137' 'MAT-0234' 'MAT-0331' 'MAT-0157' 'MAT-0396' 'MAT-0158'\n",
      " 'MAT-0064' 'MAT-0235' 'MAT-0177' 'MAT-0229' 'MAT-0388' 'MAT-0057'\n",
      " 'MAT-0389' 'MAT-0102' 'MAT-0159' 'MAT-0271' 'MAT-0338' 'MAT-0214'\n",
      " 'MAT-0390' 'MAT-0112' 'MAT-0113' 'MAT-0215' 'MAT-0032' 'MAT-0114'\n",
      " 'MAT-0178' 'MAT-0065' 'MAT-0413' 'MAT-0103' 'MAT-0339' 'MAT-0429'\n",
      " 'MAT-0332' 'MAT-0050' 'MAT-0236' 'MAT-0333' 'MAT-0216' 'MAT-0217'\n",
      " 'MAT-0373' 'MAT-0357' 'MAT-0340' 'MAT-0008' 'MAT-0358' 'MAT-0350'\n",
      " 'MAT-0161' 'MAT-0256' 'MAT-0353' 'MAT-0295' 'MAT-0104' 'MAT-0115'\n",
      " 'MAT-0179' 'MAT-0009' 'MAT-0362' 'MAT-0237' 'MAT-0116' 'MAT-0085'\n",
      " 'MAT-0280' 'MAT-0138' 'MAT-0207' 'MAT-0035' 'MAT-0281' 'MAT-0117'\n",
      " 'MAT-0016' 'MAT-0230' 'MAT-0397' 'MAT-0180' 'MAT-0042' 'MAT-0162'\n",
      " 'MAT-0017' 'MAT-0391' 'MAT-0430' 'MAT-0036' 'MAT-0398' 'MAT-0174'\n",
      " 'MAT-0354' 'MAT-0282' 'MAT-0066' 'MAT-0272' 'MAT-0010' 'MAT-0163'\n",
      " 'MAT-0283' 'MAT-0086' 'MAT-0160' 'MAT-0250' 'MAT-0218' 'MAT-0105'\n",
      " 'MAT-0334' 'MAT-0164' 'MAT-0106' 'MAT-0067' 'MAT-0175' 'MAT-0392'\n",
      " 'MAT-0128' 'MAT-0425' 'MAT-0263' 'MAT-0107' 'MAT-0284' 'MAT-0037'\n",
      " 'MAT-0231' 'MAT-0296' 'MAT-0011' 'MAT-0078' 'MAT-0290' 'MAT-0187'\n",
      " 'MAT-0273' 'MAT-0068' 'MAT-0165' 'MAT-0285' 'MAT-0188' 'MAT-0166'\n",
      " 'MAT-0254' 'MAT-0393' 'MAT-0417' 'MAT-0058' 'MAT-0059' 'MAT-0399'\n",
      " 'MAT-0092' 'MAT-0400' 'MAT-0208' 'MAT-0418' 'MAT-0246' 'MAT-0291'\n",
      " 'MAT-0012' 'MAT-0367' 'MAT-0087' 'MAT-0118' 'MAT-0018' 'MAT-0394'\n",
      " 'MAT-0401' 'MAT-0119' 'MAT-0069' 'MAT-0209' 'MAT-0341' 'MAT-0190'\n",
      " 'MAT-0070' 'MAT-0232' 'MAT-0091' 'MAT-0060' 'MAT-0167' 'MAT-0402'\n",
      " 'MAT-0027' 'MAT-0368' 'MAT-0168' 'MAT-0040' 'MAT-0363' 'MAT-0019'\n",
      " 'MAT-0108' 'MAT-0120' 'MAT-0286' 'MAT-0181' 'MAT-0238' 'MAT-0297'\n",
      " 'MAT-0335' 'MAT-0071' 'MAT-0239' 'MAT-0255' 'MAT-0409' 'MAT-0251'\n",
      " 'MAT-0298' 'MAT-0299' 'MAT-0038' 'MAT-0287' 'MAT-0020' 'MAT-0219'\n",
      " 'MAT-0129' 'MAT-0061' 'MAT-0369' 'MAT-0185' 'MAT-0300' 'MAT-0414'\n",
      " 'MAT-0370' 'MAT-0021' 'MAT-0189' 'MAT-0033' 'MAT-0220' 'MAT-0342'\n",
      " 'MAT-0133' 'MAT-0134' 'MAT-0240' 'MAT-0343' 'MAT-0169' 'MAT-0170'\n",
      " 'MAT-0426' 'MAT-0130' 'MAT-0419' 'MAT-0344' 'MAT-0241' 'MAT-0072'\n",
      " 'MAT-0135' 'MAT-0364' 'MAT-0355' 'MAT-0210' 'MAT-0301' 'MAT-0034'\n",
      " 'MAT-0345' 'MAT-0121' 'MAT-0302' 'MAT-0221' 'MAT-0109' 'MAT-0122'\n",
      " 'MAT-0365' 'MAT-0139' 'MAT-0410' 'MAT-0420' 'MAT-0303' 'MAT-0403'\n",
      " 'MAT-0073' 'MAT-0366' 'MAT-0304' 'MAT-0051' 'MAT-0182' 'MAT-0252'\n",
      " 'MAT-0359' 'MAT-0336' 'MAT-0247' 'MAT-0123' 'MAT-0124' 'MAT-0041'\n",
      " 'MAT-0062' 'MAT-0228' 'MAT-0395' 'MAT-0346' 'MAT-0248' 'MAT-0063'\n",
      " 'MAT-0421' 'MAT-0371' 'MAT-0131' 'MAT-0404' 'MAT-0242' 'MAT-0110'\n",
      " 'MAT-0372' 'MAT-0079' 'MAT-0292' 'MAT-0192' 'MAT-0293' 'MAT-0125'\n",
      " 'MAT-0074' 'MAT-0088' 'MAT-0075' 'MAT-0028' 'MAT-0422' 'MAT-0405'\n",
      " 'MAT-0080' 'MAT-0022' 'MAT-0136' 'MAT-0029' 'MAT-0305' 'MAT-0406'\n",
      " 'MAT-0039' 'MAT-0274' 'MAT-0243' 'MAT-0423' 'MAT-0308' 'MAT-0349'\n",
      " 'MAT-0183' 'MAT-0186' 'MAT-0306' 'MAT-0309' 'MAT-0211' 'MAT-0222'\n",
      " 'MAT-0076' 'MAT-0089' 'MAT-0044' 'MAT-0223' 'MAT-0253' 'MAT-0077'\n",
      " 'MAT-0224' 'MAT-0307' 'MAT-0407' 'MAT-0288' 'MAT-0171' 'MAT-0411'\n",
      " 'MAT-0030' 'MAT-0225' 'MAT-0023' 'MAT-0226' 'MAT-0275' 'MAT-0424'\n",
      " 'MAT-0184' 'MAT-0360' 'MAT-0043' 'MAT-0126' 'MAT-0093' 'MAT-0024'\n",
      " 'MAT-0361' 'MAT-0081' 'MAT-0212' 'MAT-0408' 'MAT-0227' 'MAT-0427'\n",
      " 'MAT-0025' 'MAT-0026' 'MAT-0310' 'MAT-0431' 'MAT-0244' 'MAT-0348'\n",
      " 'MAT-0172' 'MAT-0191' 'MAT-0127' 'MAT-0347' 'MAT-0090' 'MAT-0173'\n",
      " 'MAT-0289' 'MAT-0031' 'MAT-0140' 'MAT-0245']\n",
      "--------------------------------------------------\n",
      "BATCH_NUMBER\n",
      "['SCRAP' '6024' '5755' ... 'M2060A' 'M8696C' 'M2299A']\n",
      "--------------------------------------------------\n",
      "UNRESRICTED_STOCK\n",
      "[    164       0   70720 ... 1045500  780000  324000]\n",
      "--------------------------------------------------\n",
      "STOCK_UNIT\n",
      "['KG']\n",
      "--------------------------------------------------\n",
      "STOCK_SELL_VALUE\n",
      "[    211   87666  414419 ... 2062587   17710   11165]\n",
      "--------------------------------------------------\n",
      "CURRENCY\n",
      "['CNY' 'SGD']\n",
      "--------------------------------------------------\n"
     ]
    }
   ],
   "source": [
    "for i in df.columns:\n",
    "    print(i)\n",
    "    print(df[i].unique())\n",
    "    print('-'*50)"
   ]
  },
  {
   "cell_type": "markdown",
   "id": "2cca37a9",
   "metadata": {},
   "source": [
    "#####UNRESRICTED_STOCK\n",
    "\n",
    "Delete outlier"
   ]
  },
  {
   "cell_type": "code",
   "execution_count": 87,
   "id": "73f10fe9",
   "metadata": {},
   "outputs": [
    {
     "data": {
      "text/plain": [
       "<Axes: ylabel='UNRESRICTED_STOCK'>"
      ]
     },
     "execution_count": 87,
     "metadata": {},
     "output_type": "execute_result"
    },
    {
     "data": {
      "image/png": "[encoded data removed]",
      "text/plain": [
       "<Figure size 640x480 with 1 Axes>"
      ]
     },
     "metadata": {},
     "output_type": "display_data"
    }
   ],
   "source": [
    "#before\n",
    "sns.boxplot(df['UNRESRICTED_STOCK'])"
   ]
  },
  {
   "cell_type": "code",
   "execution_count": 88,
   "id": "60cbba3d",
   "metadata": {},
   "outputs": [],
   "source": [
    "def find_iqr(column):\n",
    "    q1 = df[column].quantile(0.25)\n",
    "    q3 = df[column].quantile(0.75)\n",
    "    iqr = q3 - q1\n",
    "    upper_bound = q3 + 1.5*iqr\n",
    "    lower_bound = q1 - 1.5*iqr\n",
    "    return (upper_bound,lower_bound)"
   ]
  },
  {
   "cell_type": "code",
   "execution_count": 89,
   "id": "a8e62c7e",
   "metadata": {},
   "outputs": [],
   "source": [
    "df_no_outlier = df[~((df['UNRESRICTED_STOCK'] <= find_iqr('UNRESRICTED_STOCK')[1]) | (df['UNRESRICTED_STOCK'] >= find_iqr('UNRESRICTED_STOCK')[0]) | (df['UNRESRICTED_STOCK'] >= 122_000))]"
   ]
  },
  {
   "cell_type": "code",
   "execution_count": 90,
   "id": "a9813605",
   "metadata": {},
   "outputs": [
    {
     "data": {
      "text/plain": [
       "<Axes: xlabel='UNRESRICTED_STOCK'>"
      ]
     },
     "execution_count": 90,
     "metadata": {},
     "output_type": "execute_result"
    },
    {
     "data": {
      "image/png": "[encoded data removed]",
      "text/plain": [
       "<Figure size 640x480 with 1 Axes>"
      ]
     },
     "metadata": {},
     "output_type": "display_data"
    }
   ],
   "source": [
    "sns.boxplot(x=df_no_outlier['UNRESRICTED_STOCK'])"
   ]
  },
  {
   "cell_type": "code",
   "execution_count": 91,
   "id": "08122b5d",
   "metadata": {},
   "outputs": [
    {
     "data": {
      "text/plain": [
       "<Axes: xlabel='STOCK_SELL_VALUE'>"
      ]
     },
     "execution_count": 91,
     "metadata": {},
     "output_type": "execute_result"
    },
    {
     "data": {
      "image/png": "[encoded data removed]",
      "text/plain": [
       "<Figure size 640x480 with 1 Axes>"
      ]
     },
     "metadata": {},
     "output_type": "display_data"
    }
   ],
   "source": [
    "sns.boxplot(x=df_no_outlier['STOCK_SELL_VALUE'])"
   ]
  },
  {
   "cell_type": "code",
   "execution_count": 92,
   "id": "a589b374",
   "metadata": {},
   "outputs": [
    {
     "data": {
      "text/plain": [
       "<Axes: xlabel='STOCK_SELL_VALUE'>"
      ]
     },
     "execution_count": 92,
     "metadata": {},
     "output_type": "execute_result"
    },
    {
     "data": {
      "image/png": "[encoded data removed]",
      "text/plain": [
       "<Figure size 640x480 with 1 Axes>"
      ]
     },
     "metadata": {},
     "output_type": "display_data"
    }
   ],
   "source": [
    "df_no_outlier_ = df_no_outlier[~((df_no_outlier['STOCK_SELL_VALUE'] <= find_iqr('STOCK_SELL_VALUE')[1]) | (df_no_outlier['STOCK_SELL_VALUE'] >= find_iqr('STOCK_SELL_VALUE')[0]) \n",
    "                      |(df_no_outlier['STOCK_SELL_VALUE'] >75_940) | (df_no_outlier['STOCK_SELL_VALUE'] == 0))]\n",
    "sns.boxplot(x=df_no_outlier_['STOCK_SELL_VALUE'])"
   ]
  },
  {
   "cell_type": "code",
   "execution_count": 93,
   "id": "27bd867c",
   "metadata": {},
   "outputs": [
    {
     "data": {
      "text/plain": [
       "65.92885089117519"
      ]
     },
     "execution_count": 93,
     "metadata": {},
     "output_type": "execute_result"
    }
   ],
   "source": [
    "(100*len(df_no_outlier_ ))/ len(df) #after delete outlier "
   ]
  },
  {
   "cell_type": "code",
   "execution_count": 94,
   "id": "f9e891f3",
   "metadata": {},
   "outputs": [
    {
     "data": {
      "text/html": [
       "<div>\n",
       "<style scoped>\n",
       "    .dataframe tbody tr th:only-of-type {\n",
       "        vertical-align: middle;\n",
       "    }\n",
       "\n",
       "    .dataframe tbody tr th {\n",
       "        vertical-align: top;\n",
       "    }\n",
       "\n",
       "    .dataframe thead th {\n",
       "        text-align: right;\n",
       "    }\n",
       "</style>\n",
       "<table border=\"1\" class=\"dataframe\">\n",
       "  <thead>\n",
       "    <tr style=\"text-align: right;\">\n",
       "      <th></th>\n",
       "      <th>BALANCE_AS_OF_DATE</th>\n",
       "      <th>PLANT_NAME</th>\n",
       "      <th>MATERIAL_NAME</th>\n",
       "      <th>BATCH_NUMBER</th>\n",
       "      <th>UNRESRICTED_STOCK</th>\n",
       "      <th>STOCK_UNIT</th>\n",
       "      <th>STOCK_SELL_VALUE</th>\n",
       "      <th>CURRENCY</th>\n",
       "    </tr>\n",
       "  </thead>\n",
       "  <tbody>\n",
       "    <tr>\n",
       "      <th>0</th>\n",
       "      <td>12/31/2023</td>\n",
       "      <td>CHINA-WAREHOUSE</td>\n",
       "      <td>MAT-0045</td>\n",
       "      <td>SCRAP</td>\n",
       "      <td>164</td>\n",
       "      <td>KG</td>\n",
       "      <td>211</td>\n",
       "      <td>CNY</td>\n",
       "    </tr>\n",
       "    <tr>\n",
       "      <th>1</th>\n",
       "      <td>12/31/2023</td>\n",
       "      <td>CHINA-WAREHOUSE</td>\n",
       "      <td>MAT-0193</td>\n",
       "      <td>6024</td>\n",
       "      <td>0</td>\n",
       "      <td>KG</td>\n",
       "      <td>87666</td>\n",
       "      <td>CNY</td>\n",
       "    </tr>\n",
       "    <tr>\n",
       "      <th>2</th>\n",
       "      <td>12/31/2023</td>\n",
       "      <td>CHINA-WAREHOUSE</td>\n",
       "      <td>MAT-0193</td>\n",
       "      <td>5755</td>\n",
       "      <td>70720</td>\n",
       "      <td>KG</td>\n",
       "      <td>414419</td>\n",
       "      <td>CNY</td>\n",
       "    </tr>\n",
       "    <tr>\n",
       "      <th>3</th>\n",
       "      <td>12/31/2023</td>\n",
       "      <td>CHINA-WAREHOUSE</td>\n",
       "      <td>MAT-0193</td>\n",
       "      <td>3142</td>\n",
       "      <td>12240</td>\n",
       "      <td>KG</td>\n",
       "      <td>71726</td>\n",
       "      <td>CNY</td>\n",
       "    </tr>\n",
       "    <tr>\n",
       "      <th>4</th>\n",
       "      <td>12/31/2023</td>\n",
       "      <td>CHINA-WAREHOUSE</td>\n",
       "      <td>MAT-0193</td>\n",
       "      <td>6734</td>\n",
       "      <td>2720</td>\n",
       "      <td>KG</td>\n",
       "      <td>15939</td>\n",
       "      <td>CNY</td>\n",
       "    </tr>\n",
       "  </tbody>\n",
       "</table>\n",
       "</div>"
      ],
      "text/plain": [
       "  BALANCE_AS_OF_DATE       PLANT_NAME MATERIAL_NAME BATCH_NUMBER  \\\n",
       "0         12/31/2023  CHINA-WAREHOUSE      MAT-0045        SCRAP   \n",
       "1         12/31/2023  CHINA-WAREHOUSE      MAT-0193         6024   \n",
       "2         12/31/2023  CHINA-WAREHOUSE      MAT-0193         5755   \n",
       "3         12/31/2023  CHINA-WAREHOUSE      MAT-0193         3142   \n",
       "4         12/31/2023  CHINA-WAREHOUSE      MAT-0193         6734   \n",
       "\n",
       "   UNRESRICTED_STOCK STOCK_UNIT  STOCK_SELL_VALUE CURRENCY  \n",
       "0                164         KG               211      CNY  \n",
       "1                  0         KG             87666      CNY  \n",
       "2              70720         KG            414419      CNY  \n",
       "3              12240         KG             71726      CNY  \n",
       "4               2720         KG             15939      CNY  "
      ]
     },
     "execution_count": 94,
     "metadata": {},
     "output_type": "execute_result"
    }
   ],
   "source": [
    "df.head()"
   ]
  },
  {
   "cell_type": "code",
   "execution_count": 95,
   "id": "31cfedbc",
   "metadata": {},
   "outputs": [],
   "source": [
    "df['dolla'] = df.apply(\n",
    "    lambda row: round(row['STOCK_SELL_VALUE'] * 0.14,2) if row['CURRENCY'] == 'CNY' else round(row['STOCK_SELL_VALUE'] / 7.85,2),\n",
    "    axis=1\n",
    ")\n"
   ]
  },
  {
   "cell_type": "markdown",
   "id": "2af6789b",
   "metadata": {},
   "source": [
    "Write down to CSV"
   ]
  },
  {
   "cell_type": "code",
   "execution_count": 102,
   "id": "6db4826f",
   "metadata": {},
   "outputs": [],
   "source": [
    "df_outlier = df[((df['UNRESRICTED_STOCK'] <= find_iqr('UNRESRICTED_STOCK')[1]) | (df['UNRESRICTED_STOCK'] >= find_iqr('UNRESRICTED_STOCK')[0]) | (df['UNRESRICTED_STOCK'] >= 122_000))]\n",
    "df_outlier_ =  df_no_outlier[((df_no_outlier['STOCK_SELL_VALUE'] <= find_iqr('STOCK_SELL_VALUE')[1]) | (df_no_outlier['STOCK_SELL_VALUE'] >= find_iqr('STOCK_SELL_VALUE')[0]) \n",
    "                      |(df_no_outlier['STOCK_SELL_VALUE'] >75_940) | (df_no_outlier['STOCK_SELL_VALUE'] == 0))]\n",
    "\n",
    "we_are_outlier = pd.concat([df_outlier,df_outlier_ ],axis=0)"
   ]
  },
  {
   "cell_type": "code",
   "execution_count": 103,
   "id": "6e051cab",
   "metadata": {},
   "outputs": [],
   "source": [
    "#we_are_outlier.to_csv('inventory_outlier', index=False,)"
   ]
  },
  {
   "cell_type": "code",
   "execution_count": 104,
   "id": "18368f7c",
   "metadata": {},
   "outputs": [],
   "source": [
    "#df_no_outlier_.to_csv('inventory_perfect', index=False)"
   ]
  }
 ],
 "metadata": {
  "kernelspec": {
   "display_name": "base",
   "language": "python",
   "name": "python3"
  },
  "language_info": {
   "codemirror_mode": {
    "name": "ipython",
    "version": 3
   },
   "file_extension": ".py",
   "mimetype": "text/x-python",
   "name": "python",
   "nbconvert_exporter": "python",
   "pygments_lexer": "ipython3",
   "version": "3.12.3"
  }
 },
 "nbformat": 4,
 "nbformat_minor": 5
}
